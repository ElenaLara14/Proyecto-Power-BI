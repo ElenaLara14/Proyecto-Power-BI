{
 "cells": [
  {
   "cell_type": "code",
   "execution_count": 2,
   "metadata": {},
   "outputs": [],
   "source": [
    "import pandas as pd\n",
    "import numpy as np\n",
    "\n",
    "from sklearn.impute import SimpleImputer\n",
    "from sklearn.experimental import enable_iterative_imputer\n",
    "from sklearn.impute import IterativeImputer\n",
    "from sklearn.impute import KNNImputer\n",
    "\n",
    "# >> Visualization\n",
    "import seaborn as sns\n",
    "import matplotlib.pyplot as plt\n",
    "\n",
    "import warnings\n",
    "from scipy.stats import chi2_contingency\n",
    "from IPython.display import display\n",
    "from itertools import combinations\n",
    "from scipy.stats import kstest, spearmanr, pearsonr\n",
    "warnings.filterwarnings(\"ignore\")\n",
    "pd.set_option('display.max_columns', None) # para poder visualizar todas las columnas de los DataFrames"
   ]
  },
  {
   "cell_type": "code",
   "execution_count": 3,
   "metadata": {},
   "outputs": [],
   "source": [
    "data = pd.read_csv(\"finanzas-hotel-bookings.csv\", index_col=0)"
   ]
  },
  {
   "cell_type": "code",
   "execution_count": null,
   "metadata": {},
   "outputs": [],
   "source": [
    "# Cambiar los nombres de las columnas a minúsculas y _\n",
    "data.columns = data.columns.str.lower().str.replace(' ', '_')\n"
   ]
  },
  {
   "cell_type": "code",
   "execution_count": null,
   "metadata": {},
   "outputs": [],
   "source": [
    "month_names = {\n",
    "    1: 'January', \n",
    "    2: 'February', \n",
    "    3: 'March' \n",
    "}\n",
    "columns_to_convert = [\"arrival_date_month\"]\n",
    "\n",
    "# Aplicar el diccionario a cada columna\n",
    "for col in columns_to_convert:\n",
    "    data[col] = data[col].map(month_names) # Usamos map para aplicar el valor del diccionario de meses a cada columna de map\n",
    "    data.head(2)\n",
    "\n",
    "data[\"arrival_date_month\"].value_counts()"
   ]
  },
  {
   "cell_type": "code",
   "execution_count": null,
   "metadata": {},
   "outputs": [],
   "source": [
    "# Cambiamos a float estas columnas para dar homogeneidad a los datos\n",
    "data[[\"\", \"\",\"\"]] = data[[\"\", \"\",\"\"]].astype(float)"
   ]
  },
  {
   "cell_type": "code",
   "execution_count": null,
   "metadata": {},
   "outputs": [],
   "source": [
    "#Eliminiacion de columna\n",
    "data.drop(\"\", axis=1)"
   ]
  },
  {
   "cell_type": "markdown",
   "metadata": {},
   "source": [
    "##NULOS"
   ]
  },
  {
   "cell_type": "code",
   "execution_count": 5,
   "metadata": {},
   "outputs": [],
   "source": [
    "# Calcular media/mediana para hacer fillna\n",
    "def change_null_for_unknown(self, column_list): # when doesnt exist a dominant category in categorical variable\n",
    "        # Iterate through the list of columns to replace nulls with \"Unknown\"\n",
    "        for column in column_list:\n",
    "            if column in self.df.columns:\n",
    "                # Replace nulls with the value \"Unknown\" for each column in the list\n",
    "                self.df[column] = self.df[column].fillna(\"Unknown\")\n",
    "            else:\n",
    "                print(f\"Warning: The column '{column}' does not exist in the DataFrame.\")\n",
    "        return self.df\n",
    "    \n",
    "def change_null_for_mode(self, column_list): # When we have a dominant category in categorical variables\n",
    "        for column in column_list:\n",
    "            if column in self.df.columns:\n",
    "                # Calculate the mode of the column\n",
    "                mode = self.df[column].mode()[0]\n",
    "                # Replace nulls with the mode for each column in the list\n",
    "                self.df[column] = self.df[column].fillna(mode)\n",
    "            else:\n",
    "                print(f\"Warning: The column '{column}' does not exist in the DataFrame.\")\n",
    "        return self.df\n",
    "    \n",
    "def change_null_for_mean(self, column_list): # when we have a 0-10% of nulls in numerical category and distribution is normal\n",
    "        # Iterate through the list of columns to replace nulls with mean\n",
    "        for column in column_list:\n",
    "            if column in self.df.columns:\n",
    "                    mean= self.df[column].mean()\n",
    "                # Replace nulls with the mode for each column in the list\n",
    "                    self.df[column] = self.df[column].fillna(mean)\n",
    "            else:\n",
    "                print(f\"Warning: The column '{column}' does not exist in the DataFrame.\")\n",
    "        return self.df\n",
    "    \n",
    "def change_null_for_median(self, column_list): # when we have a 0-10% of nulls in numerical category and distribution is atypical\n",
    "        # Iterate through the list of columns to replace nulls with median\n",
    "        for column in column_list:\n",
    "            if column in self.df.columns:\n",
    "                    median= self.df[column].median()\n",
    "                # Replace nulls with the mode for each column in the list\n",
    "                    self.df[column] = self.df[column].fillna(median)\n",
    "            else:\n",
    "                print(f\"Warning: The column '{column}' does not exist in the DataFrame.\")\n",
    "        return self.df"
   ]
  },
  {
   "cell_type": "code",
   "execution_count": null,
   "metadata": {},
   "outputs": [],
   "source": [
    "columns_modify = [\"\", \"\", \"\"]\n",
    "change_null_for_unknown(columns_modify) # cambiar nulos por Unknown\n",
    "\n",
    "# comprobamos si quedan nulos \n",
    "print(\"Después del reemplazo usando fillna quedan los siguientes nulos\")\n",
    "data[\"\"].isnull().sum()"
   ]
  },
  {
   "cell_type": "code",
   "execution_count": 6,
   "metadata": {},
   "outputs": [],
   "source": [
    "def impute_with_knn(self, column_list, n_neighbors=5): # when we have a numerical variable with more than 10% of nulls\n",
    "        # Create an instance of KNNImputer\n",
    "        imputer_knn = KNNImputer(n_neighbors=n_neighbors)\n",
    "\n",
    "        # Fit and transform the data\n",
    "        imputed_data = imputer_knn.fit_transform(self.df[column_list])\n",
    "\n",
    "        # Convert the result to a DataFrame\n",
    "        imputed_df = pd.DataFrame(imputed_data, columns=column_list)\n",
    "\n",
    "        # Add the imputed columns to the original DataFrame\n",
    "        for column in column_list:\n",
    "            self.df[f\"{column}_knn\"] = imputed_df[column]\n",
    "\n",
    "        return self.df"
   ]
  }
 ],
 "metadata": {
  "kernelspec": {
   "display_name": "base",
   "language": "python",
   "name": "python3"
  },
  "language_info": {
   "codemirror_mode": {
    "name": "ipython",
    "version": 3
   },
   "file_extension": ".py",
   "mimetype": "text/x-python",
   "name": "python",
   "nbconvert_exporter": "python",
   "pygments_lexer": "ipython3",
   "version": "3.11.9"
  }
 },
 "nbformat": 4,
 "nbformat_minor": 2
}
