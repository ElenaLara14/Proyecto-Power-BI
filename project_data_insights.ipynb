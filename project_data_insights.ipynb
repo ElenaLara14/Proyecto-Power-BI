{
 "cells": [
  {
   "cell_type": "code",
   "execution_count": 1,
   "metadata": {},
   "outputs": [],
   "source": [
    "import pandas as pd\n",
    "import numpy as np\n",
    "import matplotlib.pyplot as plt\n",
    "import seaborn as sns\n",
    "import warnings\n",
    "from scipy.stats import chi2_contingency\n",
    "from IPython.display import display\n",
    "from itertools import combinations\n",
    "from scipy.stats import kstest, spearmanr, pearsonr\n",
    "warnings.filterwarnings(\"ignore\")\n",
    "pd.set_option('display.max_columns', None) # para poder visualizar todas las columnas de los DataFrames\n",
    "\n",
    "\n",
    "class AutoEDA:\n",
    "\n",
    "    def __init__(self):\n",
    "        self.colors = [\"#2146B2\", \"#E0CA27\", \"#F8C895\", \"#D98162\", \"#F2EFEB\", \"#26261B\"]\n",
    "\n",
    "    def read_file(self, file_path):\n",
    "        \"\"\"\n",
    "        Reads a file and returns a pandas DataFrame.\n",
    "        \n",
    "        Parameters:\n",
    "        - file_path (str): The path to the file.\n",
    "        \n",
    "        Returns:\n",
    "        - DataFrame: A pandas DataFrame.\n",
    "        \"\"\"\n",
    "        # Determine the file extension\n",
    "        file_extension = file_path.split('.')[-1].lower()\n",
    "        \n",
    "        # Read the file based on the file extension\n",
    "        try:\n",
    "            if file_extension == 'csv':\n",
    "                return pd.read_csv(file_path, index_col=0)\n",
    "            elif file_extension in ['xls', 'xlsx']:\n",
    "                return pd.read_excel(file_path)\n",
    "            elif file_extension == 'json':\n",
    "                return pd.read_json(file_path)\n",
    "            elif file_extension == 'pkl':\n",
    "                return pd.read_pickle(file_path)\n",
    "            else:\n",
    "                raise ValueError(\"Reading this format is not yet implemented.\")\n",
    "        except Exception as e:\n",
    "            return f\"File reading failed, error: {e}.\"\n",
    "\n",
    "\n",
    "    def explo_df(self, DataFrame, column=None):\n",
    "        \"\"\"\n",
    "        Explores a DataFrame or a specific column and prints various statistics.\n",
    "        \n",
    "        Parameters:\n",
    "        - DataFrame: The DataFrame to explore.\n",
    "        - column (str or list, optional): The column or columns to explore. If None, explore the entire DataFrame.\n",
    "        \"\"\"\n",
    "        if column is None:\n",
    "            # General DataFrame exploration\n",
    "            print(\"DataFrame Information:\")\n",
    "            display(DataFrame.info())\n",
    "            print(\"\\nFirst 10 rows of the DataFrame:\")\n",
    "            display(DataFrame.head(10))\n",
    "            print(\"\\nLast 10 rows of the DataFrame:\")\n",
    "            display(DataFrame.tail(10))\n",
    "            print(\"\\nStatistical description of the DataFrame (numeric):\")\n",
    "            display(DataFrame.describe().T)\n",
    "            print(\"\\nStatistical description of the DataFrame (categorical):\")\n",
    "            display(DataFrame.describe(include='object').T)\n",
    "            print(\"\\nCount of null values per column:\")\n",
    "            display(DataFrame.isnull().sum())\n",
    "            print(\"\\nPercentage of null values per column (only columns with nulls):\")\n",
    "            null_percentage = round(DataFrame.isnull().sum()/DataFrame.shape[0]*100, 2)\n",
    "            display(null_percentage[null_percentage > 0])\n",
    "            print(\"\\nRows with all values as null:\")\n",
    "            all_null_rows = DataFrame[DataFrame.isnull().all(axis=1)]\n",
    "            if not all_null_rows.empty:\n",
    "                display(all_null_rows)\n",
    "            else:\n",
    "                print(\"There is no rows with all values as null.\")\n",
    "            print(\"\\nCount of duplicate rows:\")\n",
    "            display(DataFrame.duplicated().sum())\n",
    "        else:\n",
    "            # Column(s) exploration\n",
    "            if isinstance(column, str):\n",
    "                column = [column]  # Convert to list if a single column is passed as a string\n",
    "            for col in column:\n",
    "                print(f\"\\nExploration of the column: {col}\")\n",
    "                if DataFrame[col].dtype in ['int64', 'float64']:\n",
    "                    print(\"\\nStatistical description (numeric):\")\n",
    "                    display(DataFrame[col].describe())\n",
    "                else:\n",
    "                    print(\"\\nStatistical description (categorical):\")\n",
    "                    display(DataFrame[col].describe(include='object'))\n",
    "                print(f\"\\nCount of null values: {DataFrame[col].isnull().sum()}\")\n",
    "                print(f\"\\nUnique values: {DataFrame[col].unique()}\")\n",
    "                print(f\"\\nValue Counts: {DataFrame[col].value_counts()}\")\n",
    "                print(f\"\\nCount of duplicates in the column: {DataFrame.duplicated(subset=[col]).sum()}\")\n",
    "\n",
    "    \n",
    "    def __identify_linearity(self, dataframe, column_combinations_list):\n",
    "        \"\"\"\n",
    "        Identifies if the relationships between pairs of variables in a DataFrame are linear or not.\n",
    "\n",
    "        Parameters:\n",
    "        -----------\n",
    "        dataframe : pandas.DataFrame\n",
    "            The DataFrame containing the variables to be analyzed.\n",
    "\n",
    "        column_combinations_list : list of tuples\n",
    "            A list of tuples where each tuple contains two column names from the DataFrame to be analyzed.\n",
    "\n",
    "        Returns:\n",
    "        --------\n",
    "        linear_relationships : list of tuples\n",
    "            A list of tuples containing the names of the columns that have a linear relationship.\n",
    "\n",
    "        non_linear_relationships : list of tuples\n",
    "            A list of tuples containing the names of the columns that do not have a linear relationship.\n",
    "        \"\"\"\n",
    "        linear_relationships = []\n",
    "        non_linear_relationships = []\n",
    "\n",
    "        for pair in column_combinations_list: \n",
    "            # Perform the normality test\n",
    "            _, p_value1 = kstest(dataframe[pair[0]], \"norm\")\n",
    "            _, p_value2 = kstest(dataframe[pair[1]], \"norm\")\n",
    "\n",
    "            if p_value1 > 0.05 and p_value2 > 0.05:\n",
    "                linear_relationships.append(pair)\n",
    "            else:\n",
    "                non_linear_relationships.append(pair)\n",
    "\n",
    "        return linear_relationships, non_linear_relationships\n",
    "\n",
    "\n",
    "    def numeric_correlations(self, dataframe):\n",
    "        \"\"\"\n",
    "        Identifies correlations among numeric columns in the dataframe using Pearson or Spearman methods.\n",
    "\n",
    "        Parameters:\n",
    "        -----------\n",
    "        dataframe : pandas.DataFrame\n",
    "            The DataFrame containing the variables to analyze.\n",
    "\n",
    "        Returns:\n",
    "        --------\n",
    "        results : dict\n",
    "            A dictionary containing the correlation DataFrames. The keys are 'pearson' and 'spearman'.\n",
    "            If all relationships are either linear or non-linear, only one key will be present.\n",
    "        \"\"\"\n",
    "        # Select numeric columns\n",
    "        numerics = dataframe.select_dtypes(include=np.number).columns\n",
    "        \n",
    "        # Generate all possible combinations of numeric columns\n",
    "        num_combinations = list(combinations(numerics, 2))\n",
    "        \n",
    "        # Identify if the relationships are linear or non-linear\n",
    "        linear, non_linear = self.__identify_linearity(dataframe, num_combinations)\n",
    "        \n",
    "        # Initialize the results dictionary\n",
    "        results = {}\n",
    "\n",
    "        if linear:\n",
    "            # Apply Pearson correlation for linear relationships\n",
    "            linear_columns = set([item for sublist in linear for item in sublist])\n",
    "            df_pearson = dataframe[list(linear_columns)].corr(method=\"pearson\")\n",
    "            results['pearson'] = df_pearson\n",
    "\n",
    "        if non_linear:\n",
    "            # Apply Spearman correlation for non-linear relationships\n",
    "            non_linear_columns = set([item for sublist in non_linear for item in sublist])\n",
    "            df_spearman = dataframe[list(non_linear_columns)].corr(method=\"spearman\")\n",
    "            results['spearman'] = df_spearman\n",
    "        \n",
    "        return results\n",
    "\n",
    "\n",
    "    def classify_correlations(self, correlation_df):\n",
    "        \"\"\"\n",
    "        Classify the correlations in the given DataFrame into weak, moderate, and strong correlations.\n",
    "        \n",
    "        Parameters:\n",
    "        -----------\n",
    "        correlation_df : pandas.DataFrame\n",
    "            DataFrame containing the correlation values between pairs of variables.\n",
    "        \n",
    "        Returns:\n",
    "        --------\n",
    "        None\n",
    "        \"\"\"\n",
    "        weak_correlations = []\n",
    "        moderate_correlations = []\n",
    "        strong_correlations = []\n",
    "\n",
    "        # To avoid duplicates, use a set to register processed pairs\n",
    "        processed_pairs = set()\n",
    "\n",
    "        for row in correlation_df.index:\n",
    "            for col in correlation_df.columns:\n",
    "                if row != col and (col, row) not in processed_pairs:\n",
    "                    corr_value = correlation_df.at[row, col]\n",
    "                    processed_pairs.add((row, col))\n",
    "                    processed_pairs.add((col, row))\n",
    "\n",
    "                    if 0.1 <= abs(corr_value) < 0.3:\n",
    "                        weak_correlations.append((row, col, corr_value))\n",
    "                    elif 0.3 <= abs(corr_value) < 0.7:\n",
    "                        moderate_correlations.append((row, col, corr_value))\n",
    "                    elif abs(corr_value) >= 0.7:\n",
    "                        strong_correlations.append((row, col, corr_value))\n",
    "\n",
    "        # Print the results\n",
    "        print(\"Weak Correlations:\")\n",
    "        for item in weak_correlations:\n",
    "            print(f\"Between {item[0]} and {item[1]}: {item[2]:.2f}\")\n",
    "\n",
    "        print(\"\\nModerate Correlations:\")\n",
    "        for item in moderate_correlations:\n",
    "            print(f\"Between {item[0]} and {item[1]}: {item[2]:.2f}\")\n",
    "\n",
    "        print(\"\\nStrong Correlations:\")\n",
    "        for item in strong_correlations:\n",
    "            print(f\"Between {item[0]} and {item[1]}: {item[2]:.2f}\")\n",
    "\n",
    "        # Return None, as we're only printing the results\n",
    "        return None\n",
    "        # return weak_correlations, moderate_correlations, strong_correlations\n",
    "\n",
    "\n",
    "    def identify_categorical_cols(self, df):\n",
    "        return df.select_dtypes(include='O').columns\n",
    " \n",
    "    def __cramers_v(self, confusion_matrix):\n",
    "        chi2 = chi2_contingency(confusion_matrix)[0]\n",
    "        n = confusion_matrix.sum().sum()\n",
    "        r, k = confusion_matrix.shape\n",
    "        return np.sqrt(chi2 / (n * (min(k, r) - 1)))\n",
    "\n",
    "    def categorical_correlations(self, df, categorical_columns):\n",
    "        correlations = []\n",
    "        processed_pairs = set()  # Para rastrear los pares ya procesados\n",
    "\n",
    "        \n",
    "        for col1 in categorical_columns:\n",
    "            for col2 in categorical_columns:\n",
    "                if col1 != col2 and (col2, col1) not in processed_pairs:\n",
    "                    confusion_matrix = pd.crosstab(df[col1], df[col2])\n",
    "                    correlation = self.__cramers_v(confusion_matrix)\n",
    "                    correlations.append((col1, col2, correlation))\n",
    "                    processed_pairs.add((col1, col2))  # Añadir el par a los procesados\n",
    "\n",
    "        weak_correlations = [item for item in correlations if 0.1 <= item[2] < 0.3]\n",
    "        moderate_correlations = [item for item in correlations if 0.3 <= item[2] < 0.5]\n",
    "        strong_correlations = [item for item in correlations if item[2] >= 0.5]\n",
    "    \n",
    "        # Print the results\n",
    "        print(\"Weak Correlations:\")\n",
    "        for item in weak_correlations:\n",
    "            print(f\"Between {item[0]} and {item[1]}: {item[2]:.2f}\")\n",
    "\n",
    "        print(\"\\nModerate Correlations:\")\n",
    "        for item in moderate_correlations:\n",
    "            print(f\"Between {item[0]} and {item[1]}: {item[2]:.2f}\")\n",
    "\n",
    "        print(\"\\nStrong Correlations:\")\n",
    "        for item in strong_correlations:\n",
    "            print(f\"Between {item[0]} and {item[1]}: {item[2]:.2f}\")\n",
    "\n",
    "        # Return None, as we're only printing the results\n",
    "        return None\n",
    "\n",
    "\n",
    "    def plot_histogram(self, df, column, bins=10, title=None, xlabel=None, ylabel='Frequency'):\n",
    "        \"\"\"\n",
    "        Plot a histogram for a given column in the DataFrame.\n",
    "\n",
    "        Parameters:\n",
    "        -----------\n",
    "        df : pandas.DataFrame\n",
    "            The DataFrame containing the data.\n",
    "        column : str\n",
    "            The column for which the histogram is to be plotted.\n",
    "        bins : int, optional (default=10)\n",
    "            Number of bins for the histogram.\n",
    "        title : str, optional\n",
    "            Title of the plot.\n",
    "        xlabel : str, optional\n",
    "            Label for the x-axis.\n",
    "        ylabel : str, optional (default='Frequency')\n",
    "            Label for the y-axis.\n",
    "        \"\"\"\n",
    "        color = self.colors[0] # Choose a color from the color palette\n",
    "        plt.figure(figsize=(8, 4))\n",
    "        plt.hist(df[column].dropna(), bins=bins, edgecolor='k', color=color)\n",
    "        plt.title(title if title else f'Histogram of {column}')\n",
    "        plt.xlabel(xlabel if xlabel else column)\n",
    "        plt.ylabel(ylabel)\n",
    "        plt.show()\n",
    "\n",
    "\n",
    "    def plot_scatter(self, df, x_column, y_column, title=None, xlabel=None, ylabel=None):\n",
    "        \"\"\"\n",
    "        Plot a scatter plot for two given columns in the DataFrame.\n",
    "\n",
    "        Parameters:\n",
    "        -----------\n",
    "        df : pandas.DataFrame\n",
    "            The DataFrame containing the data.\n",
    "        x_column : str\n",
    "            The column for the x-axis.\n",
    "        y_column : str\n",
    "            The column for the y-axis.\n",
    "        title : str, optional\n",
    "            Title of the plot.\n",
    "        xlabel : str, optional\n",
    "            Label for the x-axis.\n",
    "        ylabel : str, optional\n",
    "            Label for the y-axis.\n",
    "        \"\"\"\n",
    "        color = self.colors[1] # Choose a color from the color palette\n",
    "        plt.figure(figsize=(8, 4))\n",
    "        plt.scatter(df[x_column], df[y_column], color=color)\n",
    "        plt.title(title if title else f'Scatter Plot of {x_column} vs {y_column}')\n",
    "        plt.xlabel(xlabel if xlabel else x_column)\n",
    "        plt.ylabel(ylabel if ylabel else y_column)\n",
    "        plt.show()\n",
    "\n",
    "\n",
    "    def plot_boxplot(self, df, column1, column2=None, title=None, xlabel=None, ylabel='Value'):\n",
    "        \"\"\"\n",
    "        Plot a boxplot for one column or a comparison of two columns in the DataFrame.\n",
    "\n",
    "        Parameters:\n",
    "        -----------\n",
    "        df : pandas.DataFrame\n",
    "            The DataFrame containing the data.\n",
    "        column1 : str\n",
    "            The primary column for which the boxplot is to be plotted.\n",
    "        column2 : str, optional\n",
    "            The secondary column to compare with the primary column (for grouped boxplot).\n",
    "        title : str, optional\n",
    "            Title of the plot.\n",
    "        xlabel : str, optional\n",
    "            Label for the x-axis.\n",
    "        ylabel : str, optional (default='Value')\n",
    "            Label for the y-axis.\n",
    "        \"\"\"\n",
    "        if column2 is None:\n",
    "            # Single column boxplot\n",
    "            plt.figure(figsize=(8, 4))\n",
    "            sns.boxplot(y=df[column1], color=self.colors[3])\n",
    "            plt.title(title if title else f'Boxplot of {column1}')\n",
    "            plt.ylabel(ylabel)\n",
    "            plt.show()\n",
    "        else:\n",
    "            # Comparison of two columns\n",
    "            plt.figure(figsize=(10, 6))\n",
    "            sns.boxplot(x=df[column2], y=df[column1], palette=self.colors)\n",
    "            plt.title(title if title else f'Boxplot of {column1} by {column2}')\n",
    "            plt.xlabel(column2)\n",
    "            plt.ylabel(ylabel)\n",
    "            plt.show()\n",
    "\n",
    "\n",
    "    def visualize_pairplot(self, dataframe, columns, hue=None, height=5):\n",
    "        \"\"\"\n",
    "        Visualize pair plots for selected columns of the DataFrame.\n",
    "        \n",
    "        Parameters:\n",
    "        -----------\n",
    "        dataframe : pandas.DataFrame\n",
    "            The DataFrame containing the data to be visualized.\n",
    "        \n",
    "        columns : list of str\n",
    "            List of column names to be included in the pair plot.\n",
    "        \n",
    "        hue : str, optional, default: None\n",
    "            Column name to be used for color encoding.\n",
    "        \n",
    "        height : int, optional, default: 5\n",
    "            Height of each facet in inches.\n",
    "        \n",
    "        Returns:\n",
    "        --------\n",
    "        None\n",
    "        \"\"\"\n",
    "        if not all(col in dataframe.columns for col in columns):\n",
    "            raise ValueError(\"One or more columns are not in the DataFrame.\")\n",
    "        \n",
    "        # Create the pairplot with the specified hue and color palette\n",
    "        pairplot = sns.pairplot(dataframe[columns + [hue]] if hue else dataframe[columns], \n",
    "                               hue=hue, palette=self.colors, height=height)\n",
    "\n",
    "        plt.tight_layout()\n",
    "        plt.show()\n",
    "\n",
    "    def visualize_categorical_counts(self, dataframe, categorical_cols):\n",
    "        \"\"\"\n",
    "        Visualize count plots for categorical columns in the DataFrame.\n",
    "        \n",
    "        Parameters:\n",
    "        -----------\n",
    "        dataframe : pandas.DataFrame\n",
    "            The DataFrame containing the data to be visualized.\n",
    "        \n",
    "        categorical_cols : list of str\n",
    "            List of categorical column names to be included in the count plots.\n",
    "        \n",
    "        Returns:\n",
    "        --------\n",
    "        None\n",
    "        \"\"\"\n",
    "        num_cols = len(categorical_cols)\n",
    "        num_rows = (num_cols + 1) // 2  # Calculate number of rows needed for subplots\n",
    "        fig, ax = plt.subplots(num_rows, 2, figsize=(10, num_rows * 4))\n",
    "        fig.subplots_adjust(hspace=0.5)\n",
    "        \n",
    "        # Flatten the axes array for easier indexing\n",
    "        if num_rows > 1:\n",
    "            ax = ax.flatten()\n",
    "        else:\n",
    "            ax = [ax]\n",
    "        \n",
    "        def count_plotter(ax, col, data, colors):\n",
    "            counted = data[col].value_counts()\n",
    "            palette = colors[:len(counted)]  # Use only as many colors as there are categories\n",
    "            sns.barplot(ax=ax, x=counted.index, y=counted.values, width=0.9, palette=palette)\n",
    "            ax.set_title(f\"{col} count graph\")\n",
    "            if col in ['JobRole', 'EducationField']:\n",
    "                ax.set_xticklabels(labels=counted.index, rotation=90, fontsize=6)\n",
    "            else:\n",
    "                ax.set_xticklabels(labels=counted.index, fontsize=8)\n",
    "\n",
    "        for i, category in enumerate(categorical_cols):\n",
    "            if i < len(ax):\n",
    "                count_plotter(ax[i], category, data=dataframe, colors=self.colors)\n",
    "            else:\n",
    "                # Hide unused subplots\n",
    "                ax[i].axis('off')\n",
    "\n",
    "        plt.show()\n",
    "\n",
    "    def visualize_facet_grid(self, df, col_names, x_values):\n",
    "        \"\"\"\n",
    "        Create FacetGrid plots for given categorical columns and numerical values.\n",
    "\n",
    "        Parameters:\n",
    "        -----------\n",
    "        df : pandas.DataFrame\n",
    "            The DataFrame containing the data to be visualized.\n",
    "        \n",
    "        col_names : list of str\n",
    "            List of categorical column names to be used for facets.\n",
    "        \n",
    "        x_values : list of str\n",
    "            List of numerical column names to be plotted on the x-axis.\n",
    "        \n",
    "        hue : str, optional, default: 'Gender'\n",
    "            Column name to be used for color encoding.\n",
    "        \n",
    "        Returns:\n",
    "        --------\n",
    "        None\n",
    "        \"\"\"\n",
    "        if len(col_names) != len(x_values):\n",
    "            raise ValueError(\"Length of col_names and x_values must be the same.\")\n",
    "        \n",
    "        for col_name, x_value in zip(col_names, x_values):\n",
    "            facet = sns.FacetGrid(df, col=col_name, hue=hue, aspect=1, palette=self.colors, col_wrap=3)\n",
    "            facet.map(sns.kdeplot, x_value, fill=True)\n",
    "            facet.set(xlim=[0, df[x_value].max()])\n",
    "            facet.add_legend(label_order=df[hue].unique())\n",
    "            plt.tight_layout()\n",
    "            plt.show()\n",
    "\n",
    "    def visualize_general_statistics(self, df, df_heatmap1, df_heatmap2):\n",
    "        \"\"\"\n",
    "        Create a series of general statistics visualizations using subplots.\n",
    "        \n",
    "        Parameters:\n",
    "        -----------\n",
    "        df : pandas.DataFrame\n",
    "            The DataFrame containing the data to be visualized.\n",
    "        \n",
    "        df_heatmap1 : pandas.DataFrame\n",
    "            DataFrame for the first heatmap.\n",
    "        \n",
    "        df_heatmap2 : pandas.DataFrame\n",
    "            DataFrame for the second heatmap.\n",
    "        \n",
    "        Returns:\n",
    "        --------\n",
    "        None\n",
    "        \"\"\"\n",
    "        fig, ax = plt.subplots(3, 2, figsize=(15, 13))\n",
    "        fig.suptitle('General Statistics')\n",
    "        fig.subplots_adjust(wspace=0.4, hspace=0.5)\n",
    "        \n",
    "        # Boxplot for Department vs. Total Working Years\n",
    "        sns.boxplot(ax=ax[0, 0], data=df, y='department', x='total_working_years', hue='gender', palette=self.colors[:2])\n",
    "        ax[0, 0].set_title('Ages by Department', fontsize=14)\n",
    "        \n",
    "        # Boxplot for Education Field vs. Age\n",
    "        sns.boxplot(ax=ax[0, 1], data=df, y='education_field', x='age', hue='gender', palette=self.colors[:2])\n",
    "        ax[0, 1].set_title('Ages by Education Field', fontsize=14)\n",
    "        \n",
    "        # Heatmap for Job Role-Satisfaction Mapping\n",
    "        sns.heatmap(ax=ax[1, 0], data=df_heatmap1, square=True, linewidth=1, cmap='Reds')\n",
    "        ax[1, 0].set_title('Job Role-Satisfaction Mapping', fontsize=14)\n",
    "        \n",
    "        # Heatmap for Job Level-Involvement Mapping\n",
    "        sns.heatmap(ax=ax[1, 1], data=df_heatmap2, square=True, linewidth=1, cmap='Blues')\n",
    "        ax[1, 1].set_title('Job Level-Involvement Mapping', fontsize=14)\n",
    "        \n",
    "        # Histogram for Distribution of Salary Percent Hike\n",
    "        sns.histplot(ax=ax[2, 0], data=df, x='percent_salary_hike', hue='gender', multiple='stack', palette=self.colors)\n",
    "        ax[2, 0].set_title('Distribution of Salary Percent Hike', fontsize=14)\n",
    "        \n",
    "        # Histogram for Distribution of Years at Company\n",
    "        sns.histplot(ax=ax[2, 1], data=df, x='years_at_company', hue='gender', multiple='stack', palette=self.colors)\n",
    "        ax[2, 1].set_title('Distribution of Years at Company', fontsize=14)\n",
    "        \n",
    "        plt.show()\n",
    "\n",
    "\n",
    "    def pieplot(self, data, columns, titles=None, explode_ratio=0.05):\n",
    "        \"\"\"\n",
    "        Generates pie plots for specified columns in the dataframe and arranges them in a single row.\n",
    "\n",
    "        Parameters:\n",
    "        - data: pd.DataFrame, the dataframe containing the data.\n",
    "        - columns: list of str, the names of the columns to plot.\n",
    "        - titles: list of str, optional, titles for each pie plot.\n",
    "        - explode_ratio: float, optional, the fraction by which to offset each wedge.\n",
    "\n",
    "        Returns:\n",
    "        - None, displays the pie plots.\n",
    "        \"\"\"\n",
    "        def categorize_value(val):\n",
    "            if val == 1:\n",
    "                return 'Bajo'\n",
    "            elif val == 2:\n",
    "                return 'Medio Bajo'\n",
    "            elif val == 3:\n",
    "                return 'Medio Alto'\n",
    "            elif val == 4:\n",
    "                return 'Alto'\n",
    "\n",
    "        # self.colors = [\"#2146B2\", \"#E0CA27\", \"#F8C895\", \"#D98162\", \"#F2EFEB\", \"#26261B\"]\n",
    "\n",
    "\n",
    "        # Define a consistent color mapping for the categories\n",
    "        color_mapping = {\n",
    "            'Bajo': '#2146B2',        \n",
    "            'Medio Bajo': '#E0CA27', \n",
    "            'Medio Alto': '#F8C895', \n",
    "            'Alto': '#D98162'      \n",
    "        }\n",
    "\n",
    "        num_columns = len(columns)\n",
    "        \n",
    "        if titles is None:\n",
    "            titles = [None] * num_columns\n",
    "        \n",
    "        if num_columns == 0:\n",
    "            raise ValueError(\"The 'columns' list must contain at least one column.\")\n",
    "        \n",
    "        # Determine layout for subplots\n",
    "        fig, axs = plt.subplots(1, num_columns, figsize=(num_columns * 5, 5))\n",
    "        \n",
    "        # Handle the case where there is only one column\n",
    "        if num_columns == 1:\n",
    "            axs = [axs]\n",
    "        \n",
    "        for ax, col, title in zip(axs, columns, titles):\n",
    "            # Apply the categorization function to convert numeric values to categories\n",
    "            categorized_data = data[col].apply(categorize_value).value_counts()\n",
    "            \n",
    "            # Create the explode configuration\n",
    "            explode = [explode_ratio] * len(categorized_data)\n",
    "            \n",
    "            # Generate the pie plot\n",
    "            wedges, texts, autotexts = ax.pie(\n",
    "                categorized_data,\n",
    "                labels=categorized_data.index,\n",
    "                autopct='%1.1f%%',\n",
    "                startangle=140,\n",
    "                colors=[color_mapping[label] for label in categorized_data.index],\n",
    "                explode=explode,\n",
    "                shadow=True\n",
    "            )\n",
    "            \n",
    "            # Set title if provided\n",
    "            if title:\n",
    "                ax.set_title(title, fontsize=16)\n",
    "        \n",
    "        plt.tight_layout()\n",
    "        plt.show()\n",
    "\n",
    "\n",
    "    def boxplot_distribution(self, data, category_column, value_column, title=None):    \n",
    "        \"\"\"\n",
    "        Generates a boxplot to show the distribution of a numerical value across different categories.\n",
    "\n",
    "        Parameters:\n",
    "        - data: pd.DataFrame, the dataframe containing the data.\n",
    "        - category_column: str, the name of the categorical column (e.g., products).\n",
    "        - value_column: str, the name of the numerical column (e.g., price).\n",
    "        - title: str, optional, the title of the plot.\n",
    "\n",
    "        Returns:\n",
    "        - None, displays the boxplot.\n",
    "        \"\"\"\n",
    "        plt.figure(figsize=(12, 6))\n",
    "        \n",
    "        # Create the boxplot using seaborn\n",
    "        sns.boxplot(x=data[category_column], y=data[value_column], palette=self.colors)\n",
    "        \n",
    "        # Add title if provided\n",
    "        if title:\n",
    "            plt.title(title, fontsize=16)\n",
    "        \n",
    "        # Add labels\n",
    "        plt.xlabel(category_column.capitalize())\n",
    "        plt.ylabel(value_column.capitalize())\n",
    "        \n",
    "        plt.xticks(rotation=45)  # Rotate x-axis labels if needed for better readability\n",
    "        plt.tight_layout()\n",
    "        plt.show()\n",
    "\n"
   ]
  },
  {
   "cell_type": "code",
   "execution_count": 2,
   "metadata": {},
   "outputs": [],
   "source": [
    "df = AutoEDA()"
   ]
  },
  {
   "cell_type": "code",
   "execution_count": 5,
   "metadata": {},
   "outputs": [],
   "source": [
    "data = pd.read_csv(\"finanzas-hotel-bookings.csv\", index_col=0)\n"
   ]
  },
  {
   "cell_type": "code",
   "execution_count": 8,
   "metadata": {},
   "outputs": [
    {
     "data": {
      "text/html": [
       "<div>\n",
       "<style scoped>\n",
       "    .dataframe tbody tr th:only-of-type {\n",
       "        vertical-align: middle;\n",
       "    }\n",
       "\n",
       "    .dataframe tbody tr th {\n",
       "        vertical-align: top;\n",
       "    }\n",
       "\n",
       "    .dataframe thead th {\n",
       "        text-align: right;\n",
       "    }\n",
       "</style>\n",
       "<table border=\"1\" class=\"dataframe\">\n",
       "  <thead>\n",
       "    <tr style=\"text-align: right;\">\n",
       "      <th></th>\n",
       "      <th>hotel</th>\n",
       "      <th>is_canceled</th>\n",
       "      <th>lead_time</th>\n",
       "      <th>arrival_date_year</th>\n",
       "      <th>arrival_date_month</th>\n",
       "      <th>arrival_date_week_number</th>\n",
       "      <th>arrival_date_day_of_month</th>\n",
       "      <th>stays_in_weekend_nights</th>\n",
       "      <th>stays_in_week_nights</th>\n",
       "      <th>adults</th>\n",
       "      <th>children</th>\n",
       "      <th>babies</th>\n",
       "      <th>meal</th>\n",
       "      <th>country</th>\n",
       "      <th>market_segment</th>\n",
       "      <th>distribution_channel</th>\n",
       "      <th>is_repeated_guest</th>\n",
       "      <th>previous_cancellations</th>\n",
       "      <th>previous_bookings_not_canceled</th>\n",
       "      <th>reserved_room_type</th>\n",
       "      <th>assigned_room_type</th>\n",
       "      <th>booking_changes</th>\n",
       "      <th>agent</th>\n",
       "      <th>company</th>\n",
       "      <th>days_in_waiting_list</th>\n",
       "      <th>customer_type</th>\n",
       "      <th>adr</th>\n",
       "      <th>required_car_parking_spaces</th>\n",
       "      <th>total_of_special_requests</th>\n",
       "      <th>reservation_status</th>\n",
       "      <th>reservation_status_date</th>\n",
       "      <th>0</th>\n",
       "    </tr>\n",
       "  </thead>\n",
       "  <tbody>\n",
       "    <tr>\n",
       "      <th>0</th>\n",
       "      <td>Resort Hotel</td>\n",
       "      <td>False</td>\n",
       "      <td>342.0</td>\n",
       "      <td>2015.0</td>\n",
       "      <td>July</td>\n",
       "      <td>27.0</td>\n",
       "      <td>1.0</td>\n",
       "      <td>0.0</td>\n",
       "      <td>0.0</td>\n",
       "      <td>2.0</td>\n",
       "      <td>NaN</td>\n",
       "      <td>0.0</td>\n",
       "      <td>BB</td>\n",
       "      <td>PRT</td>\n",
       "      <td>NaN</td>\n",
       "      <td>Direct</td>\n",
       "      <td>0.0</td>\n",
       "      <td>NaN</td>\n",
       "      <td>0.0</td>\n",
       "      <td>C</td>\n",
       "      <td>C</td>\n",
       "      <td>3.0</td>\n",
       "      <td>NaN</td>\n",
       "      <td>NaN</td>\n",
       "      <td>0.0</td>\n",
       "      <td>Transient</td>\n",
       "      <td>0.0</td>\n",
       "      <td>0.0</td>\n",
       "      <td>0.0</td>\n",
       "      <td>Check-Out</td>\n",
       "      <td>2015-07-01 00:00:00</td>\n",
       "      <td>NaN</td>\n",
       "    </tr>\n",
       "    <tr>\n",
       "      <th>1</th>\n",
       "      <td>Resort Hotel</td>\n",
       "      <td>False</td>\n",
       "      <td>737.0</td>\n",
       "      <td>NaN</td>\n",
       "      <td>July</td>\n",
       "      <td>27.0</td>\n",
       "      <td>1.0</td>\n",
       "      <td>0.0</td>\n",
       "      <td>0.0</td>\n",
       "      <td>2.0</td>\n",
       "      <td>NaN</td>\n",
       "      <td>0.0</td>\n",
       "      <td>BB</td>\n",
       "      <td>NaN</td>\n",
       "      <td>NaN</td>\n",
       "      <td>Direct</td>\n",
       "      <td>0.0</td>\n",
       "      <td>0.0</td>\n",
       "      <td>0.0</td>\n",
       "      <td>NaN</td>\n",
       "      <td>C</td>\n",
       "      <td>4.0</td>\n",
       "      <td>NaN</td>\n",
       "      <td>NaN</td>\n",
       "      <td>0.0</td>\n",
       "      <td>Transient</td>\n",
       "      <td>0.0</td>\n",
       "      <td>0.0</td>\n",
       "      <td>0.0</td>\n",
       "      <td>Check-Out</td>\n",
       "      <td>2015-07-01 00:00:00</td>\n",
       "      <td>NaN</td>\n",
       "    </tr>\n",
       "    <tr>\n",
       "      <th>2</th>\n",
       "      <td>Resort Hotel</td>\n",
       "      <td>False</td>\n",
       "      <td>7.0</td>\n",
       "      <td>2015.0</td>\n",
       "      <td>July</td>\n",
       "      <td>27.0</td>\n",
       "      <td>1.0</td>\n",
       "      <td>0.0</td>\n",
       "      <td>1.0</td>\n",
       "      <td>1.0</td>\n",
       "      <td>0.0</td>\n",
       "      <td>0.0</td>\n",
       "      <td>BB</td>\n",
       "      <td>GBR</td>\n",
       "      <td>NaN</td>\n",
       "      <td>Direct</td>\n",
       "      <td>0.0</td>\n",
       "      <td>0.0</td>\n",
       "      <td>0.0</td>\n",
       "      <td>A</td>\n",
       "      <td>C</td>\n",
       "      <td>0.0</td>\n",
       "      <td>NaN</td>\n",
       "      <td>NaN</td>\n",
       "      <td>0.0</td>\n",
       "      <td>Transient</td>\n",
       "      <td>75.0</td>\n",
       "      <td>0.0</td>\n",
       "      <td>0.0</td>\n",
       "      <td>Check-Out</td>\n",
       "      <td>2015-07-02 00:00:00</td>\n",
       "      <td>NaN</td>\n",
       "    </tr>\n",
       "    <tr>\n",
       "      <th>3</th>\n",
       "      <td>Resort Hotel</td>\n",
       "      <td>False</td>\n",
       "      <td>13.0</td>\n",
       "      <td>NaN</td>\n",
       "      <td>July</td>\n",
       "      <td>27.0</td>\n",
       "      <td>1.0</td>\n",
       "      <td>0.0</td>\n",
       "      <td>1.0</td>\n",
       "      <td>1.0</td>\n",
       "      <td>NaN</td>\n",
       "      <td>0.0</td>\n",
       "      <td>BB</td>\n",
       "      <td>GBR</td>\n",
       "      <td>Corporate</td>\n",
       "      <td>Corporate</td>\n",
       "      <td>0.0</td>\n",
       "      <td>0.0</td>\n",
       "      <td>0.0</td>\n",
       "      <td>A</td>\n",
       "      <td>A</td>\n",
       "      <td>0.0</td>\n",
       "      <td>304.0</td>\n",
       "      <td>NaN</td>\n",
       "      <td>0.0</td>\n",
       "      <td>Transient</td>\n",
       "      <td>75.0</td>\n",
       "      <td>0.0</td>\n",
       "      <td>0.0</td>\n",
       "      <td>Check-Out</td>\n",
       "      <td>2015-07-02 00:00:00</td>\n",
       "      <td>NaN</td>\n",
       "    </tr>\n",
       "    <tr>\n",
       "      <th>4</th>\n",
       "      <td>Resort Hotel</td>\n",
       "      <td>False</td>\n",
       "      <td>14.0</td>\n",
       "      <td>NaN</td>\n",
       "      <td>July</td>\n",
       "      <td>NaN</td>\n",
       "      <td>1.0</td>\n",
       "      <td>0.0</td>\n",
       "      <td>2.0</td>\n",
       "      <td>2.0</td>\n",
       "      <td>NaN</td>\n",
       "      <td>0.0</td>\n",
       "      <td>BB</td>\n",
       "      <td>NaN</td>\n",
       "      <td>Online TA</td>\n",
       "      <td>TA/TO</td>\n",
       "      <td>0.0</td>\n",
       "      <td>0.0</td>\n",
       "      <td>0.0</td>\n",
       "      <td>A</td>\n",
       "      <td>A</td>\n",
       "      <td>0.0</td>\n",
       "      <td>240.0</td>\n",
       "      <td>NaN</td>\n",
       "      <td>0.0</td>\n",
       "      <td>Transient</td>\n",
       "      <td>98.0</td>\n",
       "      <td>0.0</td>\n",
       "      <td>1.0</td>\n",
       "      <td>Check-Out</td>\n",
       "      <td>2015-07-03 00:00:00</td>\n",
       "      <td>NaN</td>\n",
       "    </tr>\n",
       "  </tbody>\n",
       "</table>\n",
       "</div>"
      ],
      "text/plain": [
       "          hotel is_canceled  lead_time  arrival_date_year arrival_date_month  \\\n",
       "0  Resort Hotel       False      342.0             2015.0               July   \n",
       "1  Resort Hotel       False      737.0                NaN               July   \n",
       "2  Resort Hotel       False        7.0             2015.0               July   \n",
       "3  Resort Hotel       False       13.0                NaN               July   \n",
       "4  Resort Hotel       False       14.0                NaN               July   \n",
       "\n",
       "   arrival_date_week_number  arrival_date_day_of_month  \\\n",
       "0                      27.0                        1.0   \n",
       "1                      27.0                        1.0   \n",
       "2                      27.0                        1.0   \n",
       "3                      27.0                        1.0   \n",
       "4                       NaN                        1.0   \n",
       "\n",
       "   stays_in_weekend_nights  stays_in_week_nights  adults  children  babies  \\\n",
       "0                      0.0                   0.0     2.0       NaN     0.0   \n",
       "1                      0.0                   0.0     2.0       NaN     0.0   \n",
       "2                      0.0                   1.0     1.0       0.0     0.0   \n",
       "3                      0.0                   1.0     1.0       NaN     0.0   \n",
       "4                      0.0                   2.0     2.0       NaN     0.0   \n",
       "\n",
       "  meal country market_segment distribution_channel  is_repeated_guest  \\\n",
       "0   BB     PRT            NaN               Direct                0.0   \n",
       "1   BB     NaN            NaN               Direct                0.0   \n",
       "2   BB     GBR            NaN               Direct                0.0   \n",
       "3   BB     GBR      Corporate            Corporate                0.0   \n",
       "4   BB     NaN      Online TA                TA/TO                0.0   \n",
       "\n",
       "   previous_cancellations  previous_bookings_not_canceled reserved_room_type  \\\n",
       "0                     NaN                             0.0                  C   \n",
       "1                     0.0                             0.0                NaN   \n",
       "2                     0.0                             0.0                  A   \n",
       "3                     0.0                             0.0                  A   \n",
       "4                     0.0                             0.0                  A   \n",
       "\n",
       "  assigned_room_type  booking_changes  agent  company  days_in_waiting_list  \\\n",
       "0                  C              3.0    NaN      NaN                   0.0   \n",
       "1                  C              4.0    NaN      NaN                   0.0   \n",
       "2                  C              0.0    NaN      NaN                   0.0   \n",
       "3                  A              0.0  304.0      NaN                   0.0   \n",
       "4                  A              0.0  240.0      NaN                   0.0   \n",
       "\n",
       "  customer_type   adr  required_car_parking_spaces  total_of_special_requests  \\\n",
       "0     Transient   0.0                          0.0                        0.0   \n",
       "1     Transient   0.0                          0.0                        0.0   \n",
       "2     Transient  75.0                          0.0                        0.0   \n",
       "3     Transient  75.0                          0.0                        0.0   \n",
       "4     Transient  98.0                          0.0                        1.0   \n",
       "\n",
       "  reservation_status reservation_status_date    0  \n",
       "0          Check-Out     2015-07-01 00:00:00  NaN  \n",
       "1          Check-Out     2015-07-01 00:00:00  NaN  \n",
       "2          Check-Out     2015-07-02 00:00:00  NaN  \n",
       "3          Check-Out     2015-07-02 00:00:00  NaN  \n",
       "4          Check-Out     2015-07-03 00:00:00  NaN  "
      ]
     },
     "execution_count": 8,
     "metadata": {},
     "output_type": "execute_result"
    }
   ],
   "source": [
    "data.head()"
   ]
  },
  {
   "cell_type": "code",
   "execution_count": 16,
   "metadata": {},
   "outputs": [
    {
     "name": "stdout",
     "output_type": "stream",
     "text": [
      "Archivo cargado exitosamente\n",
      "Exploración de la columna: Unnamed: 0\n",
      "Descripción estadística:\n"
     ]
    },
    {
     "data": {
      "text/plain": [
       "count    182877.000000\n",
       "mean      91438.000000\n",
       "std       52792.186927\n",
       "min           0.000000\n",
       "25%       45719.000000\n",
       "50%       91438.000000\n",
       "75%      137157.000000\n",
       "max      182876.000000\n",
       "Name: Unnamed: 0, dtype: float64"
      ]
     },
     "metadata": {},
     "output_type": "display_data"
    },
    {
     "name": "stdout",
     "output_type": "stream",
     "text": [
      "Conteo de valores nulos:\n",
      "0\n",
      "Número de filas duplicadas:\n"
     ]
    },
    {
     "data": {
      "text/plain": [
       "0"
      ]
     },
     "metadata": {},
     "output_type": "display_data"
    },
    {
     "name": "stdout",
     "output_type": "stream",
     "text": [
      "Conteo de valores únicos:\n",
      "182877\n",
      "Conteo de valores:\n"
     ]
    },
    {
     "data": {
      "text/plain": [
       "Unnamed: 0\n",
       "0         1\n",
       "121933    1\n",
       "121913    1\n",
       "121914    1\n",
       "121915    1\n",
       "         ..\n",
       "60961     1\n",
       "60962     1\n",
       "60963     1\n",
       "60964     1\n",
       "182876    1\n",
       "Name: count, Length: 182877, dtype: int64"
      ]
     },
     "metadata": {},
     "output_type": "display_data"
    },
    {
     "name": "stdout",
     "output_type": "stream",
     "text": [
      "Valor más frecuente (moda):\n"
     ]
    },
    {
     "data": {
      "text/plain": [
       "0"
      ]
     },
     "metadata": {},
     "output_type": "display_data"
    },
    {
     "name": "stdout",
     "output_type": "stream",
     "text": [
      "------------------------------\n",
      "Exploración de la columna: hotel\n",
      "Descripción estadística:\n"
     ]
    },
    {
     "data": {
      "text/plain": [
       "count         119390\n",
       "unique             2\n",
       "top       City Hotel\n",
       "freq           79330\n",
       "Name: hotel, dtype: object"
      ]
     },
     "metadata": {},
     "output_type": "display_data"
    },
    {
     "name": "stdout",
     "output_type": "stream",
     "text": [
      "Conteo de valores nulos:\n",
      "63487\n",
      "Número de filas duplicadas:\n"
     ]
    },
    {
     "data": {
      "text/plain": [
       "182874"
      ]
     },
     "metadata": {},
     "output_type": "display_data"
    },
    {
     "name": "stdout",
     "output_type": "stream",
     "text": [
      "Conteo de valores únicos:\n",
      "2\n",
      "Conteo de valores:\n"
     ]
    },
    {
     "data": {
      "text/plain": [
       "hotel\n",
       "City Hotel      79330\n",
       "Resort Hotel    40060\n",
       "Name: count, dtype: int64"
      ]
     },
     "metadata": {},
     "output_type": "display_data"
    },
    {
     "name": "stdout",
     "output_type": "stream",
     "text": [
      "Valor más frecuente (moda):\n"
     ]
    },
    {
     "data": {
      "text/plain": [
       "'City Hotel'"
      ]
     },
     "metadata": {},
     "output_type": "display_data"
    },
    {
     "name": "stdout",
     "output_type": "stream",
     "text": [
      "------------------------------\n",
      "Exploración de la columna: is_canceled\n",
      "Descripción estadística:\n"
     ]
    },
    {
     "data": {
      "text/plain": [
       "count     119390\n",
       "unique         2\n",
       "top        False\n",
       "freq       75166\n",
       "Name: is_canceled, dtype: object"
      ]
     },
     "metadata": {},
     "output_type": "display_data"
    },
    {
     "name": "stdout",
     "output_type": "stream",
     "text": [
      "Conteo de valores nulos:\n",
      "63487\n",
      "Número de filas duplicadas:\n"
     ]
    },
    {
     "data": {
      "text/plain": [
       "182874"
      ]
     },
     "metadata": {},
     "output_type": "display_data"
    },
    {
     "name": "stdout",
     "output_type": "stream",
     "text": [
      "Conteo de valores únicos:\n",
      "2\n",
      "Conteo de valores:\n"
     ]
    },
    {
     "data": {
      "text/plain": [
       "is_canceled\n",
       "False    75166\n",
       "True     44224\n",
       "Name: count, dtype: int64"
      ]
     },
     "metadata": {},
     "output_type": "display_data"
    },
    {
     "name": "stdout",
     "output_type": "stream",
     "text": [
      "Valor más frecuente (moda):\n"
     ]
    },
    {
     "data": {
      "text/plain": [
       "False"
      ]
     },
     "metadata": {},
     "output_type": "display_data"
    },
    {
     "name": "stdout",
     "output_type": "stream",
     "text": [
      "------------------------------\n",
      "Exploración de la columna: lead_time\n",
      "Descripción estadística:\n"
     ]
    },
    {
     "data": {
      "text/plain": [
       "count    119490.000000\n",
       "mean        104.172628\n",
       "std         106.975949\n",
       "min           0.000000\n",
       "25%          18.000000\n",
       "50%          69.000000\n",
       "75%         161.000000\n",
       "max         737.000000\n",
       "Name: lead_time, dtype: float64"
      ]
     },
     "metadata": {},
     "output_type": "display_data"
    },
    {
     "name": "stdout",
     "output_type": "stream",
     "text": [
      "Conteo de valores nulos:\n",
      "63387\n",
      "Número de filas duplicadas:\n"
     ]
    },
    {
     "data": {
      "text/plain": [
       "182297"
      ]
     },
     "metadata": {},
     "output_type": "display_data"
    },
    {
     "name": "stdout",
     "output_type": "stream",
     "text": [
      "Conteo de valores únicos:\n",
      "579\n",
      "Conteo de valores:\n"
     ]
    },
    {
     "data": {
      "text/plain": [
       "lead_time\n",
       "0.000000      6345\n",
       "1.000000      3460\n",
       "2.000000      2069\n",
       "3.000000      1816\n",
       "4.000000      1715\n",
       "              ... \n",
       "359.478372       1\n",
       "310.531535       1\n",
       "207.269543       1\n",
       "274.258844       1\n",
       "341.238166       1\n",
       "Name: count, Length: 579, dtype: int64"
      ]
     },
     "metadata": {},
     "output_type": "display_data"
    },
    {
     "name": "stdout",
     "output_type": "stream",
     "text": [
      "Valor más frecuente (moda):\n"
     ]
    },
    {
     "data": {
      "text/plain": [
       "0.0"
      ]
     },
     "metadata": {},
     "output_type": "display_data"
    },
    {
     "name": "stdout",
     "output_type": "stream",
     "text": [
      "------------------------------\n",
      "Exploración de la columna: arrival_date_year\n",
      "Descripción estadística:\n"
     ]
    },
    {
     "data": {
      "text/plain": [
       "count    64829.000000\n",
       "mean      2016.156196\n",
       "std          0.706674\n",
       "min       2015.000000\n",
       "25%       2016.000000\n",
       "50%       2016.000000\n",
       "75%       2017.000000\n",
       "max       2017.000000\n",
       "Name: arrival_date_year, dtype: float64"
      ]
     },
     "metadata": {},
     "output_type": "display_data"
    },
    {
     "name": "stdout",
     "output_type": "stream",
     "text": [
      "Conteo de valores nulos:\n",
      "118048\n",
      "Número de filas duplicadas:\n"
     ]
    },
    {
     "data": {
      "text/plain": [
       "182873"
      ]
     },
     "metadata": {},
     "output_type": "display_data"
    },
    {
     "name": "stdout",
     "output_type": "stream",
     "text": [
      "Conteo de valores únicos:\n",
      "3\n",
      "Conteo de valores:\n"
     ]
    },
    {
     "data": {
      "text/plain": [
       "arrival_date_year\n",
       "2016.0    30873\n",
       "2017.0    22041\n",
       "2015.0    11915\n",
       "Name: count, dtype: int64"
      ]
     },
     "metadata": {},
     "output_type": "display_data"
    },
    {
     "name": "stdout",
     "output_type": "stream",
     "text": [
      "Valor más frecuente (moda):\n"
     ]
    },
    {
     "data": {
      "text/plain": [
       "2016.0"
      ]
     },
     "metadata": {},
     "output_type": "display_data"
    },
    {
     "name": "stdout",
     "output_type": "stream",
     "text": [
      "------------------------------\n",
      "Exploración de la columna: arrival_date_month\n",
      "Descripción estadística:\n"
     ]
    },
    {
     "data": {
      "text/plain": [
       "count     119390\n",
       "unique        15\n",
       "top       August\n",
       "freq       13877\n",
       "Name: arrival_date_month, dtype: object"
      ]
     },
     "metadata": {},
     "output_type": "display_data"
    },
    {
     "name": "stdout",
     "output_type": "stream",
     "text": [
      "Conteo de valores nulos:\n",
      "63487\n",
      "Número de filas duplicadas:\n"
     ]
    },
    {
     "data": {
      "text/plain": [
       "182861"
      ]
     },
     "metadata": {},
     "output_type": "display_data"
    },
    {
     "name": "stdout",
     "output_type": "stream",
     "text": [
      "Conteo de valores únicos:\n",
      "15\n",
      "Conteo de valores:\n"
     ]
    },
    {
     "data": {
      "text/plain": [
       "arrival_date_month\n",
       "August       13877\n",
       "July         12661\n",
       "May          11791\n",
       "October      11160\n",
       "April        11089\n",
       "June         10939\n",
       "September    10508\n",
       "November      6794\n",
       "December      6780\n",
       "March         5922\n",
       "February      4898\n",
       "3             3872\n",
       "January       3581\n",
       "2             3170\n",
       "1             2348\n",
       "Name: count, dtype: int64"
      ]
     },
     "metadata": {},
     "output_type": "display_data"
    },
    {
     "name": "stdout",
     "output_type": "stream",
     "text": [
      "Valor más frecuente (moda):\n"
     ]
    },
    {
     "data": {
      "text/plain": [
       "'August'"
      ]
     },
     "metadata": {},
     "output_type": "display_data"
    },
    {
     "name": "stdout",
     "output_type": "stream",
     "text": [
      "------------------------------\n",
      "Exploración de la columna: arrival_date_week_number\n",
      "Descripción estadística:\n"
     ]
    },
    {
     "data": {
      "text/plain": [
       "count    101004.000000\n",
       "mean         27.175785\n",
       "std          13.613871\n",
       "min           1.000000\n",
       "25%          16.000000\n",
       "50%          28.000000\n",
       "75%          38.000000\n",
       "max          53.000000\n",
       "Name: arrival_date_week_number, dtype: float64"
      ]
     },
     "metadata": {},
     "output_type": "display_data"
    },
    {
     "name": "stdout",
     "output_type": "stream",
     "text": [
      "Conteo de valores nulos:\n",
      "81873\n",
      "Número de filas duplicadas:\n"
     ]
    },
    {
     "data": {
      "text/plain": [
       "182823"
      ]
     },
     "metadata": {},
     "output_type": "display_data"
    },
    {
     "name": "stdout",
     "output_type": "stream",
     "text": [
      "Conteo de valores únicos:\n",
      "53\n",
      "Conteo de valores:\n"
     ]
    },
    {
     "data": {
      "text/plain": [
       "arrival_date_week_number\n",
       "33.0    3051\n",
       "30.0    2608\n",
       "34.0    2587\n",
       "32.0    2575\n",
       "18.0    2503\n",
       "28.0    2399\n",
       "21.0    2394\n",
       "17.0    2363\n",
       "20.0    2354\n",
       "29.0    2328\n",
       "42.0    2328\n",
       "31.0    2318\n",
       "41.0    2281\n",
       "38.0    2244\n",
       "27.0    2238\n",
       "15.0    2237\n",
       "25.0    2236\n",
       "35.0    2225\n",
       "39.0    2212\n",
       "23.0    2212\n",
       "22.0    2173\n",
       "24.0    2123\n",
       "16.0    2044\n",
       "19.0    2039\n",
       "13.0    2029\n",
       "40.0    2024\n",
       "26.0    2004\n",
       "43.0    1994\n",
       "44.0    1916\n",
       "14.0    1912\n",
       "8.0     1869\n",
       "37.0    1849\n",
       "36.0    1831\n",
       "7.0     1802\n",
       "10.0    1798\n",
       "9.0     1771\n",
       "12.0    1763\n",
       "11.0    1755\n",
       "45.0    1672\n",
       "53.0    1544\n",
       "49.0    1486\n",
       "47.0    1447\n",
       "46.0    1330\n",
       "48.0    1288\n",
       "6.0     1285\n",
       "4.0     1267\n",
       "50.0    1266\n",
       "5.0     1188\n",
       "3.0     1115\n",
       "2.0     1027\n",
       "52.0     993\n",
       "1.0      895\n",
       "51.0     812\n",
       "Name: count, dtype: int64"
      ]
     },
     "metadata": {},
     "output_type": "display_data"
    },
    {
     "name": "stdout",
     "output_type": "stream",
     "text": [
      "Valor más frecuente (moda):\n"
     ]
    },
    {
     "data": {
      "text/plain": [
       "33.0"
      ]
     },
     "metadata": {},
     "output_type": "display_data"
    },
    {
     "name": "stdout",
     "output_type": "stream",
     "text": [
      "------------------------------\n",
      "Exploración de la columna: arrival_date_day_of_month\n",
      "Descripción estadística:\n"
     ]
    },
    {
     "data": {
      "text/plain": [
       "count    119271.000000\n",
       "mean         15.795977\n",
       "std           8.780503\n",
       "min           1.000000\n",
       "25%           8.000000\n",
       "50%          16.000000\n",
       "75%          23.000000\n",
       "max          31.000000\n",
       "Name: arrival_date_day_of_month, dtype: float64"
      ]
     },
     "metadata": {},
     "output_type": "display_data"
    },
    {
     "name": "stdout",
     "output_type": "stream",
     "text": [
      "Conteo de valores nulos:\n",
      "63606\n",
      "Número de filas duplicadas:\n"
     ]
    },
    {
     "data": {
      "text/plain": [
       "182845"
      ]
     },
     "metadata": {},
     "output_type": "display_data"
    },
    {
     "name": "stdout",
     "output_type": "stream",
     "text": [
      "Conteo de valores únicos:\n",
      "31\n",
      "Conteo de valores:\n"
     ]
    },
    {
     "data": {
      "text/plain": [
       "arrival_date_day_of_month\n",
       "17.0    4402\n",
       "5.0     4315\n",
       "15.0    4191\n",
       "25.0    4155\n",
       "26.0    4139\n",
       "9.0     4094\n",
       "12.0    4081\n",
       "16.0    4072\n",
       "2.0     4052\n",
       "19.0    4047\n",
       "20.0    4027\n",
       "18.0    3998\n",
       "24.0    3993\n",
       "28.0    3940\n",
       "8.0     3917\n",
       "3.0     3852\n",
       "30.0    3847\n",
       "6.0     3832\n",
       "14.0    3817\n",
       "27.0    3797\n",
       "4.0     3762\n",
       "21.0    3758\n",
       "13.0    3744\n",
       "7.0     3665\n",
       "1.0     3619\n",
       "23.0    3610\n",
       "11.0    3598\n",
       "22.0    3594\n",
       "29.0    3577\n",
       "10.0    3572\n",
       "31.0    2204\n",
       "Name: count, dtype: int64"
      ]
     },
     "metadata": {},
     "output_type": "display_data"
    },
    {
     "name": "stdout",
     "output_type": "stream",
     "text": [
      "Valor más frecuente (moda):\n"
     ]
    },
    {
     "data": {
      "text/plain": [
       "17.0"
      ]
     },
     "metadata": {},
     "output_type": "display_data"
    },
    {
     "name": "stdout",
     "output_type": "stream",
     "text": [
      "------------------------------\n",
      "Exploración de la columna: stays_in_weekend_nights\n",
      "Descripción estadística:\n"
     ]
    },
    {
     "data": {
      "text/plain": [
       "count    119490.000000\n",
       "mean          0.939461\n",
       "std           1.082472\n",
       "min           0.000000\n",
       "25%           0.000000\n",
       "50%           1.000000\n",
       "75%           2.000000\n",
       "max          19.914715\n",
       "Name: stays_in_weekend_nights, dtype: float64"
      ]
     },
     "metadata": {},
     "output_type": "display_data"
    },
    {
     "name": "stdout",
     "output_type": "stream",
     "text": [
      "Conteo de valores nulos:\n",
      "63387\n",
      "Número de filas duplicadas:\n"
     ]
    },
    {
     "data": {
      "text/plain": [
       "182759"
      ]
     },
     "metadata": {},
     "output_type": "display_data"
    },
    {
     "name": "stdout",
     "output_type": "stream",
     "text": [
      "Conteo de valores únicos:\n",
      "117\n",
      "Conteo de valores:\n"
     ]
    },
    {
     "data": {
      "text/plain": [
       "stays_in_weekend_nights\n",
       "0.000000     51998\n",
       "2.000000     33308\n",
       "1.000000     30626\n",
       "4.000000      1855\n",
       "3.000000      1259\n",
       "             ...  \n",
       "11.989378        1\n",
       "10.800697        1\n",
       "10.149552        1\n",
       "19.672050        1\n",
       "17.791486        1\n",
       "Name: count, Length: 117, dtype: int64"
      ]
     },
     "metadata": {},
     "output_type": "display_data"
    },
    {
     "name": "stdout",
     "output_type": "stream",
     "text": [
      "Valor más frecuente (moda):\n"
     ]
    },
    {
     "data": {
      "text/plain": [
       "0.0"
      ]
     },
     "metadata": {},
     "output_type": "display_data"
    },
    {
     "name": "stdout",
     "output_type": "stream",
     "text": [
      "------------------------------\n",
      "Exploración de la columna: stays_in_week_nights\n",
      "Descripción estadística:\n"
     ]
    },
    {
     "data": {
      "text/plain": [
       "count    119490.000000\n",
       "mean          2.515068\n",
       "std           1.976511\n",
       "min           0.000000\n",
       "25%           1.000000\n",
       "50%           2.000000\n",
       "75%           3.000000\n",
       "max          50.000000\n",
       "Name: stays_in_week_nights, dtype: float64"
      ]
     },
     "metadata": {},
     "output_type": "display_data"
    },
    {
     "name": "stdout",
     "output_type": "stream",
     "text": [
      "Conteo de valores nulos:\n",
      "63387\n",
      "Número de filas duplicadas:\n"
     ]
    },
    {
     "data": {
      "text/plain": [
       "182741"
      ]
     },
     "metadata": {},
     "output_type": "display_data"
    },
    {
     "name": "stdout",
     "output_type": "stream",
     "text": [
      "Conteo de valores únicos:\n",
      "135\n",
      "Conteo de valores:\n"
     ]
    },
    {
     "data": {
      "text/plain": [
       "stays_in_week_nights\n",
       "2.000000     33684\n",
       "1.000000     30310\n",
       "3.000000     22258\n",
       "5.000000     11077\n",
       "4.000000      9563\n",
       "             ...  \n",
       "23.476129        1\n",
       "19.361901        1\n",
       "22.683324        1\n",
       "16.604701        1\n",
       "24.442690        1\n",
       "Name: count, Length: 135, dtype: int64"
      ]
     },
     "metadata": {},
     "output_type": "display_data"
    },
    {
     "name": "stdout",
     "output_type": "stream",
     "text": [
      "Valor más frecuente (moda):\n"
     ]
    },
    {
     "data": {
      "text/plain": [
       "2.0"
      ]
     },
     "metadata": {},
     "output_type": "display_data"
    },
    {
     "name": "stdout",
     "output_type": "stream",
     "text": [
      "------------------------------\n",
      "Exploración de la columna: adults\n",
      "Descripción estadística:\n"
     ]
    },
    {
     "data": {
      "text/plain": [
       "count    119428.000000\n",
       "mean          6.244423\n",
       "std          14.574814\n",
       "min           0.000000\n",
       "25%           2.000000\n",
       "50%           2.000000\n",
       "75%           2.000000\n",
       "max          59.000000\n",
       "Name: adults, dtype: float64"
      ]
     },
     "metadata": {},
     "output_type": "display_data"
    },
    {
     "name": "stdout",
     "output_type": "stream",
     "text": [
      "Conteo de valores nulos:\n",
      "63449\n",
      "Número de filas duplicadas:\n"
     ]
    },
    {
     "data": {
      "text/plain": [
       "182846"
      ]
     },
     "metadata": {},
     "output_type": "display_data"
    },
    {
     "name": "stdout",
     "output_type": "stream",
     "text": [
      "Conteo de valores únicos:\n",
      "30\n",
      "Conteo de valores:\n"
     ]
    },
    {
     "data": {
      "text/plain": [
       "adults\n",
       "2.0     82156\n",
       "1.0     21094\n",
       "3.0      5716\n",
       "59.0     1035\n",
       "54.0     1025\n",
       "51.0     1011\n",
       "58.0     1005\n",
       "50.0      999\n",
       "57.0      998\n",
       "53.0      984\n",
       "56.0      975\n",
       "55.0      959\n",
       "52.0      936\n",
       "0.0       369\n",
       "4.0        53\n",
       "19.0       17\n",
       "14.0       13\n",
       "15.0       12\n",
       "18.0       11\n",
       "11.0       11\n",
       "12.0       10\n",
       "10.0        9\n",
       "13.0        8\n",
       "16.0        6\n",
       "26.0        5\n",
       "17.0        4\n",
       "5.0         2\n",
       "20.0        2\n",
       "27.0        2\n",
       "6.0         1\n",
       "Name: count, dtype: int64"
      ]
     },
     "metadata": {},
     "output_type": "display_data"
    },
    {
     "name": "stdout",
     "output_type": "stream",
     "text": [
      "Valor más frecuente (moda):\n"
     ]
    },
    {
     "data": {
      "text/plain": [
       "2.0"
      ]
     },
     "metadata": {},
     "output_type": "display_data"
    },
    {
     "name": "stdout",
     "output_type": "stream",
     "text": [
      "------------------------------\n",
      "Exploración de la columna: children\n",
      "Descripción estadística:\n"
     ]
    },
    {
     "data": {
      "text/plain": [
       "count    69302.000000\n",
       "mean         0.125162\n",
       "std          0.688305\n",
       "min          0.000000\n",
       "25%          0.000000\n",
       "50%          0.000000\n",
       "75%          0.000000\n",
       "max         19.000000\n",
       "Name: children, dtype: float64"
      ]
     },
     "metadata": {},
     "output_type": "display_data"
    },
    {
     "name": "stdout",
     "output_type": "stream",
     "text": [
      "Conteo de valores nulos:\n",
      "113575\n",
      "Número de filas duplicadas:\n"
     ]
    },
    {
     "data": {
      "text/plain": [
       "182862"
      ]
     },
     "metadata": {},
     "output_type": "display_data"
    },
    {
     "name": "stdout",
     "output_type": "stream",
     "text": [
      "Conteo de valores únicos:\n",
      "14\n",
      "Conteo de valores:\n"
     ]
    },
    {
     "data": {
      "text/plain": [
       "children\n",
       "0.0     64221\n",
       "1.0      2797\n",
       "2.0      2138\n",
       "3.0        45\n",
       "18.0       17\n",
       "10.0       15\n",
       "14.0       15\n",
       "15.0       10\n",
       "11.0        9\n",
       "16.0        9\n",
       "17.0        8\n",
       "19.0        7\n",
       "13.0        6\n",
       "12.0        5\n",
       "Name: count, dtype: int64"
      ]
     },
     "metadata": {},
     "output_type": "display_data"
    },
    {
     "name": "stdout",
     "output_type": "stream",
     "text": [
      "Valor más frecuente (moda):\n"
     ]
    },
    {
     "data": {
      "text/plain": [
       "0.0"
      ]
     },
     "metadata": {},
     "output_type": "display_data"
    },
    {
     "name": "stdout",
     "output_type": "stream",
     "text": [
      "------------------------------\n",
      "Exploración de la columna: babies\n",
      "Descripción estadística:\n"
     ]
    },
    {
     "data": {
      "text/plain": [
       "count    119431.000000\n",
       "mean          0.019903\n",
       "std           0.433366\n",
       "min           0.000000\n",
       "25%           0.000000\n",
       "50%           0.000000\n",
       "75%           0.000000\n",
       "max          19.000000\n",
       "Name: babies, dtype: float64"
      ]
     },
     "metadata": {},
     "output_type": "display_data"
    },
    {
     "name": "stdout",
     "output_type": "stream",
     "text": [
      "Conteo de valores nulos:\n",
      "63446\n",
      "Número de filas duplicadas:\n"
     ]
    },
    {
     "data": {
      "text/plain": [
       "182862"
      ]
     },
     "metadata": {},
     "output_type": "display_data"
    },
    {
     "name": "stdout",
     "output_type": "stream",
     "text": [
      "Conteo de valores únicos:\n",
      "14\n",
      "Conteo de valores:\n"
     ]
    },
    {
     "data": {
      "text/plain": [
       "babies\n",
       "0.0     118414\n",
       "1.0        900\n",
       "10.0        17\n",
       "16.0        16\n",
       "12.0        16\n",
       "2.0         15\n",
       "19.0        12\n",
       "18.0         8\n",
       "17.0         7\n",
       "13.0         7\n",
       "15.0         7\n",
       "11.0         7\n",
       "14.0         4\n",
       "9.0          1\n",
       "Name: count, dtype: int64"
      ]
     },
     "metadata": {},
     "output_type": "display_data"
    },
    {
     "name": "stdout",
     "output_type": "stream",
     "text": [
      "Valor más frecuente (moda):\n"
     ]
    },
    {
     "data": {
      "text/plain": [
       "0.0"
      ]
     },
     "metadata": {},
     "output_type": "display_data"
    },
    {
     "name": "stdout",
     "output_type": "stream",
     "text": [
      "------------------------------\n",
      "Exploración de la columna: meal\n",
      "Descripción estadística:\n"
     ]
    },
    {
     "data": {
      "text/plain": [
       "count     119390\n",
       "unique         5\n",
       "top           BB\n",
       "freq       92310\n",
       "Name: meal, dtype: object"
      ]
     },
     "metadata": {},
     "output_type": "display_data"
    },
    {
     "name": "stdout",
     "output_type": "stream",
     "text": [
      "Conteo de valores nulos:\n",
      "63487\n",
      "Número de filas duplicadas:\n"
     ]
    },
    {
     "data": {
      "text/plain": [
       "182871"
      ]
     },
     "metadata": {},
     "output_type": "display_data"
    },
    {
     "name": "stdout",
     "output_type": "stream",
     "text": [
      "Conteo de valores únicos:\n",
      "5\n",
      "Conteo de valores:\n"
     ]
    },
    {
     "data": {
      "text/plain": [
       "meal\n",
       "BB           92310\n",
       "HB           14463\n",
       "SC           10650\n",
       "Undefined     1169\n",
       "FB             798\n",
       "Name: count, dtype: int64"
      ]
     },
     "metadata": {},
     "output_type": "display_data"
    },
    {
     "name": "stdout",
     "output_type": "stream",
     "text": [
      "Valor más frecuente (moda):\n"
     ]
    },
    {
     "data": {
      "text/plain": [
       "'BB'"
      ]
     },
     "metadata": {},
     "output_type": "display_data"
    },
    {
     "name": "stdout",
     "output_type": "stream",
     "text": [
      "------------------------------\n",
      "Exploración de la columna: country\n",
      "Descripción estadística:\n"
     ]
    },
    {
     "data": {
      "text/plain": [
       "count     65054\n",
       "unique      163\n",
       "top         PRT\n",
       "freq      26577\n",
       "Name: country, dtype: object"
      ]
     },
     "metadata": {},
     "output_type": "display_data"
    },
    {
     "name": "stdout",
     "output_type": "stream",
     "text": [
      "Conteo de valores nulos:\n",
      "117823\n",
      "Número de filas duplicadas:\n"
     ]
    },
    {
     "data": {
      "text/plain": [
       "182713"
      ]
     },
     "metadata": {},
     "output_type": "display_data"
    },
    {
     "name": "stdout",
     "output_type": "stream",
     "text": [
      "Conteo de valores únicos:\n",
      "163\n",
      "Conteo de valores:\n"
     ]
    },
    {
     "data": {
      "text/plain": [
       "country\n",
       "PRT    26577\n",
       "GBR     6585\n",
       "FRA     5756\n",
       "ESP     4712\n",
       "DEU     3972\n",
       "       ...  \n",
       "LIE        1\n",
       "NIC        1\n",
       "GGY        1\n",
       "FJI        1\n",
       "UMI        1\n",
       "Name: count, Length: 163, dtype: int64"
      ]
     },
     "metadata": {},
     "output_type": "display_data"
    },
    {
     "name": "stdout",
     "output_type": "stream",
     "text": [
      "Valor más frecuente (moda):\n"
     ]
    },
    {
     "data": {
      "text/plain": [
       "'PRT'"
      ]
     },
     "metadata": {},
     "output_type": "display_data"
    },
    {
     "name": "stdout",
     "output_type": "stream",
     "text": [
      "------------------------------\n",
      "Exploración de la columna: market_segment\n",
      "Descripción estadística:\n"
     ]
    },
    {
     "data": {
      "text/plain": [
       "count         59934\n",
       "unique            8\n",
       "top       Online TA\n",
       "freq          28331\n",
       "Name: market_segment, dtype: object"
      ]
     },
     "metadata": {},
     "output_type": "display_data"
    },
    {
     "name": "stdout",
     "output_type": "stream",
     "text": [
      "Conteo de valores nulos:\n",
      "122943\n",
      "Número de filas duplicadas:\n"
     ]
    },
    {
     "data": {
      "text/plain": [
       "182868"
      ]
     },
     "metadata": {},
     "output_type": "display_data"
    },
    {
     "name": "stdout",
     "output_type": "stream",
     "text": [
      "Conteo de valores únicos:\n",
      "8\n",
      "Conteo de valores:\n"
     ]
    },
    {
     "data": {
      "text/plain": [
       "market_segment\n",
       "Online TA        28331\n",
       "Offline TA/TO    12116\n",
       "Groups           10008\n",
       "Direct            6354\n",
       "Corporate         2643\n",
       "Complementary      363\n",
       "Aviation           118\n",
       "Undefined            1\n",
       "Name: count, dtype: int64"
      ]
     },
     "metadata": {},
     "output_type": "display_data"
    },
    {
     "name": "stdout",
     "output_type": "stream",
     "text": [
      "Valor más frecuente (moda):\n"
     ]
    },
    {
     "data": {
      "text/plain": [
       "'Online TA'"
      ]
     },
     "metadata": {},
     "output_type": "display_data"
    },
    {
     "name": "stdout",
     "output_type": "stream",
     "text": [
      "------------------------------\n",
      "Exploración de la columna: distribution_channel\n",
      "Descripción estadística:\n"
     ]
    },
    {
     "data": {
      "text/plain": [
       "count     105899\n",
       "unique         5\n",
       "top        TA/TO\n",
       "freq       86822\n",
       "Name: distribution_channel, dtype: object"
      ]
     },
     "metadata": {},
     "output_type": "display_data"
    },
    {
     "name": "stdout",
     "output_type": "stream",
     "text": [
      "Conteo de valores nulos:\n",
      "76978\n",
      "Número de filas duplicadas:\n"
     ]
    },
    {
     "data": {
      "text/plain": [
       "182871"
      ]
     },
     "metadata": {},
     "output_type": "display_data"
    },
    {
     "name": "stdout",
     "output_type": "stream",
     "text": [
      "Conteo de valores únicos:\n",
      "5\n",
      "Conteo de valores:\n"
     ]
    },
    {
     "data": {
      "text/plain": [
       "distribution_channel\n",
       "TA/TO        86822\n",
       "Direct       12997\n",
       "Corporate     5899\n",
       "GDS            176\n",
       "Undefined        5\n",
       "Name: count, dtype: int64"
      ]
     },
     "metadata": {},
     "output_type": "display_data"
    },
    {
     "name": "stdout",
     "output_type": "stream",
     "text": [
      "Valor más frecuente (moda):\n"
     ]
    },
    {
     "data": {
      "text/plain": [
       "'TA/TO'"
      ]
     },
     "metadata": {},
     "output_type": "display_data"
    },
    {
     "name": "stdout",
     "output_type": "stream",
     "text": [
      "------------------------------\n",
      "Exploración de la columna: is_repeated_guest\n",
      "Descripción estadística:\n"
     ]
    },
    {
     "data": {
      "text/plain": [
       "count    114376.000000\n",
       "mean          0.031877\n",
       "std           0.175674\n",
       "min           0.000000\n",
       "25%           0.000000\n",
       "50%           0.000000\n",
       "75%           0.000000\n",
       "max           1.000000\n",
       "Name: is_repeated_guest, dtype: float64"
      ]
     },
     "metadata": {},
     "output_type": "display_data"
    },
    {
     "name": "stdout",
     "output_type": "stream",
     "text": [
      "Conteo de valores nulos:\n",
      "68501\n",
      "Número de filas duplicadas:\n"
     ]
    },
    {
     "data": {
      "text/plain": [
       "182874"
      ]
     },
     "metadata": {},
     "output_type": "display_data"
    },
    {
     "name": "stdout",
     "output_type": "stream",
     "text": [
      "Conteo de valores únicos:\n",
      "2\n",
      "Conteo de valores:\n"
     ]
    },
    {
     "data": {
      "text/plain": [
       "is_repeated_guest\n",
       "0.0    110730\n",
       "1.0      3646\n",
       "Name: count, dtype: int64"
      ]
     },
     "metadata": {},
     "output_type": "display_data"
    },
    {
     "name": "stdout",
     "output_type": "stream",
     "text": [
      "Valor más frecuente (moda):\n"
     ]
    },
    {
     "data": {
      "text/plain": [
       "0.0"
      ]
     },
     "metadata": {},
     "output_type": "display_data"
    },
    {
     "name": "stdout",
     "output_type": "stream",
     "text": [
      "------------------------------\n",
      "Exploración de la columna: previous_cancellations\n",
      "Descripción estadística:\n"
     ]
    },
    {
     "data": {
      "text/plain": [
       "count    76228.000000\n",
       "mean         0.109317\n",
       "std          1.028093\n",
       "min          0.000000\n",
       "25%          0.000000\n",
       "50%          0.000000\n",
       "75%          0.000000\n",
       "max         26.000000\n",
       "Name: previous_cancellations, dtype: float64"
      ]
     },
     "metadata": {},
     "output_type": "display_data"
    },
    {
     "name": "stdout",
     "output_type": "stream",
     "text": [
      "Conteo de valores nulos:\n",
      "106649\n",
      "Número de filas duplicadas:\n"
     ]
    },
    {
     "data": {
      "text/plain": [
       "182855"
      ]
     },
     "metadata": {},
     "output_type": "display_data"
    },
    {
     "name": "stdout",
     "output_type": "stream",
     "text": [
      "Conteo de valores únicos:\n",
      "21\n",
      "Conteo de valores:\n"
     ]
    },
    {
     "data": {
      "text/plain": [
       "previous_cancellations\n",
       "0.0     71960\n",
       "1.0      3878\n",
       "2.0        76\n",
       "3.0        41\n",
       "11.0       38\n",
       "24.0       33\n",
       "19.0       23\n",
       "13.0       23\n",
       "4.0        20\n",
       "14.0       19\n",
       "25.0       18\n",
       "26.0       18\n",
       "5.0        14\n",
       "17.0       13\n",
       "6.0        12\n",
       "12.0       11\n",
       "18.0        9\n",
       "15.0        8\n",
       "16.0        7\n",
       "10.0        6\n",
       "21.0        1\n",
       "Name: count, dtype: int64"
      ]
     },
     "metadata": {},
     "output_type": "display_data"
    },
    {
     "name": "stdout",
     "output_type": "stream",
     "text": [
      "Valor más frecuente (moda):\n"
     ]
    },
    {
     "data": {
      "text/plain": [
       "0.0"
      ]
     },
     "metadata": {},
     "output_type": "display_data"
    },
    {
     "name": "stdout",
     "output_type": "stream",
     "text": [
      "------------------------------\n",
      "Exploración de la columna: previous_bookings_not_canceled\n",
      "Descripción estadística:\n"
     ]
    },
    {
     "data": {
      "text/plain": [
       "count    119390.000000\n",
       "mean          0.137097\n",
       "std           1.497437\n",
       "min           0.000000\n",
       "25%           0.000000\n",
       "50%           0.000000\n",
       "75%           0.000000\n",
       "max          72.000000\n",
       "Name: previous_bookings_not_canceled, dtype: float64"
      ]
     },
     "metadata": {},
     "output_type": "display_data"
    },
    {
     "name": "stdout",
     "output_type": "stream",
     "text": [
      "Conteo de valores nulos:\n",
      "63487\n",
      "Número de filas duplicadas:\n"
     ]
    },
    {
     "data": {
      "text/plain": [
       "182803"
      ]
     },
     "metadata": {},
     "output_type": "display_data"
    },
    {
     "name": "stdout",
     "output_type": "stream",
     "text": [
      "Conteo de valores únicos:\n",
      "73\n",
      "Conteo de valores:\n"
     ]
    },
    {
     "data": {
      "text/plain": [
       "previous_bookings_not_canceled\n",
       "0.0     115770\n",
       "1.0       1542\n",
       "2.0        580\n",
       "3.0        333\n",
       "4.0        229\n",
       "         ...  \n",
       "47.0         1\n",
       "49.0         1\n",
       "50.0         1\n",
       "51.0         1\n",
       "72.0         1\n",
       "Name: count, Length: 73, dtype: int64"
      ]
     },
     "metadata": {},
     "output_type": "display_data"
    },
    {
     "name": "stdout",
     "output_type": "stream",
     "text": [
      "Valor más frecuente (moda):\n"
     ]
    },
    {
     "data": {
      "text/plain": [
       "0.0"
      ]
     },
     "metadata": {},
     "output_type": "display_data"
    },
    {
     "name": "stdout",
     "output_type": "stream",
     "text": [
      "------------------------------\n",
      "Exploración de la columna: reserved_room_type\n",
      "Descripción estadística:\n"
     ]
    },
    {
     "data": {
      "text/plain": [
       "count     79275\n",
       "unique       10\n",
       "top           A\n",
       "freq      57202\n",
       "Name: reserved_room_type, dtype: object"
      ]
     },
     "metadata": {},
     "output_type": "display_data"
    },
    {
     "name": "stdout",
     "output_type": "stream",
     "text": [
      "Conteo de valores nulos:\n",
      "103602\n",
      "Número de filas duplicadas:\n"
     ]
    },
    {
     "data": {
      "text/plain": [
       "182866"
      ]
     },
     "metadata": {},
     "output_type": "display_data"
    },
    {
     "name": "stdout",
     "output_type": "stream",
     "text": [
      "Conteo de valores únicos:\n",
      "10\n",
      "Conteo de valores:\n"
     ]
    },
    {
     "data": {
      "text/plain": [
       "reserved_room_type\n",
       "A    57202\n",
       "D    12637\n",
       "E     4345\n",
       "F     1907\n",
       "G     1375\n",
       "B      746\n",
       "C      625\n",
       "H      428\n",
       "P        6\n",
       "L        4\n",
       "Name: count, dtype: int64"
      ]
     },
     "metadata": {},
     "output_type": "display_data"
    },
    {
     "name": "stdout",
     "output_type": "stream",
     "text": [
      "Valor más frecuente (moda):\n"
     ]
    },
    {
     "data": {
      "text/plain": [
       "'A'"
      ]
     },
     "metadata": {},
     "output_type": "display_data"
    },
    {
     "name": "stdout",
     "output_type": "stream",
     "text": [
      "------------------------------\n",
      "Exploración de la columna: assigned_room_type\n",
      "Descripción estadística:\n"
     ]
    },
    {
     "data": {
      "text/plain": [
       "count     119390\n",
       "unique        12\n",
       "top            A\n",
       "freq       74053\n",
       "Name: assigned_room_type, dtype: object"
      ]
     },
     "metadata": {},
     "output_type": "display_data"
    },
    {
     "name": "stdout",
     "output_type": "stream",
     "text": [
      "Conteo de valores nulos:\n",
      "63487\n",
      "Número de filas duplicadas:\n"
     ]
    },
    {
     "data": {
      "text/plain": [
       "182864"
      ]
     },
     "metadata": {},
     "output_type": "display_data"
    },
    {
     "name": "stdout",
     "output_type": "stream",
     "text": [
      "Conteo de valores únicos:\n",
      "12\n",
      "Conteo de valores:\n"
     ]
    },
    {
     "data": {
      "text/plain": [
       "assigned_room_type\n",
       "A    74053\n",
       "D    25322\n",
       "E     7806\n",
       "F     3751\n",
       "G     2553\n",
       "C     2375\n",
       "B     2163\n",
       "H      712\n",
       "I      363\n",
       "K      279\n",
       "P       12\n",
       "L        1\n",
       "Name: count, dtype: int64"
      ]
     },
     "metadata": {},
     "output_type": "display_data"
    },
    {
     "name": "stdout",
     "output_type": "stream",
     "text": [
      "Valor más frecuente (moda):\n"
     ]
    },
    {
     "data": {
      "text/plain": [
       "'A'"
      ]
     },
     "metadata": {},
     "output_type": "display_data"
    },
    {
     "name": "stdout",
     "output_type": "stream",
     "text": [
      "------------------------------\n",
      "Exploración de la columna: booking_changes\n",
      "Descripción estadística:\n"
     ]
    },
    {
     "data": {
      "text/plain": [
       "count    119418.000000\n",
       "mean          0.232737\n",
       "std           0.770795\n",
       "min           0.000000\n",
       "25%           0.000000\n",
       "50%           0.000000\n",
       "75%           0.000000\n",
       "max          21.000000\n",
       "Name: booking_changes, dtype: float64"
      ]
     },
     "metadata": {},
     "output_type": "display_data"
    },
    {
     "name": "stdout",
     "output_type": "stream",
     "text": [
      "Conteo de valores nulos:\n",
      "63459\n",
      "Número de filas duplicadas:\n"
     ]
    },
    {
     "data": {
      "text/plain": [
       "182854"
      ]
     },
     "metadata": {},
     "output_type": "display_data"
    },
    {
     "name": "stdout",
     "output_type": "stream",
     "text": [
      "Conteo de valores únicos:\n",
      "22\n",
      "Conteo de valores:\n"
     ]
    },
    {
     "data": {
      "text/plain": [
       "booking_changes\n",
       "0.0     101257\n",
       "1.0      12691\n",
       "2.0       3800\n",
       "3.0        927\n",
       "4.0        376\n",
       "5.0        118\n",
       "6.0         63\n",
       "7.0         31\n",
       "10.0        19\n",
       "8.0         17\n",
       "17.0        17\n",
       "11.0        16\n",
       "15.0        15\n",
       "13.0        13\n",
       "12.0        12\n",
       "14.0        11\n",
       "16.0        11\n",
       "19.0         8\n",
       "9.0          8\n",
       "18.0         6\n",
       "20.0         1\n",
       "21.0         1\n",
       "Name: count, dtype: int64"
      ]
     },
     "metadata": {},
     "output_type": "display_data"
    },
    {
     "name": "stdout",
     "output_type": "stream",
     "text": [
      "Valor más frecuente (moda):\n"
     ]
    },
    {
     "data": {
      "text/plain": [
       "0.0"
      ]
     },
     "metadata": {},
     "output_type": "display_data"
    },
    {
     "name": "stdout",
     "output_type": "stream",
     "text": [
      "------------------------------\n",
      "Exploración de la columna: agent\n",
      "Descripción estadística:\n"
     ]
    },
    {
     "data": {
      "text/plain": [
       "count    103050.000000\n",
       "mean         86.693382\n",
       "std         110.774548\n",
       "min           1.000000\n",
       "25%           9.000000\n",
       "50%          14.000000\n",
       "75%         229.000000\n",
       "max         535.000000\n",
       "Name: agent, dtype: float64"
      ]
     },
     "metadata": {},
     "output_type": "display_data"
    },
    {
     "name": "stdout",
     "output_type": "stream",
     "text": [
      "Conteo de valores nulos:\n",
      "79827\n",
      "Número de filas duplicadas:\n"
     ]
    },
    {
     "data": {
      "text/plain": [
       "182543"
      ]
     },
     "metadata": {},
     "output_type": "display_data"
    },
    {
     "name": "stdout",
     "output_type": "stream",
     "text": [
      "Conteo de valores únicos:\n",
      "333\n",
      "Conteo de valores:\n"
     ]
    },
    {
     "data": {
      "text/plain": [
       "agent\n",
       "9.0      31961\n",
       "240.0    13922\n",
       "1.0       7191\n",
       "14.0      3640\n",
       "7.0       3539\n",
       "         ...  \n",
       "289.0        1\n",
       "432.0        1\n",
       "265.0        1\n",
       "93.0         1\n",
       "304.0        1\n",
       "Name: count, Length: 333, dtype: int64"
      ]
     },
     "metadata": {},
     "output_type": "display_data"
    },
    {
     "name": "stdout",
     "output_type": "stream",
     "text": [
      "Valor más frecuente (moda):\n"
     ]
    },
    {
     "data": {
      "text/plain": [
       "9.0"
      ]
     },
     "metadata": {},
     "output_type": "display_data"
    },
    {
     "name": "stdout",
     "output_type": "stream",
     "text": [
      "------------------------------\n",
      "Exploración de la columna: company\n",
      "Descripción estadística:\n"
     ]
    },
    {
     "data": {
      "text/plain": [
       "count    3870.000000\n",
       "mean      188.828424\n",
       "std       131.473039\n",
       "min         6.000000\n",
       "25%        62.000000\n",
       "50%       178.000000\n",
       "75%       270.000000\n",
       "max       543.000000\n",
       "Name: company, dtype: float64"
      ]
     },
     "metadata": {},
     "output_type": "display_data"
    },
    {
     "name": "stdout",
     "output_type": "stream",
     "text": [
      "Conteo de valores nulos:\n",
      "179007\n",
      "Número de filas duplicadas:\n"
     ]
    },
    {
     "data": {
      "text/plain": [
       "182566"
      ]
     },
     "metadata": {},
     "output_type": "display_data"
    },
    {
     "name": "stdout",
     "output_type": "stream",
     "text": [
      "Conteo de valores únicos:\n",
      "310\n",
      "Conteo de valores:\n"
     ]
    },
    {
     "data": {
      "text/plain": [
       "company\n",
       "40.0     533\n",
       "223.0    447\n",
       "67.0     160\n",
       "45.0     145\n",
       "153.0    132\n",
       "        ... \n",
       "225.0      1\n",
       "518.0      1\n",
       "126.0      1\n",
       "54.0       1\n",
       "282.0      1\n",
       "Name: count, Length: 310, dtype: int64"
      ]
     },
     "metadata": {},
     "output_type": "display_data"
    },
    {
     "name": "stdout",
     "output_type": "stream",
     "text": [
      "Valor más frecuente (moda):\n"
     ]
    },
    {
     "data": {
      "text/plain": [
       "40.0"
      ]
     },
     "metadata": {},
     "output_type": "display_data"
    },
    {
     "name": "stdout",
     "output_type": "stream",
     "text": [
      "------------------------------\n",
      "Exploración de la columna: days_in_waiting_list\n",
      "Descripción estadística:\n"
     ]
    },
    {
     "data": {
      "text/plain": [
       "count    119390.000000\n",
       "mean          2.321149\n",
       "std          17.594721\n",
       "min           0.000000\n",
       "25%           0.000000\n",
       "50%           0.000000\n",
       "75%           0.000000\n",
       "max         391.000000\n",
       "Name: days_in_waiting_list, dtype: float64"
      ]
     },
     "metadata": {},
     "output_type": "display_data"
    },
    {
     "name": "stdout",
     "output_type": "stream",
     "text": [
      "Conteo de valores nulos:\n",
      "63487\n",
      "Número de filas duplicadas:\n"
     ]
    },
    {
     "data": {
      "text/plain": [
       "182748"
      ]
     },
     "metadata": {},
     "output_type": "display_data"
    },
    {
     "name": "stdout",
     "output_type": "stream",
     "text": [
      "Conteo de valores únicos:\n",
      "128\n",
      "Conteo de valores:\n"
     ]
    },
    {
     "data": {
      "text/plain": [
       "days_in_waiting_list\n",
       "0.0      115692\n",
       "39.0        227\n",
       "58.0        164\n",
       "44.0        141\n",
       "31.0        127\n",
       "          ...  \n",
       "116.0         1\n",
       "109.0         1\n",
       "37.0          1\n",
       "89.0          1\n",
       "36.0          1\n",
       "Name: count, Length: 128, dtype: int64"
      ]
     },
     "metadata": {},
     "output_type": "display_data"
    },
    {
     "name": "stdout",
     "output_type": "stream",
     "text": [
      "Valor más frecuente (moda):\n"
     ]
    },
    {
     "data": {
      "text/plain": [
       "0.0"
      ]
     },
     "metadata": {},
     "output_type": "display_data"
    },
    {
     "name": "stdout",
     "output_type": "stream",
     "text": [
      "------------------------------\n",
      "Exploración de la columna: customer_type\n",
      "Descripción estadística:\n"
     ]
    },
    {
     "data": {
      "text/plain": [
       "count         94199\n",
       "unique            4\n",
       "top       Transient\n",
       "freq          70610\n",
       "Name: customer_type, dtype: object"
      ]
     },
     "metadata": {},
     "output_type": "display_data"
    },
    {
     "name": "stdout",
     "output_type": "stream",
     "text": [
      "Conteo de valores nulos:\n",
      "88678\n",
      "Número de filas duplicadas:\n"
     ]
    },
    {
     "data": {
      "text/plain": [
       "182872"
      ]
     },
     "metadata": {},
     "output_type": "display_data"
    },
    {
     "name": "stdout",
     "output_type": "stream",
     "text": [
      "Conteo de valores únicos:\n",
      "4\n",
      "Conteo de valores:\n"
     ]
    },
    {
     "data": {
      "text/plain": [
       "customer_type\n",
       "Transient          70610\n",
       "Transient-Party    19839\n",
       "Contract            3290\n",
       "Group                460\n",
       "Name: count, dtype: int64"
      ]
     },
     "metadata": {},
     "output_type": "display_data"
    },
    {
     "name": "stdout",
     "output_type": "stream",
     "text": [
      "Valor más frecuente (moda):\n"
     ]
    },
    {
     "data": {
      "text/plain": [
       "'Transient'"
      ]
     },
     "metadata": {},
     "output_type": "display_data"
    },
    {
     "name": "stdout",
     "output_type": "stream",
     "text": [
      "------------------------------\n",
      "Exploración de la columna: adr\n",
      "Descripción estadística:\n"
     ]
    },
    {
     "data": {
      "text/plain": [
       "count    119390.000000\n",
       "mean        101.831122\n",
       "std          50.535790\n",
       "min          -6.380000\n",
       "25%          69.290000\n",
       "50%          94.575000\n",
       "75%         126.000000\n",
       "max        5400.000000\n",
       "Name: adr, dtype: float64"
      ]
     },
     "metadata": {},
     "output_type": "display_data"
    },
    {
     "name": "stdout",
     "output_type": "stream",
     "text": [
      "Conteo de valores nulos:\n",
      "63487\n",
      "Número de filas duplicadas:\n"
     ]
    },
    {
     "data": {
      "text/plain": [
       "173997"
      ]
     },
     "metadata": {},
     "output_type": "display_data"
    },
    {
     "name": "stdout",
     "output_type": "stream",
     "text": [
      "Conteo de valores únicos:\n",
      "8879\n",
      "Conteo de valores:\n"
     ]
    },
    {
     "data": {
      "text/plain": [
       "adr\n",
       "62.00     3754\n",
       "75.00     2715\n",
       "90.00     2473\n",
       "65.00     2418\n",
       "0.00      1959\n",
       "          ... \n",
       "89.43        1\n",
       "63.07        1\n",
       "55.69        1\n",
       "49.51        1\n",
       "157.71       1\n",
       "Name: count, Length: 8879, dtype: int64"
      ]
     },
     "metadata": {},
     "output_type": "display_data"
    },
    {
     "name": "stdout",
     "output_type": "stream",
     "text": [
      "Valor más frecuente (moda):\n"
     ]
    },
    {
     "data": {
      "text/plain": [
       "62.0"
      ]
     },
     "metadata": {},
     "output_type": "display_data"
    },
    {
     "name": "stdout",
     "output_type": "stream",
     "text": [
      "------------------------------\n",
      "Exploración de la columna: required_car_parking_spaces\n",
      "Descripción estadística:\n"
     ]
    },
    {
     "data": {
      "text/plain": [
       "count    119390.000000\n",
       "mean          0.062518\n",
       "std           0.245291\n",
       "min           0.000000\n",
       "25%           0.000000\n",
       "50%           0.000000\n",
       "75%           0.000000\n",
       "max           8.000000\n",
       "Name: required_car_parking_spaces, dtype: float64"
      ]
     },
     "metadata": {},
     "output_type": "display_data"
    },
    {
     "name": "stdout",
     "output_type": "stream",
     "text": [
      "Conteo de valores nulos:\n",
      "63487\n",
      "Número de filas duplicadas:\n"
     ]
    },
    {
     "data": {
      "text/plain": [
       "182871"
      ]
     },
     "metadata": {},
     "output_type": "display_data"
    },
    {
     "name": "stdout",
     "output_type": "stream",
     "text": [
      "Conteo de valores únicos:\n",
      "5\n",
      "Conteo de valores:\n"
     ]
    },
    {
     "data": {
      "text/plain": [
       "required_car_parking_spaces\n",
       "0.0    111974\n",
       "1.0      7383\n",
       "2.0        28\n",
       "3.0         3\n",
       "8.0         2\n",
       "Name: count, dtype: int64"
      ]
     },
     "metadata": {},
     "output_type": "display_data"
    },
    {
     "name": "stdout",
     "output_type": "stream",
     "text": [
      "Valor más frecuente (moda):\n"
     ]
    },
    {
     "data": {
      "text/plain": [
       "0.0"
      ]
     },
     "metadata": {},
     "output_type": "display_data"
    },
    {
     "name": "stdout",
     "output_type": "stream",
     "text": [
      "------------------------------\n",
      "Exploración de la columna: total_of_special_requests\n",
      "Descripción estadística:\n"
     ]
    },
    {
     "data": {
      "text/plain": [
       "count    119390.000000\n",
       "mean          0.571363\n",
       "std           0.792798\n",
       "min           0.000000\n",
       "25%           0.000000\n",
       "50%           0.000000\n",
       "75%           1.000000\n",
       "max           5.000000\n",
       "Name: total_of_special_requests, dtype: float64"
      ]
     },
     "metadata": {},
     "output_type": "display_data"
    },
    {
     "name": "stdout",
     "output_type": "stream",
     "text": [
      "Conteo de valores nulos:\n",
      "63487\n",
      "Número de filas duplicadas:\n"
     ]
    },
    {
     "data": {
      "text/plain": [
       "182870"
      ]
     },
     "metadata": {},
     "output_type": "display_data"
    },
    {
     "name": "stdout",
     "output_type": "stream",
     "text": [
      "Conteo de valores únicos:\n",
      "6\n",
      "Conteo de valores:\n"
     ]
    },
    {
     "data": {
      "text/plain": [
       "total_of_special_requests\n",
       "0.0    70318\n",
       "1.0    33226\n",
       "2.0    12969\n",
       "3.0     2497\n",
       "4.0      340\n",
       "5.0       40\n",
       "Name: count, dtype: int64"
      ]
     },
     "metadata": {},
     "output_type": "display_data"
    },
    {
     "name": "stdout",
     "output_type": "stream",
     "text": [
      "Valor más frecuente (moda):\n"
     ]
    },
    {
     "data": {
      "text/plain": [
       "0.0"
      ]
     },
     "metadata": {},
     "output_type": "display_data"
    },
    {
     "name": "stdout",
     "output_type": "stream",
     "text": [
      "------------------------------\n",
      "Exploración de la columna: reservation_status\n",
      "Descripción estadística:\n"
     ]
    },
    {
     "data": {
      "text/plain": [
       "count        119390\n",
       "unique            3\n",
       "top       Check-Out\n",
       "freq          75166\n",
       "Name: reservation_status, dtype: object"
      ]
     },
     "metadata": {},
     "output_type": "display_data"
    },
    {
     "name": "stdout",
     "output_type": "stream",
     "text": [
      "Conteo de valores nulos:\n",
      "63487\n",
      "Número de filas duplicadas:\n"
     ]
    },
    {
     "data": {
      "text/plain": [
       "182873"
      ]
     },
     "metadata": {},
     "output_type": "display_data"
    },
    {
     "name": "stdout",
     "output_type": "stream",
     "text": [
      "Conteo de valores únicos:\n",
      "3\n",
      "Conteo de valores:\n"
     ]
    },
    {
     "data": {
      "text/plain": [
       "reservation_status\n",
       "Check-Out    75166\n",
       "Canceled     43017\n",
       "No-Show       1207\n",
       "Name: count, dtype: int64"
      ]
     },
     "metadata": {},
     "output_type": "display_data"
    },
    {
     "name": "stdout",
     "output_type": "stream",
     "text": [
      "Valor más frecuente (moda):\n"
     ]
    },
    {
     "data": {
      "text/plain": [
       "'Check-Out'"
      ]
     },
     "metadata": {},
     "output_type": "display_data"
    },
    {
     "name": "stdout",
     "output_type": "stream",
     "text": [
      "------------------------------\n",
      "Exploración de la columna: reservation_status_date\n",
      "Descripción estadística:\n"
     ]
    },
    {
     "data": {
      "text/plain": [
       "count                  106514\n",
       "unique                    991\n",
       "top       2015-10-21 00:00:00\n",
       "freq                     1298\n",
       "Name: reservation_status_date, dtype: object"
      ]
     },
     "metadata": {},
     "output_type": "display_data"
    },
    {
     "name": "stdout",
     "output_type": "stream",
     "text": [
      "Conteo de valores nulos:\n",
      "76363\n",
      "Número de filas duplicadas:\n"
     ]
    },
    {
     "data": {
      "text/plain": [
       "181885"
      ]
     },
     "metadata": {},
     "output_type": "display_data"
    },
    {
     "name": "stdout",
     "output_type": "stream",
     "text": [
      "Conteo de valores únicos:\n",
      "991\n",
      "Conteo de valores:\n"
     ]
    },
    {
     "data": {
      "text/plain": [
       "reservation_status_date\n",
       "2015-10-21 00:00:00    1298\n",
       "2015-07-06 00:00:00     732\n",
       "2016-11-25 00:00:00     692\n",
       "2015-01-01 00:00:00     678\n",
       "2016-01-18 00:00:00     562\n",
       "                       ... \n",
       "2029-04-31                1\n",
       "2022-09-31                1\n",
       "2029-02-30                1\n",
       "2029-06-31                1\n",
       "2024-11-31                1\n",
       "Name: count, Length: 991, dtype: int64"
      ]
     },
     "metadata": {},
     "output_type": "display_data"
    },
    {
     "name": "stdout",
     "output_type": "stream",
     "text": [
      "Valor más frecuente (moda):\n"
     ]
    },
    {
     "data": {
      "text/plain": [
       "'2015-10-21 00:00:00'"
      ]
     },
     "metadata": {},
     "output_type": "display_data"
    },
    {
     "name": "stdout",
     "output_type": "stream",
     "text": [
      "------------------------------\n",
      "Exploración de la columna: 0\n",
      "Descripción estadística:\n"
     ]
    },
    {
     "data": {
      "text/plain": [
       "count     42951\n",
       "unique     1588\n",
       "top         0.0\n",
       "freq      12780\n",
       "Name: 0, dtype: object"
      ]
     },
     "metadata": {},
     "output_type": "display_data"
    },
    {
     "name": "stdout",
     "output_type": "stream",
     "text": [
      "Conteo de valores nulos:\n",
      "139926\n",
      "Número de filas duplicadas:\n"
     ]
    },
    {
     "data": {
      "text/plain": [
       "181288"
      ]
     },
     "metadata": {},
     "output_type": "display_data"
    },
    {
     "name": "stdout",
     "output_type": "stream",
     "text": [
      "Conteo de valores únicos:\n",
      "1588\n",
      "Conteo de valores:\n"
     ]
    },
    {
     "data": {
      "text/plain": [
       "0\n",
       "0.0        12780\n",
       "2.0         2363\n",
       "1.0         2121\n",
       "A           1771\n",
       "BB          1257\n",
       "           ...  \n",
       "48.2           1\n",
       "149.5          1\n",
       "68.07          1\n",
       "153.07         1\n",
       "4/02/17        1\n",
       "Name: count, Length: 1588, dtype: int64"
      ]
     },
     "metadata": {},
     "output_type": "display_data"
    },
    {
     "name": "stdout",
     "output_type": "stream",
     "text": [
      "Valor más frecuente (moda):\n"
     ]
    },
    {
     "data": {
      "text/plain": [
       "'0.0'"
      ]
     },
     "metadata": {},
     "output_type": "display_data"
    },
    {
     "name": "stdout",
     "output_type": "stream",
     "text": [
      "------------------------------\n"
     ]
    }
   ],
   "source": [
    "def eda_columnas_hotel(archivo):\n",
    "    # Cargar datos desde el archivo CSV\n",
    "    df_customer = pd.read_csv(archivo)\n",
    "    print(\"Archivo cargado exitosamente\")\n",
    "    # Explorar cada columna del DataFrame\n",
    "    for columna in df_customer.columns:\n",
    "        print(f\"Exploración de la columna: {columna}\")\n",
    "        datos_columna = df_customer[columna]  # Extrae los datos de la columna específica\n",
    "        # Descripción estadística\n",
    "        print(\"Descripción estadística:\")\n",
    "        display(datos_columna.describe(include='all'))\n",
    "        # valores nulos\n",
    "        print(\"Conteo de valores nulos:\")\n",
    "        print(datos_columna.isnull().sum())\n",
    "        # valores duplicados\n",
    "        print(\"Número de filas duplicadas:\")\n",
    "        display(df_customer.duplicated(subset=[columna]).sum())\n",
    "        # valores únicos\n",
    "        print(\"Conteo de valores únicos:\")\n",
    "        print(datos_columna.nunique())\n",
    "        # conteo de cada valor\n",
    "        print(\"Conteo de valores:\")\n",
    "        display(datos_columna.value_counts())\n",
    "        # valor más frecuente (moda)\n",
    "        if not datos_columna.mode().empty:\n",
    "            print(\"Valor más frecuente (moda):\")\n",
    "            display(datos_columna.mode().iloc[0])\n",
    "        print(\"-\" * 30)\n",
    "# Llamada a la función\n",
    "archivo = 'finanzas-hotel-bookings.csv'\n",
    "eda_columnas_hotel(archivo)"
   ]
  },
  {
   "cell_type": "code",
   "execution_count": 46,
   "metadata": {},
   "outputs": [
    {
     "name": "stdout",
     "output_type": "stream",
     "text": [
      "<class 'pandas.core.frame.DataFrame'>\n",
      "Index: 182877 entries, 0 to 182876\n",
      "Data columns (total 32 columns):\n",
      " #   Column                          Non-Null Count   Dtype  \n",
      "---  ------                          --------------   -----  \n",
      " 0   hotel                           119390 non-null  object \n",
      " 1   is_canceled                     119390 non-null  object \n",
      " 2   lead_time                       119490 non-null  float64\n",
      " 3   arrival_date_year               64829 non-null   float64\n",
      " 4   arrival_date_month              119390 non-null  object \n",
      " 5   arrival_date_week_number        101004 non-null  float64\n",
      " 6   arrival_date_day_of_month       119271 non-null  float64\n",
      " 7   stays_in_weekend_nights         119490 non-null  float64\n",
      " 8   stays_in_week_nights            119490 non-null  float64\n",
      " 9   adults                          119428 non-null  float64\n",
      " 10  children                        69302 non-null   float64\n",
      " 11  babies                          119431 non-null  float64\n",
      " 12  meal                            119390 non-null  object \n",
      " 13  country                         65054 non-null   object \n",
      " 14  market_segment                  59934 non-null   object \n",
      " 15  distribution_channel            105899 non-null  object \n",
      " 16  is_repeated_guest               114376 non-null  float64\n",
      " 17  previous_cancellations          76228 non-null   float64\n",
      " 18  previous_bookings_not_canceled  119390 non-null  float64\n",
      " 19  reserved_room_type              79275 non-null   object \n",
      " 20  assigned_room_type              119390 non-null  object \n",
      " 21  booking_changes                 119418 non-null  float64\n",
      " 22  agent                           103050 non-null  float64\n",
      " 23  company                         3870 non-null    float64\n",
      " 24  days_in_waiting_list            119390 non-null  float64\n",
      " 25  customer_type                   94199 non-null   object \n",
      " 26  adr                             119390 non-null  float64\n",
      " 27  required_car_parking_spaces     119390 non-null  float64\n",
      " 28  total_of_special_requests       119390 non-null  float64\n",
      " 29  reservation_status              119390 non-null  object \n",
      " 30  reservation_status_date         106514 non-null  object \n",
      " 31  0                               42951 non-null   object \n",
      "dtypes: float64(19), object(13)\n",
      "memory usage: 50.1+ MB\n"
     ]
    }
   ],
   "source": [
    "data.info()"
   ]
  },
  {
   "cell_type": "markdown",
   "metadata": {},
   "source": [
    "## DUPLICADOS"
   ]
  },
  {
   "cell_type": "code",
   "execution_count": 68,
   "metadata": {},
   "outputs": [
    {
     "data": {
      "text/plain": [
       "63040"
      ]
     },
     "execution_count": 68,
     "metadata": {},
     "output_type": "execute_result"
    }
   ],
   "source": [
    "data.duplicated().sum()"
   ]
  },
  {
   "cell_type": "code",
   "execution_count": 70,
   "metadata": {},
   "outputs": [
    {
     "data": {
      "text/html": [
       "<div>\n",
       "<style scoped>\n",
       "    .dataframe tbody tr th:only-of-type {\n",
       "        vertical-align: middle;\n",
       "    }\n",
       "\n",
       "    .dataframe tbody tr th {\n",
       "        vertical-align: top;\n",
       "    }\n",
       "\n",
       "    .dataframe thead th {\n",
       "        text-align: right;\n",
       "    }\n",
       "</style>\n",
       "<table border=\"1\" class=\"dataframe\">\n",
       "  <thead>\n",
       "    <tr style=\"text-align: right;\">\n",
       "      <th></th>\n",
       "      <th>hotel</th>\n",
       "      <th>is_canceled</th>\n",
       "      <th>lead_time</th>\n",
       "      <th>arrival_date_year</th>\n",
       "      <th>arrival_date_month</th>\n",
       "      <th>arrival_date_week_number</th>\n",
       "      <th>arrival_date_day_of_month</th>\n",
       "      <th>stays_in_weekend_nights</th>\n",
       "      <th>stays_in_week_nights</th>\n",
       "      <th>adults</th>\n",
       "      <th>children</th>\n",
       "      <th>babies</th>\n",
       "      <th>meal</th>\n",
       "      <th>country</th>\n",
       "      <th>market_segment</th>\n",
       "      <th>distribution_channel</th>\n",
       "      <th>is_repeated_guest</th>\n",
       "      <th>previous_cancellations</th>\n",
       "      <th>previous_bookings_not_canceled</th>\n",
       "      <th>reserved_room_type</th>\n",
       "      <th>assigned_room_type</th>\n",
       "      <th>booking_changes</th>\n",
       "      <th>agent</th>\n",
       "      <th>company</th>\n",
       "      <th>days_in_waiting_list</th>\n",
       "      <th>customer_type</th>\n",
       "      <th>adr</th>\n",
       "      <th>required_car_parking_spaces</th>\n",
       "      <th>total_of_special_requests</th>\n",
       "      <th>reservation_status</th>\n",
       "      <th>reservation_status_date</th>\n",
       "      <th>0</th>\n",
       "    </tr>\n",
       "  </thead>\n",
       "  <tbody>\n",
       "    <tr>\n",
       "      <th>2183</th>\n",
       "      <td>Resort Hotel</td>\n",
       "      <td>True</td>\n",
       "      <td>170.0</td>\n",
       "      <td>2015.0</td>\n",
       "      <td>October</td>\n",
       "      <td>41.0</td>\n",
       "      <td>4.0</td>\n",
       "      <td>4.0</td>\n",
       "      <td>8.0</td>\n",
       "      <td>2.0</td>\n",
       "      <td>NaN</td>\n",
       "      <td>0.0</td>\n",
       "      <td>BB</td>\n",
       "      <td>CN</td>\n",
       "      <td>NaN</td>\n",
       "      <td>TA/TO</td>\n",
       "      <td>0.0</td>\n",
       "      <td>NaN</td>\n",
       "      <td>0.0</td>\n",
       "      <td>NaN</td>\n",
       "      <td>A</td>\n",
       "      <td>0.0</td>\n",
       "      <td>15.0</td>\n",
       "      <td>NaN</td>\n",
       "      <td>0.0</td>\n",
       "      <td>Transient</td>\n",
       "      <td>44.5</td>\n",
       "      <td>0.0</td>\n",
       "      <td>0.0</td>\n",
       "      <td>Canceled</td>\n",
       "      <td>2015-07-17 00:00:00</td>\n",
       "      <td>NaN</td>\n",
       "    </tr>\n",
       "    <tr>\n",
       "      <th>2191</th>\n",
       "      <td>Resort Hotel</td>\n",
       "      <td>True</td>\n",
       "      <td>170.0</td>\n",
       "      <td>2015.0</td>\n",
       "      <td>October</td>\n",
       "      <td>41.0</td>\n",
       "      <td>4.0</td>\n",
       "      <td>4.0</td>\n",
       "      <td>8.0</td>\n",
       "      <td>2.0</td>\n",
       "      <td>NaN</td>\n",
       "      <td>0.0</td>\n",
       "      <td>BB</td>\n",
       "      <td>CN</td>\n",
       "      <td>NaN</td>\n",
       "      <td>TA/TO</td>\n",
       "      <td>0.0</td>\n",
       "      <td>NaN</td>\n",
       "      <td>0.0</td>\n",
       "      <td>NaN</td>\n",
       "      <td>A</td>\n",
       "      <td>0.0</td>\n",
       "      <td>15.0</td>\n",
       "      <td>NaN</td>\n",
       "      <td>0.0</td>\n",
       "      <td>Transient</td>\n",
       "      <td>44.5</td>\n",
       "      <td>0.0</td>\n",
       "      <td>0.0</td>\n",
       "      <td>Canceled</td>\n",
       "      <td>2015-07-17 00:00:00</td>\n",
       "      <td>NaN</td>\n",
       "    </tr>\n",
       "    <tr>\n",
       "      <th>2625</th>\n",
       "      <td>Resort Hotel</td>\n",
       "      <td>True</td>\n",
       "      <td>148.0</td>\n",
       "      <td>2015.0</td>\n",
       "      <td>October</td>\n",
       "      <td>NaN</td>\n",
       "      <td>24.0</td>\n",
       "      <td>0.0</td>\n",
       "      <td>1.0</td>\n",
       "      <td>2.0</td>\n",
       "      <td>NaN</td>\n",
       "      <td>0.0</td>\n",
       "      <td>BB</td>\n",
       "      <td>NaN</td>\n",
       "      <td>NaN</td>\n",
       "      <td>Direct</td>\n",
       "      <td>0.0</td>\n",
       "      <td>0.0</td>\n",
       "      <td>0.0</td>\n",
       "      <td>A</td>\n",
       "      <td>A</td>\n",
       "      <td>0.0</td>\n",
       "      <td>NaN</td>\n",
       "      <td>NaN</td>\n",
       "      <td>0.0</td>\n",
       "      <td>Transient</td>\n",
       "      <td>47.0</td>\n",
       "      <td>0.0</td>\n",
       "      <td>0.0</td>\n",
       "      <td>Canceled</td>\n",
       "      <td>2015-06-26 00:00:00</td>\n",
       "      <td>NaN</td>\n",
       "    </tr>\n",
       "    <tr>\n",
       "      <th>2630</th>\n",
       "      <td>Resort Hotel</td>\n",
       "      <td>True</td>\n",
       "      <td>148.0</td>\n",
       "      <td>2015.0</td>\n",
       "      <td>October</td>\n",
       "      <td>NaN</td>\n",
       "      <td>24.0</td>\n",
       "      <td>0.0</td>\n",
       "      <td>1.0</td>\n",
       "      <td>2.0</td>\n",
       "      <td>NaN</td>\n",
       "      <td>0.0</td>\n",
       "      <td>BB</td>\n",
       "      <td>NaN</td>\n",
       "      <td>NaN</td>\n",
       "      <td>Direct</td>\n",
       "      <td>0.0</td>\n",
       "      <td>0.0</td>\n",
       "      <td>0.0</td>\n",
       "      <td>A</td>\n",
       "      <td>A</td>\n",
       "      <td>0.0</td>\n",
       "      <td>NaN</td>\n",
       "      <td>NaN</td>\n",
       "      <td>0.0</td>\n",
       "      <td>Transient</td>\n",
       "      <td>47.0</td>\n",
       "      <td>0.0</td>\n",
       "      <td>0.0</td>\n",
       "      <td>Canceled</td>\n",
       "      <td>2015-06-26 00:00:00</td>\n",
       "      <td>NaN</td>\n",
       "    </tr>\n",
       "    <tr>\n",
       "      <th>2634</th>\n",
       "      <td>Resort Hotel</td>\n",
       "      <td>True</td>\n",
       "      <td>148.0</td>\n",
       "      <td>2015.0</td>\n",
       "      <td>October</td>\n",
       "      <td>43.0</td>\n",
       "      <td>24.0</td>\n",
       "      <td>0.0</td>\n",
       "      <td>1.0</td>\n",
       "      <td>1.0</td>\n",
       "      <td>0.0</td>\n",
       "      <td>0.0</td>\n",
       "      <td>BB</td>\n",
       "      <td>NaN</td>\n",
       "      <td>NaN</td>\n",
       "      <td>Direct</td>\n",
       "      <td>0.0</td>\n",
       "      <td>NaN</td>\n",
       "      <td>0.0</td>\n",
       "      <td>A</td>\n",
       "      <td>A</td>\n",
       "      <td>0.0</td>\n",
       "      <td>NaN</td>\n",
       "      <td>NaN</td>\n",
       "      <td>0.0</td>\n",
       "      <td>Transient</td>\n",
       "      <td>39.0</td>\n",
       "      <td>0.0</td>\n",
       "      <td>0.0</td>\n",
       "      <td>Canceled</td>\n",
       "      <td>2015-06-26 00:00:00</td>\n",
       "      <td>NaN</td>\n",
       "    </tr>\n",
       "    <tr>\n",
       "      <th>...</th>\n",
       "      <td>...</td>\n",
       "      <td>...</td>\n",
       "      <td>...</td>\n",
       "      <td>...</td>\n",
       "      <td>...</td>\n",
       "      <td>...</td>\n",
       "      <td>...</td>\n",
       "      <td>...</td>\n",
       "      <td>...</td>\n",
       "      <td>...</td>\n",
       "      <td>...</td>\n",
       "      <td>...</td>\n",
       "      <td>...</td>\n",
       "      <td>...</td>\n",
       "      <td>...</td>\n",
       "      <td>...</td>\n",
       "      <td>...</td>\n",
       "      <td>...</td>\n",
       "      <td>...</td>\n",
       "      <td>...</td>\n",
       "      <td>...</td>\n",
       "      <td>...</td>\n",
       "      <td>...</td>\n",
       "      <td>...</td>\n",
       "      <td>...</td>\n",
       "      <td>...</td>\n",
       "      <td>...</td>\n",
       "      <td>...</td>\n",
       "      <td>...</td>\n",
       "      <td>...</td>\n",
       "      <td>...</td>\n",
       "      <td>...</td>\n",
       "    </tr>\n",
       "    <tr>\n",
       "      <th>182772</th>\n",
       "      <td>NaN</td>\n",
       "      <td>NaN</td>\n",
       "      <td>NaN</td>\n",
       "      <td>NaN</td>\n",
       "      <td>NaN</td>\n",
       "      <td>NaN</td>\n",
       "      <td>NaN</td>\n",
       "      <td>NaN</td>\n",
       "      <td>NaN</td>\n",
       "      <td>NaN</td>\n",
       "      <td>NaN</td>\n",
       "      <td>NaN</td>\n",
       "      <td>NaN</td>\n",
       "      <td>NaN</td>\n",
       "      <td>NaN</td>\n",
       "      <td>NaN</td>\n",
       "      <td>NaN</td>\n",
       "      <td>NaN</td>\n",
       "      <td>NaN</td>\n",
       "      <td>NaN</td>\n",
       "      <td>NaN</td>\n",
       "      <td>NaN</td>\n",
       "      <td>NaN</td>\n",
       "      <td>NaN</td>\n",
       "      <td>NaN</td>\n",
       "      <td>NaN</td>\n",
       "      <td>NaN</td>\n",
       "      <td>NaN</td>\n",
       "      <td>NaN</td>\n",
       "      <td>NaN</td>\n",
       "      <td>NaN</td>\n",
       "      <td>NaN</td>\n",
       "    </tr>\n",
       "    <tr>\n",
       "      <th>182773</th>\n",
       "      <td>NaN</td>\n",
       "      <td>NaN</td>\n",
       "      <td>NaN</td>\n",
       "      <td>NaN</td>\n",
       "      <td>NaN</td>\n",
       "      <td>NaN</td>\n",
       "      <td>NaN</td>\n",
       "      <td>NaN</td>\n",
       "      <td>NaN</td>\n",
       "      <td>NaN</td>\n",
       "      <td>NaN</td>\n",
       "      <td>NaN</td>\n",
       "      <td>NaN</td>\n",
       "      <td>NaN</td>\n",
       "      <td>NaN</td>\n",
       "      <td>NaN</td>\n",
       "      <td>NaN</td>\n",
       "      <td>NaN</td>\n",
       "      <td>NaN</td>\n",
       "      <td>NaN</td>\n",
       "      <td>NaN</td>\n",
       "      <td>NaN</td>\n",
       "      <td>NaN</td>\n",
       "      <td>NaN</td>\n",
       "      <td>NaN</td>\n",
       "      <td>NaN</td>\n",
       "      <td>NaN</td>\n",
       "      <td>NaN</td>\n",
       "      <td>NaN</td>\n",
       "      <td>NaN</td>\n",
       "      <td>NaN</td>\n",
       "      <td>NaN</td>\n",
       "    </tr>\n",
       "    <tr>\n",
       "      <th>182774</th>\n",
       "      <td>NaN</td>\n",
       "      <td>NaN</td>\n",
       "      <td>NaN</td>\n",
       "      <td>NaN</td>\n",
       "      <td>NaN</td>\n",
       "      <td>NaN</td>\n",
       "      <td>NaN</td>\n",
       "      <td>NaN</td>\n",
       "      <td>NaN</td>\n",
       "      <td>NaN</td>\n",
       "      <td>NaN</td>\n",
       "      <td>NaN</td>\n",
       "      <td>NaN</td>\n",
       "      <td>NaN</td>\n",
       "      <td>NaN</td>\n",
       "      <td>NaN</td>\n",
       "      <td>NaN</td>\n",
       "      <td>NaN</td>\n",
       "      <td>NaN</td>\n",
       "      <td>NaN</td>\n",
       "      <td>NaN</td>\n",
       "      <td>NaN</td>\n",
       "      <td>NaN</td>\n",
       "      <td>NaN</td>\n",
       "      <td>NaN</td>\n",
       "      <td>NaN</td>\n",
       "      <td>NaN</td>\n",
       "      <td>NaN</td>\n",
       "      <td>NaN</td>\n",
       "      <td>NaN</td>\n",
       "      <td>NaN</td>\n",
       "      <td>NaN</td>\n",
       "    </tr>\n",
       "    <tr>\n",
       "      <th>182775</th>\n",
       "      <td>NaN</td>\n",
       "      <td>NaN</td>\n",
       "      <td>NaN</td>\n",
       "      <td>NaN</td>\n",
       "      <td>NaN</td>\n",
       "      <td>NaN</td>\n",
       "      <td>NaN</td>\n",
       "      <td>NaN</td>\n",
       "      <td>NaN</td>\n",
       "      <td>NaN</td>\n",
       "      <td>NaN</td>\n",
       "      <td>NaN</td>\n",
       "      <td>NaN</td>\n",
       "      <td>NaN</td>\n",
       "      <td>NaN</td>\n",
       "      <td>NaN</td>\n",
       "      <td>NaN</td>\n",
       "      <td>NaN</td>\n",
       "      <td>NaN</td>\n",
       "      <td>NaN</td>\n",
       "      <td>NaN</td>\n",
       "      <td>NaN</td>\n",
       "      <td>NaN</td>\n",
       "      <td>NaN</td>\n",
       "      <td>NaN</td>\n",
       "      <td>NaN</td>\n",
       "      <td>NaN</td>\n",
       "      <td>NaN</td>\n",
       "      <td>NaN</td>\n",
       "      <td>NaN</td>\n",
       "      <td>NaN</td>\n",
       "      <td>NaN</td>\n",
       "    </tr>\n",
       "    <tr>\n",
       "      <th>182776</th>\n",
       "      <td>NaN</td>\n",
       "      <td>NaN</td>\n",
       "      <td>NaN</td>\n",
       "      <td>NaN</td>\n",
       "      <td>NaN</td>\n",
       "      <td>NaN</td>\n",
       "      <td>NaN</td>\n",
       "      <td>NaN</td>\n",
       "      <td>NaN</td>\n",
       "      <td>NaN</td>\n",
       "      <td>NaN</td>\n",
       "      <td>NaN</td>\n",
       "      <td>NaN</td>\n",
       "      <td>NaN</td>\n",
       "      <td>NaN</td>\n",
       "      <td>NaN</td>\n",
       "      <td>NaN</td>\n",
       "      <td>NaN</td>\n",
       "      <td>NaN</td>\n",
       "      <td>NaN</td>\n",
       "      <td>NaN</td>\n",
       "      <td>NaN</td>\n",
       "      <td>NaN</td>\n",
       "      <td>NaN</td>\n",
       "      <td>NaN</td>\n",
       "      <td>NaN</td>\n",
       "      <td>NaN</td>\n",
       "      <td>NaN</td>\n",
       "      <td>NaN</td>\n",
       "      <td>NaN</td>\n",
       "      <td>NaN</td>\n",
       "      <td>NaN</td>\n",
       "    </tr>\n",
       "  </tbody>\n",
       "</table>\n",
       "<p>65158 rows × 32 columns</p>\n",
       "</div>"
      ],
      "text/plain": [
       "               hotel is_canceled  lead_time  arrival_date_year  \\\n",
       "2183    Resort Hotel        True      170.0             2015.0   \n",
       "2191    Resort Hotel        True      170.0             2015.0   \n",
       "2625    Resort Hotel        True      148.0             2015.0   \n",
       "2630    Resort Hotel        True      148.0             2015.0   \n",
       "2634    Resort Hotel        True      148.0             2015.0   \n",
       "...              ...         ...        ...                ...   \n",
       "182772           NaN         NaN        NaN                NaN   \n",
       "182773           NaN         NaN        NaN                NaN   \n",
       "182774           NaN         NaN        NaN                NaN   \n",
       "182775           NaN         NaN        NaN                NaN   \n",
       "182776           NaN         NaN        NaN                NaN   \n",
       "\n",
       "       arrival_date_month  arrival_date_week_number  \\\n",
       "2183              October                      41.0   \n",
       "2191              October                      41.0   \n",
       "2625              October                       NaN   \n",
       "2630              October                       NaN   \n",
       "2634              October                      43.0   \n",
       "...                   ...                       ...   \n",
       "182772                NaN                       NaN   \n",
       "182773                NaN                       NaN   \n",
       "182774                NaN                       NaN   \n",
       "182775                NaN                       NaN   \n",
       "182776                NaN                       NaN   \n",
       "\n",
       "        arrival_date_day_of_month  stays_in_weekend_nights  \\\n",
       "2183                          4.0                      4.0   \n",
       "2191                          4.0                      4.0   \n",
       "2625                         24.0                      0.0   \n",
       "2630                         24.0                      0.0   \n",
       "2634                         24.0                      0.0   \n",
       "...                           ...                      ...   \n",
       "182772                        NaN                      NaN   \n",
       "182773                        NaN                      NaN   \n",
       "182774                        NaN                      NaN   \n",
       "182775                        NaN                      NaN   \n",
       "182776                        NaN                      NaN   \n",
       "\n",
       "        stays_in_week_nights  adults  children  babies meal country  \\\n",
       "2183                     8.0     2.0       NaN     0.0   BB      CN   \n",
       "2191                     8.0     2.0       NaN     0.0   BB      CN   \n",
       "2625                     1.0     2.0       NaN     0.0   BB     NaN   \n",
       "2630                     1.0     2.0       NaN     0.0   BB     NaN   \n",
       "2634                     1.0     1.0       0.0     0.0   BB     NaN   \n",
       "...                      ...     ...       ...     ...  ...     ...   \n",
       "182772                   NaN     NaN       NaN     NaN  NaN     NaN   \n",
       "182773                   NaN     NaN       NaN     NaN  NaN     NaN   \n",
       "182774                   NaN     NaN       NaN     NaN  NaN     NaN   \n",
       "182775                   NaN     NaN       NaN     NaN  NaN     NaN   \n",
       "182776                   NaN     NaN       NaN     NaN  NaN     NaN   \n",
       "\n",
       "       market_segment distribution_channel  is_repeated_guest  \\\n",
       "2183              NaN                TA/TO                0.0   \n",
       "2191              NaN                TA/TO                0.0   \n",
       "2625              NaN               Direct                0.0   \n",
       "2630              NaN               Direct                0.0   \n",
       "2634              NaN               Direct                0.0   \n",
       "...               ...                  ...                ...   \n",
       "182772            NaN                  NaN                NaN   \n",
       "182773            NaN                  NaN                NaN   \n",
       "182774            NaN                  NaN                NaN   \n",
       "182775            NaN                  NaN                NaN   \n",
       "182776            NaN                  NaN                NaN   \n",
       "\n",
       "        previous_cancellations  previous_bookings_not_canceled  \\\n",
       "2183                       NaN                             0.0   \n",
       "2191                       NaN                             0.0   \n",
       "2625                       0.0                             0.0   \n",
       "2630                       0.0                             0.0   \n",
       "2634                       NaN                             0.0   \n",
       "...                        ...                             ...   \n",
       "182772                     NaN                             NaN   \n",
       "182773                     NaN                             NaN   \n",
       "182774                     NaN                             NaN   \n",
       "182775                     NaN                             NaN   \n",
       "182776                     NaN                             NaN   \n",
       "\n",
       "       reserved_room_type assigned_room_type  booking_changes  agent  company  \\\n",
       "2183                  NaN                  A              0.0   15.0      NaN   \n",
       "2191                  NaN                  A              0.0   15.0      NaN   \n",
       "2625                    A                  A              0.0    NaN      NaN   \n",
       "2630                    A                  A              0.0    NaN      NaN   \n",
       "2634                    A                  A              0.0    NaN      NaN   \n",
       "...                   ...                ...              ...    ...      ...   \n",
       "182772                NaN                NaN              NaN    NaN      NaN   \n",
       "182773                NaN                NaN              NaN    NaN      NaN   \n",
       "182774                NaN                NaN              NaN    NaN      NaN   \n",
       "182775                NaN                NaN              NaN    NaN      NaN   \n",
       "182776                NaN                NaN              NaN    NaN      NaN   \n",
       "\n",
       "        days_in_waiting_list customer_type   adr  required_car_parking_spaces  \\\n",
       "2183                     0.0     Transient  44.5                          0.0   \n",
       "2191                     0.0     Transient  44.5                          0.0   \n",
       "2625                     0.0     Transient  47.0                          0.0   \n",
       "2630                     0.0     Transient  47.0                          0.0   \n",
       "2634                     0.0     Transient  39.0                          0.0   \n",
       "...                      ...           ...   ...                          ...   \n",
       "182772                   NaN           NaN   NaN                          NaN   \n",
       "182773                   NaN           NaN   NaN                          NaN   \n",
       "182774                   NaN           NaN   NaN                          NaN   \n",
       "182775                   NaN           NaN   NaN                          NaN   \n",
       "182776                   NaN           NaN   NaN                          NaN   \n",
       "\n",
       "        total_of_special_requests reservation_status reservation_status_date  \\\n",
       "2183                          0.0           Canceled     2015-07-17 00:00:00   \n",
       "2191                          0.0           Canceled     2015-07-17 00:00:00   \n",
       "2625                          0.0           Canceled     2015-06-26 00:00:00   \n",
       "2630                          0.0           Canceled     2015-06-26 00:00:00   \n",
       "2634                          0.0           Canceled     2015-06-26 00:00:00   \n",
       "...                           ...                ...                     ...   \n",
       "182772                        NaN                NaN                     NaN   \n",
       "182773                        NaN                NaN                     NaN   \n",
       "182774                        NaN                NaN                     NaN   \n",
       "182775                        NaN                NaN                     NaN   \n",
       "182776                        NaN                NaN                     NaN   \n",
       "\n",
       "          0  \n",
       "2183    NaN  \n",
       "2191    NaN  \n",
       "2625    NaN  \n",
       "2630    NaN  \n",
       "2634    NaN  \n",
       "...     ...  \n",
       "182772  NaN  \n",
       "182773  NaN  \n",
       "182774  NaN  \n",
       "182775  NaN  \n",
       "182776  NaN  \n",
       "\n",
       "[65158 rows x 32 columns]"
      ]
     },
     "execution_count": 70,
     "metadata": {},
     "output_type": "execute_result"
    }
   ],
   "source": [
    "duplicated_rows = data[data.duplicated(keep=False)]  # Keeps all occurrences of duplicates\n",
    "duplicated_rows"
   ]
  },
  {
   "cell_type": "code",
   "execution_count": 65,
   "metadata": {},
   "outputs": [
    {
     "name": "stdout",
     "output_type": "stream",
     "text": [
      "\n",
      "Rows with all values as null:\n"
     ]
    },
    {
     "data": {
      "text/html": [
       "<div>\n",
       "<style scoped>\n",
       "    .dataframe tbody tr th:only-of-type {\n",
       "        vertical-align: middle;\n",
       "    }\n",
       "\n",
       "    .dataframe tbody tr th {\n",
       "        vertical-align: top;\n",
       "    }\n",
       "\n",
       "    .dataframe thead th {\n",
       "        text-align: right;\n",
       "    }\n",
       "</style>\n",
       "<table border=\"1\" class=\"dataframe\">\n",
       "  <thead>\n",
       "    <tr style=\"text-align: right;\">\n",
       "      <th></th>\n",
       "      <th>hotel</th>\n",
       "      <th>is_canceled</th>\n",
       "      <th>lead_time</th>\n",
       "      <th>arrival_date_year</th>\n",
       "      <th>arrival_date_month</th>\n",
       "      <th>arrival_date_week_number</th>\n",
       "      <th>arrival_date_day_of_month</th>\n",
       "      <th>stays_in_weekend_nights</th>\n",
       "      <th>stays_in_week_nights</th>\n",
       "      <th>adults</th>\n",
       "      <th>children</th>\n",
       "      <th>babies</th>\n",
       "      <th>meal</th>\n",
       "      <th>country</th>\n",
       "      <th>market_segment</th>\n",
       "      <th>distribution_channel</th>\n",
       "      <th>is_repeated_guest</th>\n",
       "      <th>previous_cancellations</th>\n",
       "      <th>previous_bookings_not_canceled</th>\n",
       "      <th>reserved_room_type</th>\n",
       "      <th>assigned_room_type</th>\n",
       "      <th>booking_changes</th>\n",
       "      <th>agent</th>\n",
       "      <th>company</th>\n",
       "      <th>days_in_waiting_list</th>\n",
       "      <th>customer_type</th>\n",
       "      <th>adr</th>\n",
       "      <th>required_car_parking_spaces</th>\n",
       "      <th>total_of_special_requests</th>\n",
       "      <th>reservation_status</th>\n",
       "      <th>reservation_status_date</th>\n",
       "      <th>0</th>\n",
       "    </tr>\n",
       "  </thead>\n",
       "  <tbody>\n",
       "    <tr>\n",
       "      <th>119393</th>\n",
       "      <td>NaN</td>\n",
       "      <td>NaN</td>\n",
       "      <td>NaN</td>\n",
       "      <td>NaN</td>\n",
       "      <td>NaN</td>\n",
       "      <td>NaN</td>\n",
       "      <td>NaN</td>\n",
       "      <td>NaN</td>\n",
       "      <td>NaN</td>\n",
       "      <td>NaN</td>\n",
       "      <td>NaN</td>\n",
       "      <td>NaN</td>\n",
       "      <td>NaN</td>\n",
       "      <td>NaN</td>\n",
       "      <td>NaN</td>\n",
       "      <td>NaN</td>\n",
       "      <td>NaN</td>\n",
       "      <td>NaN</td>\n",
       "      <td>NaN</td>\n",
       "      <td>NaN</td>\n",
       "      <td>NaN</td>\n",
       "      <td>NaN</td>\n",
       "      <td>NaN</td>\n",
       "      <td>NaN</td>\n",
       "      <td>NaN</td>\n",
       "      <td>NaN</td>\n",
       "      <td>NaN</td>\n",
       "      <td>NaN</td>\n",
       "      <td>NaN</td>\n",
       "      <td>NaN</td>\n",
       "      <td>NaN</td>\n",
       "      <td>NaN</td>\n",
       "    </tr>\n",
       "    <tr>\n",
       "      <th>119400</th>\n",
       "      <td>NaN</td>\n",
       "      <td>NaN</td>\n",
       "      <td>NaN</td>\n",
       "      <td>NaN</td>\n",
       "      <td>NaN</td>\n",
       "      <td>NaN</td>\n",
       "      <td>NaN</td>\n",
       "      <td>NaN</td>\n",
       "      <td>NaN</td>\n",
       "      <td>NaN</td>\n",
       "      <td>NaN</td>\n",
       "      <td>NaN</td>\n",
       "      <td>NaN</td>\n",
       "      <td>NaN</td>\n",
       "      <td>NaN</td>\n",
       "      <td>NaN</td>\n",
       "      <td>NaN</td>\n",
       "      <td>NaN</td>\n",
       "      <td>NaN</td>\n",
       "      <td>NaN</td>\n",
       "      <td>NaN</td>\n",
       "      <td>NaN</td>\n",
       "      <td>NaN</td>\n",
       "      <td>NaN</td>\n",
       "      <td>NaN</td>\n",
       "      <td>NaN</td>\n",
       "      <td>NaN</td>\n",
       "      <td>NaN</td>\n",
       "      <td>NaN</td>\n",
       "      <td>NaN</td>\n",
       "      <td>NaN</td>\n",
       "      <td>NaN</td>\n",
       "    </tr>\n",
       "    <tr>\n",
       "      <th>119403</th>\n",
       "      <td>NaN</td>\n",
       "      <td>NaN</td>\n",
       "      <td>NaN</td>\n",
       "      <td>NaN</td>\n",
       "      <td>NaN</td>\n",
       "      <td>NaN</td>\n",
       "      <td>NaN</td>\n",
       "      <td>NaN</td>\n",
       "      <td>NaN</td>\n",
       "      <td>NaN</td>\n",
       "      <td>NaN</td>\n",
       "      <td>NaN</td>\n",
       "      <td>NaN</td>\n",
       "      <td>NaN</td>\n",
       "      <td>NaN</td>\n",
       "      <td>NaN</td>\n",
       "      <td>NaN</td>\n",
       "      <td>NaN</td>\n",
       "      <td>NaN</td>\n",
       "      <td>NaN</td>\n",
       "      <td>NaN</td>\n",
       "      <td>NaN</td>\n",
       "      <td>NaN</td>\n",
       "      <td>NaN</td>\n",
       "      <td>NaN</td>\n",
       "      <td>NaN</td>\n",
       "      <td>NaN</td>\n",
       "      <td>NaN</td>\n",
       "      <td>NaN</td>\n",
       "      <td>NaN</td>\n",
       "      <td>NaN</td>\n",
       "      <td>NaN</td>\n",
       "    </tr>\n",
       "    <tr>\n",
       "      <th>119404</th>\n",
       "      <td>NaN</td>\n",
       "      <td>NaN</td>\n",
       "      <td>NaN</td>\n",
       "      <td>NaN</td>\n",
       "      <td>NaN</td>\n",
       "      <td>NaN</td>\n",
       "      <td>NaN</td>\n",
       "      <td>NaN</td>\n",
       "      <td>NaN</td>\n",
       "      <td>NaN</td>\n",
       "      <td>NaN</td>\n",
       "      <td>NaN</td>\n",
       "      <td>NaN</td>\n",
       "      <td>NaN</td>\n",
       "      <td>NaN</td>\n",
       "      <td>NaN</td>\n",
       "      <td>NaN</td>\n",
       "      <td>NaN</td>\n",
       "      <td>NaN</td>\n",
       "      <td>NaN</td>\n",
       "      <td>NaN</td>\n",
       "      <td>NaN</td>\n",
       "      <td>NaN</td>\n",
       "      <td>NaN</td>\n",
       "      <td>NaN</td>\n",
       "      <td>NaN</td>\n",
       "      <td>NaN</td>\n",
       "      <td>NaN</td>\n",
       "      <td>NaN</td>\n",
       "      <td>NaN</td>\n",
       "      <td>NaN</td>\n",
       "      <td>NaN</td>\n",
       "    </tr>\n",
       "    <tr>\n",
       "      <th>119406</th>\n",
       "      <td>NaN</td>\n",
       "      <td>NaN</td>\n",
       "      <td>NaN</td>\n",
       "      <td>NaN</td>\n",
       "      <td>NaN</td>\n",
       "      <td>NaN</td>\n",
       "      <td>NaN</td>\n",
       "      <td>NaN</td>\n",
       "      <td>NaN</td>\n",
       "      <td>NaN</td>\n",
       "      <td>NaN</td>\n",
       "      <td>NaN</td>\n",
       "      <td>NaN</td>\n",
       "      <td>NaN</td>\n",
       "      <td>NaN</td>\n",
       "      <td>NaN</td>\n",
       "      <td>NaN</td>\n",
       "      <td>NaN</td>\n",
       "      <td>NaN</td>\n",
       "      <td>NaN</td>\n",
       "      <td>NaN</td>\n",
       "      <td>NaN</td>\n",
       "      <td>NaN</td>\n",
       "      <td>NaN</td>\n",
       "      <td>NaN</td>\n",
       "      <td>NaN</td>\n",
       "      <td>NaN</td>\n",
       "      <td>NaN</td>\n",
       "      <td>NaN</td>\n",
       "      <td>NaN</td>\n",
       "      <td>NaN</td>\n",
       "      <td>NaN</td>\n",
       "    </tr>\n",
       "    <tr>\n",
       "      <th>...</th>\n",
       "      <td>...</td>\n",
       "      <td>...</td>\n",
       "      <td>...</td>\n",
       "      <td>...</td>\n",
       "      <td>...</td>\n",
       "      <td>...</td>\n",
       "      <td>...</td>\n",
       "      <td>...</td>\n",
       "      <td>...</td>\n",
       "      <td>...</td>\n",
       "      <td>...</td>\n",
       "      <td>...</td>\n",
       "      <td>...</td>\n",
       "      <td>...</td>\n",
       "      <td>...</td>\n",
       "      <td>...</td>\n",
       "      <td>...</td>\n",
       "      <td>...</td>\n",
       "      <td>...</td>\n",
       "      <td>...</td>\n",
       "      <td>...</td>\n",
       "      <td>...</td>\n",
       "      <td>...</td>\n",
       "      <td>...</td>\n",
       "      <td>...</td>\n",
       "      <td>...</td>\n",
       "      <td>...</td>\n",
       "      <td>...</td>\n",
       "      <td>...</td>\n",
       "      <td>...</td>\n",
       "      <td>...</td>\n",
       "      <td>...</td>\n",
       "    </tr>\n",
       "    <tr>\n",
       "      <th>182772</th>\n",
       "      <td>NaN</td>\n",
       "      <td>NaN</td>\n",
       "      <td>NaN</td>\n",
       "      <td>NaN</td>\n",
       "      <td>NaN</td>\n",
       "      <td>NaN</td>\n",
       "      <td>NaN</td>\n",
       "      <td>NaN</td>\n",
       "      <td>NaN</td>\n",
       "      <td>NaN</td>\n",
       "      <td>NaN</td>\n",
       "      <td>NaN</td>\n",
       "      <td>NaN</td>\n",
       "      <td>NaN</td>\n",
       "      <td>NaN</td>\n",
       "      <td>NaN</td>\n",
       "      <td>NaN</td>\n",
       "      <td>NaN</td>\n",
       "      <td>NaN</td>\n",
       "      <td>NaN</td>\n",
       "      <td>NaN</td>\n",
       "      <td>NaN</td>\n",
       "      <td>NaN</td>\n",
       "      <td>NaN</td>\n",
       "      <td>NaN</td>\n",
       "      <td>NaN</td>\n",
       "      <td>NaN</td>\n",
       "      <td>NaN</td>\n",
       "      <td>NaN</td>\n",
       "      <td>NaN</td>\n",
       "      <td>NaN</td>\n",
       "      <td>NaN</td>\n",
       "    </tr>\n",
       "    <tr>\n",
       "      <th>182773</th>\n",
       "      <td>NaN</td>\n",
       "      <td>NaN</td>\n",
       "      <td>NaN</td>\n",
       "      <td>NaN</td>\n",
       "      <td>NaN</td>\n",
       "      <td>NaN</td>\n",
       "      <td>NaN</td>\n",
       "      <td>NaN</td>\n",
       "      <td>NaN</td>\n",
       "      <td>NaN</td>\n",
       "      <td>NaN</td>\n",
       "      <td>NaN</td>\n",
       "      <td>NaN</td>\n",
       "      <td>NaN</td>\n",
       "      <td>NaN</td>\n",
       "      <td>NaN</td>\n",
       "      <td>NaN</td>\n",
       "      <td>NaN</td>\n",
       "      <td>NaN</td>\n",
       "      <td>NaN</td>\n",
       "      <td>NaN</td>\n",
       "      <td>NaN</td>\n",
       "      <td>NaN</td>\n",
       "      <td>NaN</td>\n",
       "      <td>NaN</td>\n",
       "      <td>NaN</td>\n",
       "      <td>NaN</td>\n",
       "      <td>NaN</td>\n",
       "      <td>NaN</td>\n",
       "      <td>NaN</td>\n",
       "      <td>NaN</td>\n",
       "      <td>NaN</td>\n",
       "    </tr>\n",
       "    <tr>\n",
       "      <th>182774</th>\n",
       "      <td>NaN</td>\n",
       "      <td>NaN</td>\n",
       "      <td>NaN</td>\n",
       "      <td>NaN</td>\n",
       "      <td>NaN</td>\n",
       "      <td>NaN</td>\n",
       "      <td>NaN</td>\n",
       "      <td>NaN</td>\n",
       "      <td>NaN</td>\n",
       "      <td>NaN</td>\n",
       "      <td>NaN</td>\n",
       "      <td>NaN</td>\n",
       "      <td>NaN</td>\n",
       "      <td>NaN</td>\n",
       "      <td>NaN</td>\n",
       "      <td>NaN</td>\n",
       "      <td>NaN</td>\n",
       "      <td>NaN</td>\n",
       "      <td>NaN</td>\n",
       "      <td>NaN</td>\n",
       "      <td>NaN</td>\n",
       "      <td>NaN</td>\n",
       "      <td>NaN</td>\n",
       "      <td>NaN</td>\n",
       "      <td>NaN</td>\n",
       "      <td>NaN</td>\n",
       "      <td>NaN</td>\n",
       "      <td>NaN</td>\n",
       "      <td>NaN</td>\n",
       "      <td>NaN</td>\n",
       "      <td>NaN</td>\n",
       "      <td>NaN</td>\n",
       "    </tr>\n",
       "    <tr>\n",
       "      <th>182775</th>\n",
       "      <td>NaN</td>\n",
       "      <td>NaN</td>\n",
       "      <td>NaN</td>\n",
       "      <td>NaN</td>\n",
       "      <td>NaN</td>\n",
       "      <td>NaN</td>\n",
       "      <td>NaN</td>\n",
       "      <td>NaN</td>\n",
       "      <td>NaN</td>\n",
       "      <td>NaN</td>\n",
       "      <td>NaN</td>\n",
       "      <td>NaN</td>\n",
       "      <td>NaN</td>\n",
       "      <td>NaN</td>\n",
       "      <td>NaN</td>\n",
       "      <td>NaN</td>\n",
       "      <td>NaN</td>\n",
       "      <td>NaN</td>\n",
       "      <td>NaN</td>\n",
       "      <td>NaN</td>\n",
       "      <td>NaN</td>\n",
       "      <td>NaN</td>\n",
       "      <td>NaN</td>\n",
       "      <td>NaN</td>\n",
       "      <td>NaN</td>\n",
       "      <td>NaN</td>\n",
       "      <td>NaN</td>\n",
       "      <td>NaN</td>\n",
       "      <td>NaN</td>\n",
       "      <td>NaN</td>\n",
       "      <td>NaN</td>\n",
       "      <td>NaN</td>\n",
       "    </tr>\n",
       "    <tr>\n",
       "      <th>182776</th>\n",
       "      <td>NaN</td>\n",
       "      <td>NaN</td>\n",
       "      <td>NaN</td>\n",
       "      <td>NaN</td>\n",
       "      <td>NaN</td>\n",
       "      <td>NaN</td>\n",
       "      <td>NaN</td>\n",
       "      <td>NaN</td>\n",
       "      <td>NaN</td>\n",
       "      <td>NaN</td>\n",
       "      <td>NaN</td>\n",
       "      <td>NaN</td>\n",
       "      <td>NaN</td>\n",
       "      <td>NaN</td>\n",
       "      <td>NaN</td>\n",
       "      <td>NaN</td>\n",
       "      <td>NaN</td>\n",
       "      <td>NaN</td>\n",
       "      <td>NaN</td>\n",
       "      <td>NaN</td>\n",
       "      <td>NaN</td>\n",
       "      <td>NaN</td>\n",
       "      <td>NaN</td>\n",
       "      <td>NaN</td>\n",
       "      <td>NaN</td>\n",
       "      <td>NaN</td>\n",
       "      <td>NaN</td>\n",
       "      <td>NaN</td>\n",
       "      <td>NaN</td>\n",
       "      <td>NaN</td>\n",
       "      <td>NaN</td>\n",
       "      <td>NaN</td>\n",
       "    </tr>\n",
       "  </tbody>\n",
       "</table>\n",
       "<p>20395 rows × 32 columns</p>\n",
       "</div>"
      ],
      "text/plain": [
       "       hotel is_canceled  lead_time  arrival_date_year arrival_date_month  \\\n",
       "119393   NaN         NaN        NaN                NaN                NaN   \n",
       "119400   NaN         NaN        NaN                NaN                NaN   \n",
       "119403   NaN         NaN        NaN                NaN                NaN   \n",
       "119404   NaN         NaN        NaN                NaN                NaN   \n",
       "119406   NaN         NaN        NaN                NaN                NaN   \n",
       "...      ...         ...        ...                ...                ...   \n",
       "182772   NaN         NaN        NaN                NaN                NaN   \n",
       "182773   NaN         NaN        NaN                NaN                NaN   \n",
       "182774   NaN         NaN        NaN                NaN                NaN   \n",
       "182775   NaN         NaN        NaN                NaN                NaN   \n",
       "182776   NaN         NaN        NaN                NaN                NaN   \n",
       "\n",
       "        arrival_date_week_number  arrival_date_day_of_month  \\\n",
       "119393                       NaN                        NaN   \n",
       "119400                       NaN                        NaN   \n",
       "119403                       NaN                        NaN   \n",
       "119404                       NaN                        NaN   \n",
       "119406                       NaN                        NaN   \n",
       "...                          ...                        ...   \n",
       "182772                       NaN                        NaN   \n",
       "182773                       NaN                        NaN   \n",
       "182774                       NaN                        NaN   \n",
       "182775                       NaN                        NaN   \n",
       "182776                       NaN                        NaN   \n",
       "\n",
       "        stays_in_weekend_nights  stays_in_week_nights  adults  children  \\\n",
       "119393                      NaN                   NaN     NaN       NaN   \n",
       "119400                      NaN                   NaN     NaN       NaN   \n",
       "119403                      NaN                   NaN     NaN       NaN   \n",
       "119404                      NaN                   NaN     NaN       NaN   \n",
       "119406                      NaN                   NaN     NaN       NaN   \n",
       "...                         ...                   ...     ...       ...   \n",
       "182772                      NaN                   NaN     NaN       NaN   \n",
       "182773                      NaN                   NaN     NaN       NaN   \n",
       "182774                      NaN                   NaN     NaN       NaN   \n",
       "182775                      NaN                   NaN     NaN       NaN   \n",
       "182776                      NaN                   NaN     NaN       NaN   \n",
       "\n",
       "        babies meal country market_segment distribution_channel  \\\n",
       "119393     NaN  NaN     NaN            NaN                  NaN   \n",
       "119400     NaN  NaN     NaN            NaN                  NaN   \n",
       "119403     NaN  NaN     NaN            NaN                  NaN   \n",
       "119404     NaN  NaN     NaN            NaN                  NaN   \n",
       "119406     NaN  NaN     NaN            NaN                  NaN   \n",
       "...        ...  ...     ...            ...                  ...   \n",
       "182772     NaN  NaN     NaN            NaN                  NaN   \n",
       "182773     NaN  NaN     NaN            NaN                  NaN   \n",
       "182774     NaN  NaN     NaN            NaN                  NaN   \n",
       "182775     NaN  NaN     NaN            NaN                  NaN   \n",
       "182776     NaN  NaN     NaN            NaN                  NaN   \n",
       "\n",
       "        is_repeated_guest  previous_cancellations  \\\n",
       "119393                NaN                     NaN   \n",
       "119400                NaN                     NaN   \n",
       "119403                NaN                     NaN   \n",
       "119404                NaN                     NaN   \n",
       "119406                NaN                     NaN   \n",
       "...                   ...                     ...   \n",
       "182772                NaN                     NaN   \n",
       "182773                NaN                     NaN   \n",
       "182774                NaN                     NaN   \n",
       "182775                NaN                     NaN   \n",
       "182776                NaN                     NaN   \n",
       "\n",
       "        previous_bookings_not_canceled reserved_room_type assigned_room_type  \\\n",
       "119393                             NaN                NaN                NaN   \n",
       "119400                             NaN                NaN                NaN   \n",
       "119403                             NaN                NaN                NaN   \n",
       "119404                             NaN                NaN                NaN   \n",
       "119406                             NaN                NaN                NaN   \n",
       "...                                ...                ...                ...   \n",
       "182772                             NaN                NaN                NaN   \n",
       "182773                             NaN                NaN                NaN   \n",
       "182774                             NaN                NaN                NaN   \n",
       "182775                             NaN                NaN                NaN   \n",
       "182776                             NaN                NaN                NaN   \n",
       "\n",
       "        booking_changes  agent  company  days_in_waiting_list customer_type  \\\n",
       "119393              NaN    NaN      NaN                   NaN           NaN   \n",
       "119400              NaN    NaN      NaN                   NaN           NaN   \n",
       "119403              NaN    NaN      NaN                   NaN           NaN   \n",
       "119404              NaN    NaN      NaN                   NaN           NaN   \n",
       "119406              NaN    NaN      NaN                   NaN           NaN   \n",
       "...                 ...    ...      ...                   ...           ...   \n",
       "182772              NaN    NaN      NaN                   NaN           NaN   \n",
       "182773              NaN    NaN      NaN                   NaN           NaN   \n",
       "182774              NaN    NaN      NaN                   NaN           NaN   \n",
       "182775              NaN    NaN      NaN                   NaN           NaN   \n",
       "182776              NaN    NaN      NaN                   NaN           NaN   \n",
       "\n",
       "        adr  required_car_parking_spaces  total_of_special_requests  \\\n",
       "119393  NaN                          NaN                        NaN   \n",
       "119400  NaN                          NaN                        NaN   \n",
       "119403  NaN                          NaN                        NaN   \n",
       "119404  NaN                          NaN                        NaN   \n",
       "119406  NaN                          NaN                        NaN   \n",
       "...     ...                          ...                        ...   \n",
       "182772  NaN                          NaN                        NaN   \n",
       "182773  NaN                          NaN                        NaN   \n",
       "182774  NaN                          NaN                        NaN   \n",
       "182775  NaN                          NaN                        NaN   \n",
       "182776  NaN                          NaN                        NaN   \n",
       "\n",
       "       reservation_status reservation_status_date    0  \n",
       "119393                NaN                     NaN  NaN  \n",
       "119400                NaN                     NaN  NaN  \n",
       "119403                NaN                     NaN  NaN  \n",
       "119404                NaN                     NaN  NaN  \n",
       "119406                NaN                     NaN  NaN  \n",
       "...                   ...                     ...  ...  \n",
       "182772                NaN                     NaN  NaN  \n",
       "182773                NaN                     NaN  NaN  \n",
       "182774                NaN                     NaN  NaN  \n",
       "182775                NaN                     NaN  NaN  \n",
       "182776                NaN                     NaN  NaN  \n",
       "\n",
       "[20395 rows x 32 columns]"
      ]
     },
     "metadata": {},
     "output_type": "display_data"
    }
   ],
   "source": [
    "print(\"\\nRows with all values as null:\")\n",
    "all_null_rows = data[data.isnull().all(axis=1)]\n",
    "if not all_null_rows.empty:\n",
    "    display(all_null_rows)     # Eliminar!"
   ]
  },
  {
   "cell_type": "markdown",
   "metadata": {},
   "source": [
    "## NULOS"
   ]
  },
  {
   "cell_type": "code",
   "execution_count": 47,
   "metadata": {},
   "outputs": [
    {
     "data": {
      "text/plain": [
       "hotel                             34.72\n",
       "is_canceled                       34.72\n",
       "lead_time                         34.66\n",
       "arrival_date_year                 64.55\n",
       "arrival_date_month                34.72\n",
       "arrival_date_week_number          44.77\n",
       "arrival_date_day_of_month         34.78\n",
       "stays_in_weekend_nights           34.66\n",
       "stays_in_week_nights              34.66\n",
       "adults                            34.69\n",
       "children                          62.10\n",
       "babies                            34.69\n",
       "meal                              34.72\n",
       "country                           64.43\n",
       "market_segment                    67.23\n",
       "distribution_channel              42.09\n",
       "is_repeated_guest                 37.46\n",
       "previous_cancellations            58.32\n",
       "previous_bookings_not_canceled    34.72\n",
       "reserved_room_type                56.65\n",
       "assigned_room_type                34.72\n",
       "booking_changes                   34.70\n",
       "agent                             43.65\n",
       "company                           97.88\n",
       "days_in_waiting_list              34.72\n",
       "customer_type                     48.49\n",
       "adr                               34.72\n",
       "required_car_parking_spaces       34.72\n",
       "total_of_special_requests         34.72\n",
       "reservation_status                34.72\n",
       "reservation_status_date           41.76\n",
       "0                                 76.51\n",
       "dtype: float64"
      ]
     },
     "metadata": {},
     "output_type": "display_data"
    },
    {
     "name": "stdout",
     "output_type": "stream",
     "text": [
      "\n",
      "Rows with all values as null:\n"
     ]
    },
    {
     "data": {
      "text/html": [
       "<div>\n",
       "<style scoped>\n",
       "    .dataframe tbody tr th:only-of-type {\n",
       "        vertical-align: middle;\n",
       "    }\n",
       "\n",
       "    .dataframe tbody tr th {\n",
       "        vertical-align: top;\n",
       "    }\n",
       "\n",
       "    .dataframe thead th {\n",
       "        text-align: right;\n",
       "    }\n",
       "</style>\n",
       "<table border=\"1\" class=\"dataframe\">\n",
       "  <thead>\n",
       "    <tr style=\"text-align: right;\">\n",
       "      <th></th>\n",
       "      <th>hotel</th>\n",
       "      <th>is_canceled</th>\n",
       "      <th>lead_time</th>\n",
       "      <th>arrival_date_year</th>\n",
       "      <th>arrival_date_month</th>\n",
       "      <th>arrival_date_week_number</th>\n",
       "      <th>arrival_date_day_of_month</th>\n",
       "      <th>stays_in_weekend_nights</th>\n",
       "      <th>stays_in_week_nights</th>\n",
       "      <th>adults</th>\n",
       "      <th>children</th>\n",
       "      <th>babies</th>\n",
       "      <th>meal</th>\n",
       "      <th>country</th>\n",
       "      <th>market_segment</th>\n",
       "      <th>distribution_channel</th>\n",
       "      <th>is_repeated_guest</th>\n",
       "      <th>previous_cancellations</th>\n",
       "      <th>previous_bookings_not_canceled</th>\n",
       "      <th>reserved_room_type</th>\n",
       "      <th>assigned_room_type</th>\n",
       "      <th>booking_changes</th>\n",
       "      <th>agent</th>\n",
       "      <th>company</th>\n",
       "      <th>days_in_waiting_list</th>\n",
       "      <th>customer_type</th>\n",
       "      <th>adr</th>\n",
       "      <th>required_car_parking_spaces</th>\n",
       "      <th>total_of_special_requests</th>\n",
       "      <th>reservation_status</th>\n",
       "      <th>reservation_status_date</th>\n",
       "      <th>0</th>\n",
       "    </tr>\n",
       "  </thead>\n",
       "  <tbody>\n",
       "    <tr>\n",
       "      <th>119393</th>\n",
       "      <td>NaN</td>\n",
       "      <td>NaN</td>\n",
       "      <td>NaN</td>\n",
       "      <td>NaN</td>\n",
       "      <td>NaN</td>\n",
       "      <td>NaN</td>\n",
       "      <td>NaN</td>\n",
       "      <td>NaN</td>\n",
       "      <td>NaN</td>\n",
       "      <td>NaN</td>\n",
       "      <td>NaN</td>\n",
       "      <td>NaN</td>\n",
       "      <td>NaN</td>\n",
       "      <td>NaN</td>\n",
       "      <td>NaN</td>\n",
       "      <td>NaN</td>\n",
       "      <td>NaN</td>\n",
       "      <td>NaN</td>\n",
       "      <td>NaN</td>\n",
       "      <td>NaN</td>\n",
       "      <td>NaN</td>\n",
       "      <td>NaN</td>\n",
       "      <td>NaN</td>\n",
       "      <td>NaN</td>\n",
       "      <td>NaN</td>\n",
       "      <td>NaN</td>\n",
       "      <td>NaN</td>\n",
       "      <td>NaN</td>\n",
       "      <td>NaN</td>\n",
       "      <td>NaN</td>\n",
       "      <td>NaN</td>\n",
       "      <td>NaN</td>\n",
       "    </tr>\n",
       "    <tr>\n",
       "      <th>119400</th>\n",
       "      <td>NaN</td>\n",
       "      <td>NaN</td>\n",
       "      <td>NaN</td>\n",
       "      <td>NaN</td>\n",
       "      <td>NaN</td>\n",
       "      <td>NaN</td>\n",
       "      <td>NaN</td>\n",
       "      <td>NaN</td>\n",
       "      <td>NaN</td>\n",
       "      <td>NaN</td>\n",
       "      <td>NaN</td>\n",
       "      <td>NaN</td>\n",
       "      <td>NaN</td>\n",
       "      <td>NaN</td>\n",
       "      <td>NaN</td>\n",
       "      <td>NaN</td>\n",
       "      <td>NaN</td>\n",
       "      <td>NaN</td>\n",
       "      <td>NaN</td>\n",
       "      <td>NaN</td>\n",
       "      <td>NaN</td>\n",
       "      <td>NaN</td>\n",
       "      <td>NaN</td>\n",
       "      <td>NaN</td>\n",
       "      <td>NaN</td>\n",
       "      <td>NaN</td>\n",
       "      <td>NaN</td>\n",
       "      <td>NaN</td>\n",
       "      <td>NaN</td>\n",
       "      <td>NaN</td>\n",
       "      <td>NaN</td>\n",
       "      <td>NaN</td>\n",
       "    </tr>\n",
       "    <tr>\n",
       "      <th>119403</th>\n",
       "      <td>NaN</td>\n",
       "      <td>NaN</td>\n",
       "      <td>NaN</td>\n",
       "      <td>NaN</td>\n",
       "      <td>NaN</td>\n",
       "      <td>NaN</td>\n",
       "      <td>NaN</td>\n",
       "      <td>NaN</td>\n",
       "      <td>NaN</td>\n",
       "      <td>NaN</td>\n",
       "      <td>NaN</td>\n",
       "      <td>NaN</td>\n",
       "      <td>NaN</td>\n",
       "      <td>NaN</td>\n",
       "      <td>NaN</td>\n",
       "      <td>NaN</td>\n",
       "      <td>NaN</td>\n",
       "      <td>NaN</td>\n",
       "      <td>NaN</td>\n",
       "      <td>NaN</td>\n",
       "      <td>NaN</td>\n",
       "      <td>NaN</td>\n",
       "      <td>NaN</td>\n",
       "      <td>NaN</td>\n",
       "      <td>NaN</td>\n",
       "      <td>NaN</td>\n",
       "      <td>NaN</td>\n",
       "      <td>NaN</td>\n",
       "      <td>NaN</td>\n",
       "      <td>NaN</td>\n",
       "      <td>NaN</td>\n",
       "      <td>NaN</td>\n",
       "    </tr>\n",
       "    <tr>\n",
       "      <th>119404</th>\n",
       "      <td>NaN</td>\n",
       "      <td>NaN</td>\n",
       "      <td>NaN</td>\n",
       "      <td>NaN</td>\n",
       "      <td>NaN</td>\n",
       "      <td>NaN</td>\n",
       "      <td>NaN</td>\n",
       "      <td>NaN</td>\n",
       "      <td>NaN</td>\n",
       "      <td>NaN</td>\n",
       "      <td>NaN</td>\n",
       "      <td>NaN</td>\n",
       "      <td>NaN</td>\n",
       "      <td>NaN</td>\n",
       "      <td>NaN</td>\n",
       "      <td>NaN</td>\n",
       "      <td>NaN</td>\n",
       "      <td>NaN</td>\n",
       "      <td>NaN</td>\n",
       "      <td>NaN</td>\n",
       "      <td>NaN</td>\n",
       "      <td>NaN</td>\n",
       "      <td>NaN</td>\n",
       "      <td>NaN</td>\n",
       "      <td>NaN</td>\n",
       "      <td>NaN</td>\n",
       "      <td>NaN</td>\n",
       "      <td>NaN</td>\n",
       "      <td>NaN</td>\n",
       "      <td>NaN</td>\n",
       "      <td>NaN</td>\n",
       "      <td>NaN</td>\n",
       "    </tr>\n",
       "    <tr>\n",
       "      <th>119406</th>\n",
       "      <td>NaN</td>\n",
       "      <td>NaN</td>\n",
       "      <td>NaN</td>\n",
       "      <td>NaN</td>\n",
       "      <td>NaN</td>\n",
       "      <td>NaN</td>\n",
       "      <td>NaN</td>\n",
       "      <td>NaN</td>\n",
       "      <td>NaN</td>\n",
       "      <td>NaN</td>\n",
       "      <td>NaN</td>\n",
       "      <td>NaN</td>\n",
       "      <td>NaN</td>\n",
       "      <td>NaN</td>\n",
       "      <td>NaN</td>\n",
       "      <td>NaN</td>\n",
       "      <td>NaN</td>\n",
       "      <td>NaN</td>\n",
       "      <td>NaN</td>\n",
       "      <td>NaN</td>\n",
       "      <td>NaN</td>\n",
       "      <td>NaN</td>\n",
       "      <td>NaN</td>\n",
       "      <td>NaN</td>\n",
       "      <td>NaN</td>\n",
       "      <td>NaN</td>\n",
       "      <td>NaN</td>\n",
       "      <td>NaN</td>\n",
       "      <td>NaN</td>\n",
       "      <td>NaN</td>\n",
       "      <td>NaN</td>\n",
       "      <td>NaN</td>\n",
       "    </tr>\n",
       "    <tr>\n",
       "      <th>...</th>\n",
       "      <td>...</td>\n",
       "      <td>...</td>\n",
       "      <td>...</td>\n",
       "      <td>...</td>\n",
       "      <td>...</td>\n",
       "      <td>...</td>\n",
       "      <td>...</td>\n",
       "      <td>...</td>\n",
       "      <td>...</td>\n",
       "      <td>...</td>\n",
       "      <td>...</td>\n",
       "      <td>...</td>\n",
       "      <td>...</td>\n",
       "      <td>...</td>\n",
       "      <td>...</td>\n",
       "      <td>...</td>\n",
       "      <td>...</td>\n",
       "      <td>...</td>\n",
       "      <td>...</td>\n",
       "      <td>...</td>\n",
       "      <td>...</td>\n",
       "      <td>...</td>\n",
       "      <td>...</td>\n",
       "      <td>...</td>\n",
       "      <td>...</td>\n",
       "      <td>...</td>\n",
       "      <td>...</td>\n",
       "      <td>...</td>\n",
       "      <td>...</td>\n",
       "      <td>...</td>\n",
       "      <td>...</td>\n",
       "      <td>...</td>\n",
       "    </tr>\n",
       "    <tr>\n",
       "      <th>182772</th>\n",
       "      <td>NaN</td>\n",
       "      <td>NaN</td>\n",
       "      <td>NaN</td>\n",
       "      <td>NaN</td>\n",
       "      <td>NaN</td>\n",
       "      <td>NaN</td>\n",
       "      <td>NaN</td>\n",
       "      <td>NaN</td>\n",
       "      <td>NaN</td>\n",
       "      <td>NaN</td>\n",
       "      <td>NaN</td>\n",
       "      <td>NaN</td>\n",
       "      <td>NaN</td>\n",
       "      <td>NaN</td>\n",
       "      <td>NaN</td>\n",
       "      <td>NaN</td>\n",
       "      <td>NaN</td>\n",
       "      <td>NaN</td>\n",
       "      <td>NaN</td>\n",
       "      <td>NaN</td>\n",
       "      <td>NaN</td>\n",
       "      <td>NaN</td>\n",
       "      <td>NaN</td>\n",
       "      <td>NaN</td>\n",
       "      <td>NaN</td>\n",
       "      <td>NaN</td>\n",
       "      <td>NaN</td>\n",
       "      <td>NaN</td>\n",
       "      <td>NaN</td>\n",
       "      <td>NaN</td>\n",
       "      <td>NaN</td>\n",
       "      <td>NaN</td>\n",
       "    </tr>\n",
       "    <tr>\n",
       "      <th>182773</th>\n",
       "      <td>NaN</td>\n",
       "      <td>NaN</td>\n",
       "      <td>NaN</td>\n",
       "      <td>NaN</td>\n",
       "      <td>NaN</td>\n",
       "      <td>NaN</td>\n",
       "      <td>NaN</td>\n",
       "      <td>NaN</td>\n",
       "      <td>NaN</td>\n",
       "      <td>NaN</td>\n",
       "      <td>NaN</td>\n",
       "      <td>NaN</td>\n",
       "      <td>NaN</td>\n",
       "      <td>NaN</td>\n",
       "      <td>NaN</td>\n",
       "      <td>NaN</td>\n",
       "      <td>NaN</td>\n",
       "      <td>NaN</td>\n",
       "      <td>NaN</td>\n",
       "      <td>NaN</td>\n",
       "      <td>NaN</td>\n",
       "      <td>NaN</td>\n",
       "      <td>NaN</td>\n",
       "      <td>NaN</td>\n",
       "      <td>NaN</td>\n",
       "      <td>NaN</td>\n",
       "      <td>NaN</td>\n",
       "      <td>NaN</td>\n",
       "      <td>NaN</td>\n",
       "      <td>NaN</td>\n",
       "      <td>NaN</td>\n",
       "      <td>NaN</td>\n",
       "    </tr>\n",
       "    <tr>\n",
       "      <th>182774</th>\n",
       "      <td>NaN</td>\n",
       "      <td>NaN</td>\n",
       "      <td>NaN</td>\n",
       "      <td>NaN</td>\n",
       "      <td>NaN</td>\n",
       "      <td>NaN</td>\n",
       "      <td>NaN</td>\n",
       "      <td>NaN</td>\n",
       "      <td>NaN</td>\n",
       "      <td>NaN</td>\n",
       "      <td>NaN</td>\n",
       "      <td>NaN</td>\n",
       "      <td>NaN</td>\n",
       "      <td>NaN</td>\n",
       "      <td>NaN</td>\n",
       "      <td>NaN</td>\n",
       "      <td>NaN</td>\n",
       "      <td>NaN</td>\n",
       "      <td>NaN</td>\n",
       "      <td>NaN</td>\n",
       "      <td>NaN</td>\n",
       "      <td>NaN</td>\n",
       "      <td>NaN</td>\n",
       "      <td>NaN</td>\n",
       "      <td>NaN</td>\n",
       "      <td>NaN</td>\n",
       "      <td>NaN</td>\n",
       "      <td>NaN</td>\n",
       "      <td>NaN</td>\n",
       "      <td>NaN</td>\n",
       "      <td>NaN</td>\n",
       "      <td>NaN</td>\n",
       "    </tr>\n",
       "    <tr>\n",
       "      <th>182775</th>\n",
       "      <td>NaN</td>\n",
       "      <td>NaN</td>\n",
       "      <td>NaN</td>\n",
       "      <td>NaN</td>\n",
       "      <td>NaN</td>\n",
       "      <td>NaN</td>\n",
       "      <td>NaN</td>\n",
       "      <td>NaN</td>\n",
       "      <td>NaN</td>\n",
       "      <td>NaN</td>\n",
       "      <td>NaN</td>\n",
       "      <td>NaN</td>\n",
       "      <td>NaN</td>\n",
       "      <td>NaN</td>\n",
       "      <td>NaN</td>\n",
       "      <td>NaN</td>\n",
       "      <td>NaN</td>\n",
       "      <td>NaN</td>\n",
       "      <td>NaN</td>\n",
       "      <td>NaN</td>\n",
       "      <td>NaN</td>\n",
       "      <td>NaN</td>\n",
       "      <td>NaN</td>\n",
       "      <td>NaN</td>\n",
       "      <td>NaN</td>\n",
       "      <td>NaN</td>\n",
       "      <td>NaN</td>\n",
       "      <td>NaN</td>\n",
       "      <td>NaN</td>\n",
       "      <td>NaN</td>\n",
       "      <td>NaN</td>\n",
       "      <td>NaN</td>\n",
       "    </tr>\n",
       "    <tr>\n",
       "      <th>182776</th>\n",
       "      <td>NaN</td>\n",
       "      <td>NaN</td>\n",
       "      <td>NaN</td>\n",
       "      <td>NaN</td>\n",
       "      <td>NaN</td>\n",
       "      <td>NaN</td>\n",
       "      <td>NaN</td>\n",
       "      <td>NaN</td>\n",
       "      <td>NaN</td>\n",
       "      <td>NaN</td>\n",
       "      <td>NaN</td>\n",
       "      <td>NaN</td>\n",
       "      <td>NaN</td>\n",
       "      <td>NaN</td>\n",
       "      <td>NaN</td>\n",
       "      <td>NaN</td>\n",
       "      <td>NaN</td>\n",
       "      <td>NaN</td>\n",
       "      <td>NaN</td>\n",
       "      <td>NaN</td>\n",
       "      <td>NaN</td>\n",
       "      <td>NaN</td>\n",
       "      <td>NaN</td>\n",
       "      <td>NaN</td>\n",
       "      <td>NaN</td>\n",
       "      <td>NaN</td>\n",
       "      <td>NaN</td>\n",
       "      <td>NaN</td>\n",
       "      <td>NaN</td>\n",
       "      <td>NaN</td>\n",
       "      <td>NaN</td>\n",
       "      <td>NaN</td>\n",
       "    </tr>\n",
       "  </tbody>\n",
       "</table>\n",
       "<p>20395 rows × 32 columns</p>\n",
       "</div>"
      ],
      "text/plain": [
       "       hotel is_canceled  lead_time  arrival_date_year arrival_date_month  \\\n",
       "119393   NaN         NaN        NaN                NaN                NaN   \n",
       "119400   NaN         NaN        NaN                NaN                NaN   \n",
       "119403   NaN         NaN        NaN                NaN                NaN   \n",
       "119404   NaN         NaN        NaN                NaN                NaN   \n",
       "119406   NaN         NaN        NaN                NaN                NaN   \n",
       "...      ...         ...        ...                ...                ...   \n",
       "182772   NaN         NaN        NaN                NaN                NaN   \n",
       "182773   NaN         NaN        NaN                NaN                NaN   \n",
       "182774   NaN         NaN        NaN                NaN                NaN   \n",
       "182775   NaN         NaN        NaN                NaN                NaN   \n",
       "182776   NaN         NaN        NaN                NaN                NaN   \n",
       "\n",
       "        arrival_date_week_number  arrival_date_day_of_month  \\\n",
       "119393                       NaN                        NaN   \n",
       "119400                       NaN                        NaN   \n",
       "119403                       NaN                        NaN   \n",
       "119404                       NaN                        NaN   \n",
       "119406                       NaN                        NaN   \n",
       "...                          ...                        ...   \n",
       "182772                       NaN                        NaN   \n",
       "182773                       NaN                        NaN   \n",
       "182774                       NaN                        NaN   \n",
       "182775                       NaN                        NaN   \n",
       "182776                       NaN                        NaN   \n",
       "\n",
       "        stays_in_weekend_nights  stays_in_week_nights  adults  children  \\\n",
       "119393                      NaN                   NaN     NaN       NaN   \n",
       "119400                      NaN                   NaN     NaN       NaN   \n",
       "119403                      NaN                   NaN     NaN       NaN   \n",
       "119404                      NaN                   NaN     NaN       NaN   \n",
       "119406                      NaN                   NaN     NaN       NaN   \n",
       "...                         ...                   ...     ...       ...   \n",
       "182772                      NaN                   NaN     NaN       NaN   \n",
       "182773                      NaN                   NaN     NaN       NaN   \n",
       "182774                      NaN                   NaN     NaN       NaN   \n",
       "182775                      NaN                   NaN     NaN       NaN   \n",
       "182776                      NaN                   NaN     NaN       NaN   \n",
       "\n",
       "        babies meal country market_segment distribution_channel  \\\n",
       "119393     NaN  NaN     NaN            NaN                  NaN   \n",
       "119400     NaN  NaN     NaN            NaN                  NaN   \n",
       "119403     NaN  NaN     NaN            NaN                  NaN   \n",
       "119404     NaN  NaN     NaN            NaN                  NaN   \n",
       "119406     NaN  NaN     NaN            NaN                  NaN   \n",
       "...        ...  ...     ...            ...                  ...   \n",
       "182772     NaN  NaN     NaN            NaN                  NaN   \n",
       "182773     NaN  NaN     NaN            NaN                  NaN   \n",
       "182774     NaN  NaN     NaN            NaN                  NaN   \n",
       "182775     NaN  NaN     NaN            NaN                  NaN   \n",
       "182776     NaN  NaN     NaN            NaN                  NaN   \n",
       "\n",
       "        is_repeated_guest  previous_cancellations  \\\n",
       "119393                NaN                     NaN   \n",
       "119400                NaN                     NaN   \n",
       "119403                NaN                     NaN   \n",
       "119404                NaN                     NaN   \n",
       "119406                NaN                     NaN   \n",
       "...                   ...                     ...   \n",
       "182772                NaN                     NaN   \n",
       "182773                NaN                     NaN   \n",
       "182774                NaN                     NaN   \n",
       "182775                NaN                     NaN   \n",
       "182776                NaN                     NaN   \n",
       "\n",
       "        previous_bookings_not_canceled reserved_room_type assigned_room_type  \\\n",
       "119393                             NaN                NaN                NaN   \n",
       "119400                             NaN                NaN                NaN   \n",
       "119403                             NaN                NaN                NaN   \n",
       "119404                             NaN                NaN                NaN   \n",
       "119406                             NaN                NaN                NaN   \n",
       "...                                ...                ...                ...   \n",
       "182772                             NaN                NaN                NaN   \n",
       "182773                             NaN                NaN                NaN   \n",
       "182774                             NaN                NaN                NaN   \n",
       "182775                             NaN                NaN                NaN   \n",
       "182776                             NaN                NaN                NaN   \n",
       "\n",
       "        booking_changes  agent  company  days_in_waiting_list customer_type  \\\n",
       "119393              NaN    NaN      NaN                   NaN           NaN   \n",
       "119400              NaN    NaN      NaN                   NaN           NaN   \n",
       "119403              NaN    NaN      NaN                   NaN           NaN   \n",
       "119404              NaN    NaN      NaN                   NaN           NaN   \n",
       "119406              NaN    NaN      NaN                   NaN           NaN   \n",
       "...                 ...    ...      ...                   ...           ...   \n",
       "182772              NaN    NaN      NaN                   NaN           NaN   \n",
       "182773              NaN    NaN      NaN                   NaN           NaN   \n",
       "182774              NaN    NaN      NaN                   NaN           NaN   \n",
       "182775              NaN    NaN      NaN                   NaN           NaN   \n",
       "182776              NaN    NaN      NaN                   NaN           NaN   \n",
       "\n",
       "        adr  required_car_parking_spaces  total_of_special_requests  \\\n",
       "119393  NaN                          NaN                        NaN   \n",
       "119400  NaN                          NaN                        NaN   \n",
       "119403  NaN                          NaN                        NaN   \n",
       "119404  NaN                          NaN                        NaN   \n",
       "119406  NaN                          NaN                        NaN   \n",
       "...     ...                          ...                        ...   \n",
       "182772  NaN                          NaN                        NaN   \n",
       "182773  NaN                          NaN                        NaN   \n",
       "182774  NaN                          NaN                        NaN   \n",
       "182775  NaN                          NaN                        NaN   \n",
       "182776  NaN                          NaN                        NaN   \n",
       "\n",
       "       reservation_status reservation_status_date    0  \n",
       "119393                NaN                     NaN  NaN  \n",
       "119400                NaN                     NaN  NaN  \n",
       "119403                NaN                     NaN  NaN  \n",
       "119404                NaN                     NaN  NaN  \n",
       "119406                NaN                     NaN  NaN  \n",
       "...                   ...                     ...  ...  \n",
       "182772                NaN                     NaN  NaN  \n",
       "182773                NaN                     NaN  NaN  \n",
       "182774                NaN                     NaN  NaN  \n",
       "182775                NaN                     NaN  NaN  \n",
       "182776                NaN                     NaN  NaN  \n",
       "\n",
       "[20395 rows x 32 columns]"
      ]
     },
     "metadata": {},
     "output_type": "display_data"
    }
   ],
   "source": [
    "null_percentage = round(data.isnull().sum()/data.shape[0]*100, 2)\n",
    "display(null_percentage[null_percentage > 0])\n",
    "print(\"\\nRows with all values as null:\")\n",
    "\n",
    "all_null_rows = data[data.isnull().all(axis=1)]\n",
    "if not all_null_rows.empty:\n",
    "    display(all_null_rows)\n",
    "else:\n",
    "    print(\"There is no rows with all values as null.\")\n",
    "    print(\"\\nCount of duplicate rows:\")"
   ]
  },
  {
   "cell_type": "markdown",
   "metadata": {},
   "source": [
    "### VARIABLES NUMERICAS"
   ]
  },
  {
   "cell_type": "code",
   "execution_count": 50,
   "metadata": {},
   "outputs": [
    {
     "data": {
      "text/html": [
       "<div>\n",
       "<style scoped>\n",
       "    .dataframe tbody tr th:only-of-type {\n",
       "        vertical-align: middle;\n",
       "    }\n",
       "\n",
       "    .dataframe tbody tr th {\n",
       "        vertical-align: top;\n",
       "    }\n",
       "\n",
       "    .dataframe thead th {\n",
       "        text-align: right;\n",
       "    }\n",
       "</style>\n",
       "<table border=\"1\" class=\"dataframe\">\n",
       "  <thead>\n",
       "    <tr style=\"text-align: right;\">\n",
       "      <th></th>\n",
       "      <th>lead_time</th>\n",
       "      <th>arrival_date_year</th>\n",
       "      <th>arrival_date_week_number</th>\n",
       "      <th>arrival_date_day_of_month</th>\n",
       "      <th>stays_in_weekend_nights</th>\n",
       "      <th>stays_in_week_nights</th>\n",
       "      <th>adults</th>\n",
       "      <th>children</th>\n",
       "      <th>babies</th>\n",
       "      <th>is_repeated_guest</th>\n",
       "      <th>previous_cancellations</th>\n",
       "      <th>previous_bookings_not_canceled</th>\n",
       "      <th>booking_changes</th>\n",
       "      <th>agent</th>\n",
       "      <th>company</th>\n",
       "      <th>days_in_waiting_list</th>\n",
       "      <th>adr</th>\n",
       "      <th>required_car_parking_spaces</th>\n",
       "      <th>total_of_special_requests</th>\n",
       "    </tr>\n",
       "  </thead>\n",
       "  <tbody>\n",
       "    <tr>\n",
       "      <th>count</th>\n",
       "      <td>119490.000000</td>\n",
       "      <td>64829.000000</td>\n",
       "      <td>101004.000000</td>\n",
       "      <td>119271.000000</td>\n",
       "      <td>119490.000000</td>\n",
       "      <td>119490.000000</td>\n",
       "      <td>119428.000000</td>\n",
       "      <td>69302.000000</td>\n",
       "      <td>119431.000000</td>\n",
       "      <td>114376.000000</td>\n",
       "      <td>76228.000000</td>\n",
       "      <td>119390.000000</td>\n",
       "      <td>119418.000000</td>\n",
       "      <td>103050.000000</td>\n",
       "      <td>3870.000000</td>\n",
       "      <td>119390.000000</td>\n",
       "      <td>119390.000000</td>\n",
       "      <td>119390.000000</td>\n",
       "      <td>119390.000000</td>\n",
       "    </tr>\n",
       "    <tr>\n",
       "      <th>mean</th>\n",
       "      <td>104.172628</td>\n",
       "      <td>2016.156196</td>\n",
       "      <td>27.175785</td>\n",
       "      <td>15.795977</td>\n",
       "      <td>0.939461</td>\n",
       "      <td>2.515068</td>\n",
       "      <td>6.244423</td>\n",
       "      <td>0.125162</td>\n",
       "      <td>0.019903</td>\n",
       "      <td>0.031877</td>\n",
       "      <td>0.109317</td>\n",
       "      <td>0.137097</td>\n",
       "      <td>0.232737</td>\n",
       "      <td>86.693382</td>\n",
       "      <td>188.828424</td>\n",
       "      <td>2.321149</td>\n",
       "      <td>101.831122</td>\n",
       "      <td>0.062518</td>\n",
       "      <td>0.571363</td>\n",
       "    </tr>\n",
       "    <tr>\n",
       "      <th>std</th>\n",
       "      <td>106.975949</td>\n",
       "      <td>0.706674</td>\n",
       "      <td>13.613871</td>\n",
       "      <td>8.780503</td>\n",
       "      <td>1.082472</td>\n",
       "      <td>1.976511</td>\n",
       "      <td>14.574814</td>\n",
       "      <td>0.688305</td>\n",
       "      <td>0.433366</td>\n",
       "      <td>0.175674</td>\n",
       "      <td>1.028093</td>\n",
       "      <td>1.497437</td>\n",
       "      <td>0.770795</td>\n",
       "      <td>110.774548</td>\n",
       "      <td>131.473039</td>\n",
       "      <td>17.594721</td>\n",
       "      <td>50.535790</td>\n",
       "      <td>0.245291</td>\n",
       "      <td>0.792798</td>\n",
       "    </tr>\n",
       "    <tr>\n",
       "      <th>min</th>\n",
       "      <td>0.000000</td>\n",
       "      <td>2015.000000</td>\n",
       "      <td>1.000000</td>\n",
       "      <td>1.000000</td>\n",
       "      <td>0.000000</td>\n",
       "      <td>0.000000</td>\n",
       "      <td>0.000000</td>\n",
       "      <td>0.000000</td>\n",
       "      <td>0.000000</td>\n",
       "      <td>0.000000</td>\n",
       "      <td>0.000000</td>\n",
       "      <td>0.000000</td>\n",
       "      <td>0.000000</td>\n",
       "      <td>1.000000</td>\n",
       "      <td>6.000000</td>\n",
       "      <td>0.000000</td>\n",
       "      <td>-6.380000</td>\n",
       "      <td>0.000000</td>\n",
       "      <td>0.000000</td>\n",
       "    </tr>\n",
       "    <tr>\n",
       "      <th>25%</th>\n",
       "      <td>18.000000</td>\n",
       "      <td>2016.000000</td>\n",
       "      <td>16.000000</td>\n",
       "      <td>8.000000</td>\n",
       "      <td>0.000000</td>\n",
       "      <td>1.000000</td>\n",
       "      <td>2.000000</td>\n",
       "      <td>0.000000</td>\n",
       "      <td>0.000000</td>\n",
       "      <td>0.000000</td>\n",
       "      <td>0.000000</td>\n",
       "      <td>0.000000</td>\n",
       "      <td>0.000000</td>\n",
       "      <td>9.000000</td>\n",
       "      <td>62.000000</td>\n",
       "      <td>0.000000</td>\n",
       "      <td>69.290000</td>\n",
       "      <td>0.000000</td>\n",
       "      <td>0.000000</td>\n",
       "    </tr>\n",
       "    <tr>\n",
       "      <th>50%</th>\n",
       "      <td>69.000000</td>\n",
       "      <td>2016.000000</td>\n",
       "      <td>28.000000</td>\n",
       "      <td>16.000000</td>\n",
       "      <td>1.000000</td>\n",
       "      <td>2.000000</td>\n",
       "      <td>2.000000</td>\n",
       "      <td>0.000000</td>\n",
       "      <td>0.000000</td>\n",
       "      <td>0.000000</td>\n",
       "      <td>0.000000</td>\n",
       "      <td>0.000000</td>\n",
       "      <td>0.000000</td>\n",
       "      <td>14.000000</td>\n",
       "      <td>178.000000</td>\n",
       "      <td>0.000000</td>\n",
       "      <td>94.575000</td>\n",
       "      <td>0.000000</td>\n",
       "      <td>0.000000</td>\n",
       "    </tr>\n",
       "    <tr>\n",
       "      <th>75%</th>\n",
       "      <td>161.000000</td>\n",
       "      <td>2017.000000</td>\n",
       "      <td>38.000000</td>\n",
       "      <td>23.000000</td>\n",
       "      <td>2.000000</td>\n",
       "      <td>3.000000</td>\n",
       "      <td>2.000000</td>\n",
       "      <td>0.000000</td>\n",
       "      <td>0.000000</td>\n",
       "      <td>0.000000</td>\n",
       "      <td>0.000000</td>\n",
       "      <td>0.000000</td>\n",
       "      <td>0.000000</td>\n",
       "      <td>229.000000</td>\n",
       "      <td>270.000000</td>\n",
       "      <td>0.000000</td>\n",
       "      <td>126.000000</td>\n",
       "      <td>0.000000</td>\n",
       "      <td>1.000000</td>\n",
       "    </tr>\n",
       "    <tr>\n",
       "      <th>max</th>\n",
       "      <td>737.000000</td>\n",
       "      <td>2017.000000</td>\n",
       "      <td>53.000000</td>\n",
       "      <td>31.000000</td>\n",
       "      <td>19.914715</td>\n",
       "      <td>50.000000</td>\n",
       "      <td>59.000000</td>\n",
       "      <td>19.000000</td>\n",
       "      <td>19.000000</td>\n",
       "      <td>1.000000</td>\n",
       "      <td>26.000000</td>\n",
       "      <td>72.000000</td>\n",
       "      <td>21.000000</td>\n",
       "      <td>535.000000</td>\n",
       "      <td>543.000000</td>\n",
       "      <td>391.000000</td>\n",
       "      <td>5400.000000</td>\n",
       "      <td>8.000000</td>\n",
       "      <td>5.000000</td>\n",
       "    </tr>\n",
       "  </tbody>\n",
       "</table>\n",
       "</div>"
      ],
      "text/plain": [
       "           lead_time  arrival_date_year  arrival_date_week_number  \\\n",
       "count  119490.000000       64829.000000             101004.000000   \n",
       "mean      104.172628        2016.156196                 27.175785   \n",
       "std       106.975949           0.706674                 13.613871   \n",
       "min         0.000000        2015.000000                  1.000000   \n",
       "25%        18.000000        2016.000000                 16.000000   \n",
       "50%        69.000000        2016.000000                 28.000000   \n",
       "75%       161.000000        2017.000000                 38.000000   \n",
       "max       737.000000        2017.000000                 53.000000   \n",
       "\n",
       "       arrival_date_day_of_month  stays_in_weekend_nights  \\\n",
       "count              119271.000000            119490.000000   \n",
       "mean                   15.795977                 0.939461   \n",
       "std                     8.780503                 1.082472   \n",
       "min                     1.000000                 0.000000   \n",
       "25%                     8.000000                 0.000000   \n",
       "50%                    16.000000                 1.000000   \n",
       "75%                    23.000000                 2.000000   \n",
       "max                    31.000000                19.914715   \n",
       "\n",
       "       stays_in_week_nights         adults      children         babies  \\\n",
       "count         119490.000000  119428.000000  69302.000000  119431.000000   \n",
       "mean               2.515068       6.244423      0.125162       0.019903   \n",
       "std                1.976511      14.574814      0.688305       0.433366   \n",
       "min                0.000000       0.000000      0.000000       0.000000   \n",
       "25%                1.000000       2.000000      0.000000       0.000000   \n",
       "50%                2.000000       2.000000      0.000000       0.000000   \n",
       "75%                3.000000       2.000000      0.000000       0.000000   \n",
       "max               50.000000      59.000000     19.000000      19.000000   \n",
       "\n",
       "       is_repeated_guest  previous_cancellations  \\\n",
       "count      114376.000000            76228.000000   \n",
       "mean            0.031877                0.109317   \n",
       "std             0.175674                1.028093   \n",
       "min             0.000000                0.000000   \n",
       "25%             0.000000                0.000000   \n",
       "50%             0.000000                0.000000   \n",
       "75%             0.000000                0.000000   \n",
       "max             1.000000               26.000000   \n",
       "\n",
       "       previous_bookings_not_canceled  booking_changes          agent  \\\n",
       "count                   119390.000000    119418.000000  103050.000000   \n",
       "mean                         0.137097         0.232737      86.693382   \n",
       "std                          1.497437         0.770795     110.774548   \n",
       "min                          0.000000         0.000000       1.000000   \n",
       "25%                          0.000000         0.000000       9.000000   \n",
       "50%                          0.000000         0.000000      14.000000   \n",
       "75%                          0.000000         0.000000     229.000000   \n",
       "max                         72.000000        21.000000     535.000000   \n",
       "\n",
       "           company  days_in_waiting_list            adr  \\\n",
       "count  3870.000000         119390.000000  119390.000000   \n",
       "mean    188.828424              2.321149     101.831122   \n",
       "std     131.473039             17.594721      50.535790   \n",
       "min       6.000000              0.000000      -6.380000   \n",
       "25%      62.000000              0.000000      69.290000   \n",
       "50%     178.000000              0.000000      94.575000   \n",
       "75%     270.000000              0.000000     126.000000   \n",
       "max     543.000000            391.000000    5400.000000   \n",
       "\n",
       "       required_car_parking_spaces  total_of_special_requests  \n",
       "count                119390.000000              119390.000000  \n",
       "mean                      0.062518                   0.571363  \n",
       "std                       0.245291                   0.792798  \n",
       "min                       0.000000                   0.000000  \n",
       "25%                       0.000000                   0.000000  \n",
       "50%                       0.000000                   0.000000  \n",
       "75%                       0.000000                   1.000000  \n",
       "max                       8.000000                   5.000000  "
      ]
     },
     "execution_count": 50,
     "metadata": {},
     "output_type": "execute_result"
    }
   ],
   "source": [
    "data.describe() # por defecto para las variables numéricas "
   ]
  },
  {
   "cell_type": "code",
   "execution_count": 75,
   "metadata": {},
   "outputs": [
    {
     "name": "stdout",
     "output_type": "stream",
     "text": [
      "Las columnas numéricas que tienen nulos son : \n",
      " \n",
      "Index(['lead_time', 'arrival_date_year', 'arrival_date_week_number',\n",
      "       'arrival_date_day_of_month', 'stays_in_weekend_nights',\n",
      "       'stays_in_week_nights', 'adults', 'children', 'babies',\n",
      "       'is_repeated_guest', 'previous_cancellations',\n",
      "       'previous_bookings_not_canceled', 'booking_changes', 'agent', 'company',\n",
      "       'days_in_waiting_list', 'adr', 'required_car_parking_spaces',\n",
      "       'total_of_special_requests'],\n",
      "      dtype='object')\n"
     ]
    }
   ],
   "source": [
    "# Obtenemos la lista de columnas numericas que tienen nulos\n",
    "nulos_esta_num = data[data.columns[data.isnull().any()]].select_dtypes(include = np.number).columns\n",
    "print(\"Las columnas numéricas que tienen nulos son : \\n \")\n",
    "print(nulos_esta_num)"
   ]
  },
  {
   "cell_type": "code",
   "execution_count": 77,
   "metadata": {},
   "outputs": [
    {
     "data": {
      "text/plain": [
       "lead_time                         34.661002\n",
       "arrival_date_year                 64.550490\n",
       "arrival_date_week_number          44.769435\n",
       "arrival_date_day_of_month         34.780754\n",
       "stays_in_weekend_nights           34.661002\n",
       "stays_in_week_nights              34.661002\n",
       "adults                            34.694904\n",
       "children                          62.104584\n",
       "babies                            34.693264\n",
       "is_repeated_guest                 37.457417\n",
       "previous_cancellations            58.317339\n",
       "previous_bookings_not_canceled    34.715683\n",
       "booking_changes                   34.700372\n",
       "agent                             43.650650\n",
       "company                           97.883824\n",
       "days_in_waiting_list              34.715683\n",
       "adr                               34.715683\n",
       "required_car_parking_spaces       34.715683\n",
       "total_of_special_requests         34.715683\n",
       "dtype: float64"
      ]
     },
     "execution_count": 77,
     "metadata": {},
     "output_type": "execute_result"
    }
   ],
   "source": [
    "# lo primero que vamos a hacer es calcular el número de nulos que tenemos en cada una de las columnas numericas\n",
    "data[nulos_esta_num].isnull().sum() / data.shape[0] *100"
   ]
  },
  {
   "cell_type": "code",
   "execution_count": 78,
   "metadata": {},
   "outputs": [
    {
     "name": "stdout",
     "output_type": "stream",
     "text": [
      "Las columnas del DataFrame de variables categóricas son ['lead_time', 'arrival_date_year', 'arrival_date_week_number', 'arrival_date_day_of_month', 'stays_in_weekend_nights', 'stays_in_week_nights', 'adults', 'children', 'babies', 'is_repeated_guest', 'previous_cancellations', 'previous_bookings_not_canceled', 'booking_changes', 'agent', 'company', 'days_in_waiting_list', 'adr', 'required_car_parking_spaces', 'total_of_special_requests']\n",
      "--------------------------------------------------------------------------------\n",
      "Los valores únicos de lead_time son: [342.         737.           7.          13.          14.\n",
      "   0.           9.          85.          75.          23.\n",
      "  35.          68.          18.          37.          12.\n",
      "  72.         127.          78.          48.          60.\n",
      "  77.          99.         118.          95.          96.\n",
      "  69.          45.          40.          15.          36.\n",
      "  43.          70.          16.         107.          47.\n",
      " 113.          90.          50.          93.          76.\n",
      "   3.           1.          10.           5.          17.\n",
      "  51.          71.          63.          62.         101.\n",
      "   2.          81.         368.         364.         324.\n",
      "  79.          21.         109.         102.           4.\n",
      "  98.          92.          26.          73.         115.\n",
      "  86.          52.          29.          30.          33.\n",
      "  32.           8.         100.          44.          80.\n",
      "  97.          64.          39.          34.          27.\n",
      "  82.          94.         110.         111.          84.\n",
      "  66.         104.          28.         258.         112.\n",
      "  65.          67.          55.          88.          54.\n",
      " 292.          83.         105.         280.         394.\n",
      "  24.         103.         366.         249.          22.\n",
      "  91.          11.         108.         106.          31.\n",
      "  87.          41.         304.         117.          59.\n",
      "  53.          58.         116.          42.         321.\n",
      "  38.          56.          49.         317.           6.\n",
      "  57.          19.          25.         315.         123.\n",
      "  46.          89.          61.         312.         299.\n",
      " 130.          74.         298.         119.          20.\n",
      " 286.         136.         129.         124.         327.\n",
      " 131.         460.         140.         114.         139.\n",
      " 122.         137.         126.         120.         128.\n",
      " 135.         150.         143.         151.         132.\n",
      " 125.         157.         147.         138.         156.\n",
      " 164.         346.         159.         160.         161.\n",
      " 333.         381.         149.         154.         297.\n",
      " 163.         314.         155.         323.         340.\n",
      " 356.         142.         328.         144.         336.\n",
      " 248.         302.         175.         344.         382.\n",
      " 146.         170.         166.         338.         167.\n",
      " 310.         148.         165.         172.         171.\n",
      " 145.         121.         178.         305.         173.\n",
      " 152.         354.         347.         158.         185.\n",
      " 349.         183.         352.         177.         200.\n",
      " 192.         361.         207.         174.         330.\n",
      " 134.         350.         334.         283.         153.\n",
      " 197.         133.         241.         193.         235.\n",
      " 194.         261.         260.         216.         169.\n",
      " 209.         238.         215.         141.         189.\n",
      " 187.         223.         284.         214.         202.\n",
      " 211.         168.         230.         203.         188.\n",
      " 232.         709.         219.         162.         196.\n",
      " 190.         259.         228.         176.         250.\n",
      " 201.         186.         199.         180.         206.\n",
      " 205.         224.         222.         182.         210.\n",
      " 275.         212.         229.         218.         208.\n",
      " 191.         181.         179.         246.         255.\n",
      " 226.         288.         253.         252.         262.\n",
      " 236.         256.         234.         254.         468.\n",
      " 213.         237.         198.         195.         239.\n",
      " 263.         265.         274.         217.         220.\n",
      " 307.         221.         233.         257.         227.\n",
      " 276.         225.         264.         311.         277.\n",
      " 204.         290.         266.         270.         294.\n",
      " 319.         282.         251.         322.         291.\n",
      " 269.         240.         271.         184.         231.\n",
      " 268.         247.         273.         300.         301.\n",
      " 267.         244.         306.         293.         309.\n",
      " 272.         242.         295.         285.         243.\n",
      " 308.         398.         303.         245.         424.\n",
      " 279.         331.         281.         339.         434.\n",
      " 357.         325.         329.         278.         332.\n",
      " 343.         345.         360.         348.         367.\n",
      " 353.         373.         374.         406.         400.\n",
      " 326.         379.         399.         316.         341.\n",
      " 320.         385.         355.         363.         358.\n",
      " 296.         422.         390.         335.         370.\n",
      " 376.         375.         397.         289.         542.\n",
      " 403.         383.         384.         359.         393.\n",
      " 337.         362.         365.         435.         386.\n",
      " 378.         313.         351.         287.         471.\n",
      " 462.         411.         450.         318.         372.\n",
      " 371.         454.         532.         445.         389.\n",
      " 388.         407.         443.         437.         451.\n",
      " 391.         405.         412.         419.         420.\n",
      " 426.         433.         440.         429.         418.\n",
      " 447.         461.         605.         457.         475.\n",
      " 464.         482.         626.         489.         496.\n",
      " 503.         510.         517.         524.         531.\n",
      " 538.         545.         552.         559.         566.\n",
      " 573.         580.         587.         594.         601.\n",
      " 608.         615.         622.         629.         396.\n",
      " 410.         395.         423.         408.         409.\n",
      " 448.         465.         387.         414.         476.\n",
      " 479.         467.         490.         493.         478.\n",
      " 504.         507.         458.         518.         521.\n",
      " 377.         444.         380.         463.                  nan\n",
      " 285.39076115 259.60030847 350.5254671  249.23690056 299.65699934\n",
      " 222.02695972 298.35427899 346.66602497 347.76226048 339.40496071\n",
      " 389.53687271 393.76634805 314.16036762 364.89775035 243.92395582\n",
      " 394.3326073  393.40409048 274.25884382 207.26954315 310.5315347\n",
      " 359.47837238 345.20917849 274.32614895 233.01141762 283.95634896\n",
      " 203.65774074 244.4893201  327.39561423 247.72927774 280.28619163\n",
      " 212.58146219 328.71567405 301.36596307 376.13881065 302.28957214\n",
      " 268.24918757 211.59656401 284.10926924 361.88118942 343.5797993\n",
      " 342.43531996 218.07382512 307.99556211 248.15503379 251.83008506\n",
      " 343.64511445 267.94208942 341.26263716 316.8363944  383.94695591\n",
      " 370.66007781 279.53655462 240.79611889 267.53224844 303.49850729\n",
      " 307.30733156 216.62247127 316.15969315 245.66191728 240.04322454\n",
      " 209.0565627  210.76575543 343.70499547 339.46397195 231.66647278\n",
      " 221.18266495 255.21461804 322.20411817 322.62570879 345.59373035\n",
      " 221.07145716 271.31526381 250.65134985 380.53870139 328.15710619\n",
      " 326.28348783 262.0556897  286.56448693 292.16087026 386.74807799\n",
      " 352.16090681 354.05866877 396.20591467 319.62494547 238.03548168\n",
      " 372.29442879 300.1189764  231.05953189 208.20350653 243.47154073\n",
      " 390.30412923 222.7035657  325.95176372 295.61511521 231.48057469\n",
      " 224.33776182 390.14196299 230.6898256  304.88853431 341.23816575]\n",
      "\n",
      "Las frecuencias de los valores únicos de la columna: lead_time\n",
      "0.000000      6345\n",
      "1.000000      3460\n",
      "2.000000      2069\n",
      "3.000000      1816\n",
      "4.000000      1715\n",
      "              ... \n",
      "359.478372       1\n",
      "310.531535       1\n",
      "207.269543       1\n",
      "274.258844       1\n",
      "341.238166       1\n",
      "Name: count, Length: 579, dtype: int64 \n",
      "------------------------------------------------------------------------------------------------\n",
      "Los valores únicos de arrival_date_year son: [2015.   nan 2016. 2017.]\n",
      "\n",
      "Las frecuencias de los valores únicos de la columna: arrival_date_year\n",
      "2016.0    30873\n",
      "2017.0    22041\n",
      "2015.0    11915\n",
      "Name: count, dtype: int64 \n",
      "------------------------------------------------------------------------------------------------\n",
      "Los valores únicos de arrival_date_week_number son: [27. nan 28. 29. 30. 31. 32. 33. 34. 35. 36. 37. 38. 39. 40. 41. 42. 43.\n",
      " 44. 45. 46. 47. 48. 49. 50. 51. 52. 53.  1.  2.  3.  4.  5.  6.  7.  8.\n",
      "  9. 10. 11. 12. 13. 14. 15. 16. 17. 18. 19. 20. 21. 22. 23. 24. 25. 26.]\n",
      "\n",
      "Las frecuencias de los valores únicos de la columna: arrival_date_week_number\n",
      "33.0    3051\n",
      "30.0    2608\n",
      "34.0    2587\n",
      "32.0    2575\n",
      "18.0    2503\n",
      "28.0    2399\n",
      "21.0    2394\n",
      "17.0    2363\n",
      "20.0    2354\n",
      "29.0    2328\n",
      "42.0    2328\n",
      "31.0    2318\n",
      "41.0    2281\n",
      "38.0    2244\n",
      "27.0    2238\n",
      "15.0    2237\n",
      "25.0    2236\n",
      "35.0    2225\n",
      "39.0    2212\n",
      "23.0    2212\n",
      "22.0    2173\n",
      "24.0    2123\n",
      "16.0    2044\n",
      "19.0    2039\n",
      "13.0    2029\n",
      "40.0    2024\n",
      "26.0    2004\n",
      "43.0    1994\n",
      "44.0    1916\n",
      "14.0    1912\n",
      "8.0     1869\n",
      "37.0    1849\n",
      "36.0    1831\n",
      "7.0     1802\n",
      "10.0    1798\n",
      "9.0     1771\n",
      "12.0    1763\n",
      "11.0    1755\n",
      "45.0    1672\n",
      "53.0    1544\n",
      "49.0    1486\n",
      "47.0    1447\n",
      "46.0    1330\n",
      "48.0    1288\n",
      "6.0     1285\n",
      "4.0     1267\n",
      "50.0    1266\n",
      "5.0     1188\n",
      "3.0     1115\n",
      "2.0     1027\n",
      "52.0     993\n",
      "1.0      895\n",
      "51.0     812\n",
      "Name: count, dtype: int64 \n",
      "------------------------------------------------------------------------------------------------\n",
      "Los valores únicos de arrival_date_day_of_month son: [ 1.  2. nan  3.  4.  5.  6.  7.  8.  9. 10. 11. 12. 13. 14. 15. 16. 17.\n",
      " 18. 19. 20. 21. 22. 23. 24. 25. 26. 27. 28. 29. 30. 31.]\n",
      "\n",
      "Las frecuencias de los valores únicos de la columna: arrival_date_day_of_month\n",
      "17.0    4402\n",
      "5.0     4315\n",
      "15.0    4191\n",
      "25.0    4155\n",
      "26.0    4139\n",
      "9.0     4094\n",
      "12.0    4081\n",
      "16.0    4072\n",
      "2.0     4052\n",
      "19.0    4047\n",
      "20.0    4027\n",
      "18.0    3998\n",
      "24.0    3993\n",
      "28.0    3940\n",
      "8.0     3917\n",
      "3.0     3852\n",
      "30.0    3847\n",
      "6.0     3832\n",
      "14.0    3817\n",
      "27.0    3797\n",
      "4.0     3762\n",
      "21.0    3758\n",
      "13.0    3744\n",
      "7.0     3665\n",
      "1.0     3619\n",
      "23.0    3610\n",
      "11.0    3598\n",
      "22.0    3594\n",
      "29.0    3577\n",
      "10.0    3572\n",
      "31.0    2204\n",
      "Name: count, dtype: int64 \n",
      "------------------------------------------------------------------------------------------------\n",
      "Los valores únicos de stays_in_weekend_nights son: [ 0.          1.          2.          4.          3.          6.\n",
      " 13.          8.          5.          7.         12.          9.\n",
      " 16.         18.         19.         10.         14.                 nan\n",
      " 11.20401583 17.95858865 18.2567912  10.54885853 16.33232084 13.84595175\n",
      " 16.80862539 11.82216655 18.86586275 17.22279014 12.760956   10.15167042\n",
      " 10.46332451 14.91338236 11.6042344  18.52118296 16.2922789  14.18553261\n",
      " 10.80563048 17.90682685 17.9040439  19.91471478 12.23500486 14.48008431\n",
      " 19.67205011 10.14955202 10.80069687 11.98937751 16.80689813 12.86282951\n",
      " 18.44605745 16.43682263 10.12644249 14.57592838 11.39086752 13.20007294\n",
      " 17.15627062 14.98305856 17.29938584 17.90252941 16.22831712 13.95515743\n",
      " 15.32889675 17.35095681 13.22234578 11.90605506 19.25689048 17.43070043\n",
      " 12.54926869 11.83209485 15.78722554 17.02492003 11.40315114 14.55697847\n",
      " 14.00625777 11.05466249 13.16442302 10.23930362 15.23868679 18.42035621\n",
      " 16.08335029 14.79242931 19.55663558 12.89803072 15.47483733 15.0633126\n",
      " 12.40148587 18.77747638 13.81006175 13.68616815 18.01163962 16.98171814\n",
      " 19.66962536 19.91294716 19.21393184 19.77626639 13.95243476 13.30834322\n",
      " 17.17636146 18.03981923 19.36201984 16.06563272 10.48606185 14.66062143\n",
      " 14.90806899 10.505497   19.71149087 11.09226823 15.81066934 15.42124553\n",
      " 11.45834359 11.19386224 15.29596943 18.3330153  18.88063688 19.00554533\n",
      " 14.75179365 11.4094959  16.74447183 17.79148624]\n",
      "\n",
      "Las frecuencias de los valores únicos de la columna: stays_in_weekend_nights\n",
      "0.000000     51998\n",
      "2.000000     33308\n",
      "1.000000     30626\n",
      "4.000000      1855\n",
      "3.000000      1259\n",
      "             ...  \n",
      "11.989378        1\n",
      "10.800697        1\n",
      "10.149552        1\n",
      "19.672050        1\n",
      "17.791486        1\n",
      "Name: count, Length: 117, dtype: int64 \n",
      "------------------------------------------------------------------------------------------------\n",
      "Los valores únicos de stays_in_week_nights son: [ 0.          1.          2.          3.          4.          5.\n",
      " 10.         11.          8.          6.          7.         15.\n",
      "  9.         12.         33.         20.         14.         16.\n",
      " 21.         13.         30.         19.         24.         40.\n",
      " 22.         42.         50.         25.         17.         32.\n",
      " 26.         18.         34.         35.         41.                 nan\n",
      " 19.14830297 24.50966025 21.58885576 22.772459   20.60555587 24.45205723\n",
      " 16.62253515 22.47691627 15.27680799 16.2457977  20.98164488 24.37392779\n",
      " 21.64810509 21.17909591 17.0419185  18.32276451 21.13143014 18.82350032\n",
      " 24.18439335 23.55385955 16.60470118 22.68332439 19.36190116 23.47612942\n",
      " 24.32635726 15.50303327 15.25808408 20.83014979 19.2528658  18.55616571\n",
      " 21.48292115 20.06245625 15.36403939 15.34203868 20.05995282 22.31063053\n",
      " 24.05293551 20.91856079 15.22169575 23.48974235 23.44028526 18.00197875\n",
      " 22.42915643 18.50696459 24.4810778  21.83467545 24.88002862 15.30164525\n",
      " 18.95204764 23.18104145 22.20833114 24.9931465  16.43573722 16.32622714\n",
      " 22.68288829 22.40222481 17.5501584  20.76482217 16.41646424 15.78203937\n",
      " 16.7759765  22.8366592  15.95785505 20.72160006 23.71130964 23.3489699\n",
      " 18.05678059 20.24069537 17.50126945 16.05933347 16.36136961 18.84068375\n",
      " 22.06579599 18.44380122 15.08607001 19.82863777 19.97791209 23.54330633\n",
      " 19.6876756  16.22485443 22.75531998 15.92103145 16.9229536  24.7785892\n",
      " 17.9793042  23.53838486 24.87021062 21.67642284 22.18306775 19.92414067\n",
      " 23.29122116 18.60063886 24.24605559 20.18132728 16.52346488 19.81982338\n",
      " 19.98972562 20.46137184 15.4007731  24.44268952]\n",
      "\n",
      "Las frecuencias de los valores únicos de la columna: stays_in_week_nights\n",
      "2.000000     33684\n",
      "1.000000     30310\n",
      "3.000000     22258\n",
      "5.000000     11077\n",
      "4.000000      9563\n",
      "             ...  \n",
      "23.476129        1\n",
      "19.361901        1\n",
      "22.683324        1\n",
      "16.604701        1\n",
      "24.442690        1\n",
      "Name: count, Length: 135, dtype: int64 \n",
      "------------------------------------------------------------------------------------------------\n",
      "Los valores únicos de adults son: [ 2.  1. 51.  3. 52. 53. 55. 57. 54. 59.  4. 58. 56. 50. 26. 27.  0. 20.\n",
      "  6.  5. 10. 16. 19. 11. 13. 15. 14. 12. 18. 17. nan]\n",
      "\n",
      "Las frecuencias de los valores únicos de la columna: adults\n",
      "2.0     82156\n",
      "1.0     21094\n",
      "3.0      5716\n",
      "59.0     1035\n",
      "54.0     1025\n",
      "51.0     1011\n",
      "58.0     1005\n",
      "50.0      999\n",
      "57.0      998\n",
      "53.0      984\n",
      "56.0      975\n",
      "55.0      959\n",
      "52.0      936\n",
      "0.0       369\n",
      "4.0        53\n",
      "19.0       17\n",
      "14.0       13\n",
      "15.0       12\n",
      "18.0       11\n",
      "11.0       11\n",
      "12.0       10\n",
      "10.0        9\n",
      "13.0        8\n",
      "16.0        6\n",
      "26.0        5\n",
      "17.0        4\n",
      "5.0         2\n",
      "20.0        2\n",
      "27.0        2\n",
      "6.0         1\n",
      "Name: count, dtype: int64 \n",
      "------------------------------------------------------------------------------------------------\n",
      "Los valores únicos de children son: [nan  0.  1.  2. 10. 19.  3. 17. 11. 18. 13. 16. 14. 15. 12.]\n",
      "\n",
      "Las frecuencias de los valores únicos de la columna: children\n",
      "0.0     64221\n",
      "1.0      2797\n",
      "2.0      2138\n",
      "3.0        45\n",
      "18.0       17\n",
      "10.0       15\n",
      "14.0       15\n",
      "15.0       10\n",
      "11.0        9\n",
      "16.0        9\n",
      "17.0        8\n",
      "19.0        7\n",
      "13.0        6\n",
      "12.0        5\n",
      "Name: count, dtype: int64 \n",
      "------------------------------------------------------------------------------------------------\n",
      "Los valores únicos de babies son: [ 0.  1. 18.  2. 17. 13. 15. 16. 12. 10. 11. 19.  9. 14. nan]\n",
      "\n",
      "Las frecuencias de los valores únicos de la columna: babies\n",
      "0.0     118414\n",
      "1.0        900\n",
      "10.0        17\n",
      "16.0        16\n",
      "12.0        16\n",
      "2.0         15\n",
      "19.0        12\n",
      "18.0         8\n",
      "17.0         7\n",
      "13.0         7\n",
      "15.0         7\n",
      "11.0         7\n",
      "14.0         4\n",
      "9.0          1\n",
      "Name: count, dtype: int64 \n",
      "------------------------------------------------------------------------------------------------\n",
      "Los valores únicos de is_repeated_guest son: [ 0. nan  1.]\n",
      "\n",
      "Las frecuencias de los valores únicos de la columna: is_repeated_guest\n",
      "0.0    110730\n",
      "1.0      3646\n",
      "Name: count, dtype: int64 \n",
      "------------------------------------------------------------------------------------------------\n",
      "Los valores únicos de previous_cancellations son: [nan  0. 14. 10. 19. 13. 17.  1.  2.  3. 26. 25.  4. 24. 12. 16.  5. 11.\n",
      " 15. 18. 21.  6.]\n",
      "\n",
      "Las frecuencias de los valores únicos de la columna: previous_cancellations\n",
      "0.0     71960\n",
      "1.0      3878\n",
      "2.0        76\n",
      "3.0        41\n",
      "11.0       38\n",
      "24.0       33\n",
      "19.0       23\n",
      "13.0       23\n",
      "4.0        20\n",
      "14.0       19\n",
      "25.0       18\n",
      "26.0       18\n",
      "5.0        14\n",
      "17.0       13\n",
      "6.0        12\n",
      "12.0       11\n",
      "18.0        9\n",
      "15.0        8\n",
      "16.0        7\n",
      "10.0        6\n",
      "21.0        1\n",
      "Name: count, dtype: int64 \n",
      "------------------------------------------------------------------------------------------------\n",
      "Los valores únicos de previous_bookings_not_canceled son: [ 0.  1.  2.  3.  4.  5.  6.  7.  8.  9. 10. 11. 12. 13. 14. 15. 16. 17.\n",
      " 18. 20. 21. 22. 23. 24. 25. 27. 28. 29. 30. 19. 26. 31. 32. 33. 34. 35.\n",
      " 36. 37. 38. 39. 40. 41. 42. 43. 44. 45. 46. 47. 48. 49. 50. 51. 52. 53.\n",
      " 54. 55. 56. 57. 58. 59. 60. 61. 62. 63. 64. 65. 66. 67. 68. 69. 70. 71.\n",
      " 72. nan]\n",
      "\n",
      "Las frecuencias de los valores únicos de la columna: previous_bookings_not_canceled\n",
      "0.0     115770\n",
      "1.0       1542\n",
      "2.0        580\n",
      "3.0        333\n",
      "4.0        229\n",
      "         ...  \n",
      "47.0         1\n",
      "49.0         1\n",
      "50.0         1\n",
      "51.0         1\n",
      "72.0         1\n",
      "Name: count, Length: 73, dtype: int64 \n",
      "------------------------------------------------------------------------------------------------\n",
      "Los valores únicos de booking_changes son: [ 3.  4.  0.  1.  2.  5. 17. 18.  6. 14. 15. 10. 11.  8.  7. 16. 19. 12.\n",
      "  9. 13. 20. 21. nan]\n",
      "\n",
      "Las frecuencias de los valores únicos de la columna: booking_changes\n",
      "0.0     101257\n",
      "1.0      12691\n",
      "2.0       3800\n",
      "3.0        927\n",
      "4.0        376\n",
      "5.0        118\n",
      "6.0         63\n",
      "7.0         31\n",
      "10.0        19\n",
      "8.0         17\n",
      "17.0        17\n",
      "11.0        16\n",
      "15.0        15\n",
      "13.0        13\n",
      "12.0        12\n",
      "14.0        11\n",
      "16.0        11\n",
      "19.0         8\n",
      "9.0          8\n",
      "18.0         6\n",
      "20.0         1\n",
      "21.0         1\n",
      "Name: count, dtype: int64 \n",
      "------------------------------------------------------------------------------------------------\n",
      "Los valores únicos de agent son: [ nan 304. 240. 303.  15. 241.   8. 250. 115.   5. 175. 134. 156. 243.\n",
      " 242.   3. 105.  40. 147. 306. 184.  96.   2. 127.  95. 146.   9. 177.\n",
      "   6. 143. 244. 149. 167. 300. 171. 305.  67. 196. 152. 142. 261. 104.\n",
      "  36.  26.  29. 258. 110.  71. 181.  88. 251. 275.  69. 248. 208. 256.\n",
      " 314. 126. 281. 273. 253. 185. 330. 334. 328. 326. 321. 324. 313.  38.\n",
      " 155.  68. 335. 308. 332.  94. 348. 310. 339. 375.  66. 327. 387. 298.\n",
      "  91. 245. 385. 257. 393. 168. 405. 249. 315.  75. 128. 307.  11. 436.\n",
      "   1. 201. 183. 223. 368. 336. 291. 464. 411. 481.  10. 154. 468. 410.\n",
      " 390. 440. 495. 492. 493. 434.  57. 531. 420. 483. 526. 472. 429.  16.\n",
      " 446.  34.  78. 139. 252. 270.  47. 114. 301. 193. 182. 135. 350. 195.\n",
      " 352. 355. 159. 363. 384. 360. 331. 367.  64. 406. 163. 414. 333. 427.\n",
      " 431. 430. 426. 438. 433. 418. 441. 282. 432.  72. 450. 180. 454. 455.\n",
      "  59. 451. 254. 358. 469. 165. 467. 510. 337. 476. 502. 527. 479. 508.\n",
      " 535. 302. 497. 187.  13.   7.  27.  14.  22.  17.  28.  42.  20.  19.\n",
      "  45.  37.  61.  39.  21.  24.  41.  50.  30.  54.  52.  12.  44.  31.\n",
      "  83.  32.  63.  60.  55.  56.  89.  87. 118.  86.  85. 210. 214. 129.\n",
      " 179. 138. 174. 170. 153.  93. 151. 119.  35. 173.  58.  53. 133.  79.\n",
      " 235. 192. 191. 236. 162. 215. 157. 287. 132. 234.  98.  77. 103. 107.\n",
      " 262. 220. 121. 205. 378.  23. 296. 290. 229.  33. 286. 276. 425. 484.\n",
      " 323. 403. 219. 394. 509. 111. 423.   4.  70.  82.  81.  74.  92.  99.\n",
      "  90. 112. 117. 106. 148. 158. 144. 211. 213. 216. 232. 150. 267. 227.\n",
      " 247. 278. 280. 285. 289. 269. 295. 265. 288. 122. 294. 325. 341. 344.\n",
      " 346. 359. 283. 364. 370. 371.  25. 141. 391. 397. 416. 404. 299. 197.\n",
      "  73. 354. 444. 408. 461. 388. 453. 459. 474. 475. 480. 449.]\n",
      "\n",
      "Las frecuencias de los valores únicos de la columna: agent\n",
      "9.0      31961\n",
      "240.0    13922\n",
      "1.0       7191\n",
      "14.0      3640\n",
      "7.0       3539\n",
      "         ...  \n",
      "289.0        1\n",
      "432.0        1\n",
      "265.0        1\n",
      "93.0         1\n",
      "304.0        1\n",
      "Name: count, Length: 333, dtype: int64 \n",
      "------------------------------------------------------------------------------------------------\n",
      "Los valores únicos de company son: [ nan 110. 270. 240. 154. 144. 307. 268.  59. 204. 312.  94. 174. 223.\n",
      " 317. 281. 274.  53.  12.  47. 324. 342. 373. 286. 383.  86. 113. 397.\n",
      " 392. 331. 367.  20. 416.  51. 395. 102.  34. 405. 394. 461. 178. 421.\n",
      " 308. 135. 504. 269. 498. 390. 195. 513. 203. 263. 477. 521. 169. 355.\n",
      " 531.  62. 120.  82.  81. 116. 530. 103.   9.  39.  92.  31. 118. 356.\n",
      " 457. 165. 291. 292. 290.  43. 325. 192. 108. 200. 224. 388. 287. 297.\n",
      " 490. 482. 207. 437. 329.  28.  77.  42. 338.  83.  72. 146. 380. 323.\n",
      " 511.  88. 371.  16. 337. 403. 399. 137. 343. 346. 347. 289. 353.  54.\n",
      " 159. 358. 361.  99. 366. 372. 365.  14. 377. 379. 378. 330.  22. 364.\n",
      " 360. 401. 232. 255. 384. 167. 212. 514. 391. 376. 402. 396. 398.   6.\n",
      " 370. 369. 409. 251. 168. 112. 382. 148.  10. 333. 419. 415. 543. 428.\n",
      " 442. 445. 282. 448. 443. 454.  52. 459. 458. 456. 254. 460. 447. 466.\n",
      " 484. 184.  32. 494. 516. 496. 499.  29. 272. 130. 520. 507. 515. 512.\n",
      " 126. 242. 518. 225. 523. 277. 539. 534. 436. 470. 525.  40. 455.  45.\n",
      "  38.  49.  48.  67.  68.  84.  65.  91.  37.   8. 179. 219. 227. 186.\n",
      " 153. 218.  78. 202. 216. 221. 275. 233. 280. 309. 321.  93. 107. 350.\n",
      " 334. 348. 407. 435. 150.  73. 385. 418. 197. 279. 450. 452.  46.  76.\n",
      " 100. 115. 105. 122. 139. 142. 127. 143. 149. 163. 238. 183. 185. 217.\n",
      " 180. 209. 215. 193. 213. 222. 230. 234. 246. 158. 258. 260. 257. 271.\n",
      "  18. 106. 273. 278.  71. 284. 305. 293. 311. 304. 288. 314. 332. 341.\n",
      " 349. 352. 243. 319. 408. 368. 393. 220. 412. 420. 410. 426. 417. 429.\n",
      " 444. 433. 446. 424. 465. 357. 479. 478. 485. 483. 229. 486. 491. 245.\n",
      " 497. 439. 451.]\n",
      "\n",
      "Las frecuencias de los valores únicos de la columna: company\n",
      "40.0     533\n",
      "223.0    447\n",
      "67.0     160\n",
      "45.0     145\n",
      "153.0    132\n",
      "        ... \n",
      "225.0      1\n",
      "518.0      1\n",
      "126.0      1\n",
      "54.0       1\n",
      "282.0      1\n",
      "Name: count, Length: 310, dtype: int64 \n",
      "------------------------------------------------------------------------------------------------\n",
      "Los valores únicos de days_in_waiting_list son: [  0.  50.  47.  65. 122.  75. 101. 150. 125.  14.  60.  34. 100.  22.\n",
      " 121.  61.  39.   5.   1.   8. 107.  43.  52.   2.  11. 142. 116.  13.\n",
      "  44.  97.  83.   4. 113.  18.  20. 185.  93. 109.   6.  37. 105. 154.\n",
      "  64.  99.  38.  48.  33.  77.  21.  80.  59.  40.  58.  89.  53.  49.\n",
      "  69.  87.  91.  57. 111.  79.  98.  85.  63.  15.   3.  41. 224.  31.\n",
      "  56. 187. 176.  71.  55.  96. 236. 259. 207. 215. 160. 120.  30.  32.\n",
      "  27.  62.  24. 108. 147. 379.  70.  35. 178. 330. 223. 174. 162. 391.\n",
      "  68. 193.  10.  76.  16.  28.   9. 165.  17.  25.  46.   7.  84. 175.\n",
      " 183.  23. 117.  12.  54.  26.  73.  45.  19.  42.  72.  81.  92.  74.\n",
      " 167.  36.  nan]\n",
      "\n",
      "Las frecuencias de los valores únicos de la columna: days_in_waiting_list\n",
      "0.0      115692\n",
      "39.0        227\n",
      "58.0        164\n",
      "44.0        141\n",
      "31.0        127\n",
      "          ...  \n",
      "116.0         1\n",
      "109.0         1\n",
      "37.0          1\n",
      "89.0          1\n",
      "36.0          1\n",
      "Name: count, Length: 128, dtype: int64 \n",
      "------------------------------------------------------------------------------------------------\n",
      "Los valores únicos de adr son: [  0.    75.    98.   ... 209.25 157.71    nan]\n",
      "\n",
      "Las frecuencias de los valores únicos de la columna: adr\n",
      "62.00     3754\n",
      "75.00     2715\n",
      "90.00     2473\n",
      "65.00     2418\n",
      "0.00      1959\n",
      "          ... \n",
      "89.43        1\n",
      "63.07        1\n",
      "55.69        1\n",
      "49.51        1\n",
      "157.71       1\n",
      "Name: count, Length: 8879, dtype: int64 \n",
      "------------------------------------------------------------------------------------------------\n",
      "Los valores únicos de required_car_parking_spaces son: [ 0.  1.  2.  8.  3. nan]\n",
      "\n",
      "Las frecuencias de los valores únicos de la columna: required_car_parking_spaces\n",
      "0.0    111974\n",
      "1.0      7383\n",
      "2.0        28\n",
      "3.0         3\n",
      "8.0         2\n",
      "Name: count, dtype: int64 \n",
      "------------------------------------------------------------------------------------------------\n",
      "Los valores únicos de total_of_special_requests son: [ 0.  1.  3.  2.  4.  5. nan]\n",
      "\n",
      "Las frecuencias de los valores únicos de la columna: total_of_special_requests\n",
      "0.0    70318\n",
      "1.0    33226\n",
      "2.0    12969\n",
      "3.0     2497\n",
      "4.0      340\n",
      "5.0       40\n",
      "Name: count, dtype: int64 \n",
      "------------------------------------------------------------------------------------------------\n"
     ]
    }
   ],
   "source": [
    "# creamos una variable con los nombres de las columnas del DataFrame de las variables categóricas\n",
    "columnas_numericas = [\n",
    "    \"lead_time\",\n",
    "    \"arrival_date_year\",\n",
    "    \"arrival_date_week_number\",\n",
    "    \"arrival_date_day_of_month\",\n",
    "    \"stays_in_weekend_nights\",\n",
    "    \"stays_in_week_nights\",\n",
    "    \"adults\",\n",
    "    \"children\",\n",
    "    \"babies\",\n",
    "    \"is_repeated_guest\",\n",
    "    \"previous_cancellations\",\n",
    "    \"previous_bookings_not_canceled\",\n",
    "    \"booking_changes\",\n",
    "    \"agent\",\n",
    "    \"company\",\n",
    "    \"days_in_waiting_list\",\n",
    "    \"adr\",\n",
    "    \"required_car_parking_spaces\",\n",
    "    \"total_of_special_requests\"\n",
    "]\n",
    "\n",
    "print(f\"Las columnas del DataFrame de variables categóricas son {columnas_numericas}\")\n",
    "print(\"--------------------------------------------------------------------------------\")\n",
    "# empezamos a iterar por cada una de las columnas para sacar sus valores únicos y sus frecuencias\n",
    "for columna in columnas_numericas:\n",
    "    print(f\"Los valores únicos de {columna} son: {data[columna].unique()}\\n\")\n",
    "    print(f\"Las frecuencias de los valores únicos de la columna: {data[columna].value_counts()} \")\n",
    "    print(\"------------------------------------------------------------------------------------------------\")"
   ]
  },
  {
   "cell_type": "markdown",
   "metadata": {},
   "source": [
    "### VARIABLES CATEGORICAS"
   ]
  },
  {
   "cell_type": "code",
   "execution_count": 53,
   "metadata": {},
   "outputs": [
    {
     "data": {
      "text/html": [
       "<div>\n",
       "<style scoped>\n",
       "    .dataframe tbody tr th:only-of-type {\n",
       "        vertical-align: middle;\n",
       "    }\n",
       "\n",
       "    .dataframe tbody tr th {\n",
       "        vertical-align: top;\n",
       "    }\n",
       "\n",
       "    .dataframe thead th {\n",
       "        text-align: right;\n",
       "    }\n",
       "</style>\n",
       "<table border=\"1\" class=\"dataframe\">\n",
       "  <thead>\n",
       "    <tr style=\"text-align: right;\">\n",
       "      <th></th>\n",
       "      <th>count</th>\n",
       "      <th>unique</th>\n",
       "      <th>top</th>\n",
       "      <th>freq</th>\n",
       "    </tr>\n",
       "  </thead>\n",
       "  <tbody>\n",
       "    <tr>\n",
       "      <th>hotel</th>\n",
       "      <td>119390</td>\n",
       "      <td>2</td>\n",
       "      <td>City Hotel</td>\n",
       "      <td>79330</td>\n",
       "    </tr>\n",
       "    <tr>\n",
       "      <th>is_canceled</th>\n",
       "      <td>119390</td>\n",
       "      <td>2</td>\n",
       "      <td>False</td>\n",
       "      <td>75166</td>\n",
       "    </tr>\n",
       "    <tr>\n",
       "      <th>arrival_date_month</th>\n",
       "      <td>119390</td>\n",
       "      <td>15</td>\n",
       "      <td>August</td>\n",
       "      <td>13877</td>\n",
       "    </tr>\n",
       "    <tr>\n",
       "      <th>meal</th>\n",
       "      <td>119390</td>\n",
       "      <td>5</td>\n",
       "      <td>BB</td>\n",
       "      <td>92310</td>\n",
       "    </tr>\n",
       "    <tr>\n",
       "      <th>country</th>\n",
       "      <td>65054</td>\n",
       "      <td>163</td>\n",
       "      <td>PRT</td>\n",
       "      <td>26577</td>\n",
       "    </tr>\n",
       "    <tr>\n",
       "      <th>market_segment</th>\n",
       "      <td>59934</td>\n",
       "      <td>8</td>\n",
       "      <td>Online TA</td>\n",
       "      <td>28331</td>\n",
       "    </tr>\n",
       "    <tr>\n",
       "      <th>distribution_channel</th>\n",
       "      <td>105899</td>\n",
       "      <td>5</td>\n",
       "      <td>TA/TO</td>\n",
       "      <td>86822</td>\n",
       "    </tr>\n",
       "    <tr>\n",
       "      <th>reserved_room_type</th>\n",
       "      <td>79275</td>\n",
       "      <td>10</td>\n",
       "      <td>A</td>\n",
       "      <td>57202</td>\n",
       "    </tr>\n",
       "    <tr>\n",
       "      <th>assigned_room_type</th>\n",
       "      <td>119390</td>\n",
       "      <td>12</td>\n",
       "      <td>A</td>\n",
       "      <td>74053</td>\n",
       "    </tr>\n",
       "    <tr>\n",
       "      <th>customer_type</th>\n",
       "      <td>94199</td>\n",
       "      <td>4</td>\n",
       "      <td>Transient</td>\n",
       "      <td>70610</td>\n",
       "    </tr>\n",
       "    <tr>\n",
       "      <th>reservation_status</th>\n",
       "      <td>119390</td>\n",
       "      <td>3</td>\n",
       "      <td>Check-Out</td>\n",
       "      <td>75166</td>\n",
       "    </tr>\n",
       "    <tr>\n",
       "      <th>reservation_status_date</th>\n",
       "      <td>106514</td>\n",
       "      <td>991</td>\n",
       "      <td>2015-10-21 00:00:00</td>\n",
       "      <td>1298</td>\n",
       "    </tr>\n",
       "    <tr>\n",
       "      <th>0</th>\n",
       "      <td>42951</td>\n",
       "      <td>1588</td>\n",
       "      <td>0.0</td>\n",
       "      <td>12780</td>\n",
       "    </tr>\n",
       "  </tbody>\n",
       "</table>\n",
       "</div>"
      ],
      "text/plain": [
       "                          count unique                  top   freq\n",
       "hotel                    119390      2           City Hotel  79330\n",
       "is_canceled              119390      2                False  75166\n",
       "arrival_date_month       119390     15               August  13877\n",
       "meal                     119390      5                   BB  92310\n",
       "country                   65054    163                  PRT  26577\n",
       "market_segment            59934      8            Online TA  28331\n",
       "distribution_channel     105899      5                TA/TO  86822\n",
       "reserved_room_type        79275     10                    A  57202\n",
       "assigned_room_type       119390     12                    A  74053\n",
       "customer_type             94199      4            Transient  70610\n",
       "reservation_status       119390      3            Check-Out  75166\n",
       "reservation_status_date  106514    991  2015-10-21 00:00:00   1298\n",
       "0                         42951   1588                  0.0  12780"
      ]
     },
     "execution_count": 53,
     "metadata": {},
     "output_type": "execute_result"
    }
   ],
   "source": [
    "data.describe(include=object).T # para las variables categóricas"
   ]
  },
  {
   "cell_type": "code",
   "execution_count": 55,
   "metadata": {},
   "outputs": [
    {
     "name": "stdout",
     "output_type": "stream",
     "text": [
      "Las columnas del DataFrame de variables categóricas son ['hotel', 'is_canceled', 'arrival_date_month', 'meal', 'country', 'market_segment', 'distribution_channel', 'reserved_room_type', 'assigned_room_type', 'customer_type', 'reservation_status', 'reservation_status_date']\n",
      "--------------------------------------------------------------------------------\n",
      "Los valores únicos de hotel son: ['Resort Hotel' 'City Hotel' nan]\n",
      "\n",
      "Las frecuencias de los valores únicos de la columna: hotel\n",
      "City Hotel      79330\n",
      "Resort Hotel    40060\n",
      "Name: count, dtype: int64 \n",
      "------------------------------------------------------------------------------------------------\n",
      "Los valores únicos de is_canceled son: [False True nan]\n",
      "\n",
      "Las frecuencias de los valores únicos de la columna: is_canceled\n",
      "False    75166\n",
      "True     44224\n",
      "Name: count, dtype: int64 \n",
      "------------------------------------------------------------------------------------------------\n",
      "Los valores únicos de arrival_date_month son: ['July' 'August' 'September' 'October' 'November' 'December' '1' 'January'\n",
      " 'February' '2' '3' 'March' 'April' 'May' 'June' nan]\n",
      "\n",
      "Las frecuencias de los valores únicos de la columna: arrival_date_month\n",
      "August       13877\n",
      "July         12661\n",
      "May          11791\n",
      "October      11160\n",
      "April        11089\n",
      "June         10939\n",
      "September    10508\n",
      "November      6794\n",
      "December      6780\n",
      "March         5922\n",
      "February      4898\n",
      "3             3872\n",
      "January       3581\n",
      "2             3170\n",
      "1             2348\n",
      "Name: count, dtype: int64 \n",
      "------------------------------------------------------------------------------------------------\n",
      "Los valores únicos de meal son: ['BB' 'FB' 'HB' 'SC' 'Undefined' nan]\n",
      "\n",
      "Las frecuencias de los valores únicos de la columna: meal\n",
      "BB           92310\n",
      "HB           14463\n",
      "SC           10650\n",
      "Undefined     1169\n",
      "FB             798\n",
      "Name: count, dtype: int64 \n",
      "------------------------------------------------------------------------------------------------\n",
      "Los valores únicos de country son: ['PRT' nan 'GBR' 'USA' 'ESP' 'IRL' 'FRA' 'ROU' 'NOR' 'OMN' 'ARG' 'DEU'\n",
      " 'CHE' 'GRC' 'NLD' 'DNK' 'RUS' 'POL' 'AUS' 'EST' 'CZE' 'BRA' 'BEL' 'CN'\n",
      " 'SWE' 'FIN' 'MOZ' 'SVN' 'MAR' 'ITA' 'UKR' 'SMR' 'LVA' 'PRI' 'CHL' 'CHN'\n",
      " 'LTU' 'LUX' 'AUT' 'TUR' 'MEX' 'ZAF' 'AGO' 'ISR' 'IND' 'CYM' 'ZMB' 'CPV'\n",
      " 'ZWE' 'DZA' 'KOR' 'HUN' 'ARE' 'TUN' 'JAM' 'ALB' 'HRV' 'HKG' 'AND' 'GIB'\n",
      " 'URY' 'BLR' 'JEY' 'CYP' 'MDV' 'FJI' 'KAZ' 'PAK' 'IDN' 'LBN' 'PHL' 'COL'\n",
      " 'SEN' 'GEO' 'AZE' 'BHR' 'NZL' 'THA' 'DOM' 'MYS' 'VEN' 'ARM' 'LKA' 'CUB'\n",
      " 'CMR' 'IRN' 'BIH' 'NGA' 'COM' 'BGR' 'CIV' 'SRB' 'JOR' 'SYR' 'BDI' 'SGP'\n",
      " 'KWT' 'PLW' 'QAT' 'SVK' 'SUR' 'MLT' 'MWI' 'MDG' 'ISL' 'JPN' 'CAF' 'TGO'\n",
      " 'TWN' 'DJI' 'VNM' 'PER' 'EGY' 'SAU' 'KNA' 'ETH' 'ECU' 'IRQ' 'KHM' 'MCO'\n",
      " 'BGD' 'TJK' 'NIC' 'GGY' 'BEN' 'VGB' 'CRI' 'TZA' 'GAB' 'MKD' 'TMP' 'GLP'\n",
      " 'LIE' 'GNB' 'MAC' 'IMN' 'UMI' 'MYT' 'GHA' 'FRO' 'MMR' 'PAN' 'MUS' 'LBY'\n",
      " 'NAM' 'BOL' 'PRY' 'BRB' 'ABW' 'AIA' 'DMA' 'UGA' 'MNE' 'GTM' 'ASM' 'KEN'\n",
      " 'NCL' 'STP' 'KIR' 'SDN' 'ATF' 'SLE' 'SLV' 'LAO']\n",
      "\n",
      "Las frecuencias de los valores únicos de la columna: country\n",
      "PRT    26577\n",
      "GBR     6585\n",
      "FRA     5756\n",
      "ESP     4712\n",
      "DEU     3972\n",
      "       ...  \n",
      "LIE        1\n",
      "NIC        1\n",
      "GGY        1\n",
      "FJI        1\n",
      "UMI        1\n",
      "Name: count, Length: 163, dtype: int64 \n",
      "------------------------------------------------------------------------------------------------\n",
      "Los valores únicos de market_segment son: [nan 'Corporate' 'Online TA' 'Direct' 'Offline TA/TO' 'Groups'\n",
      " 'Complementary' 'Undefined' 'Aviation']\n",
      "\n",
      "Las frecuencias de los valores únicos de la columna: market_segment\n",
      "Online TA        28331\n",
      "Offline TA/TO    12116\n",
      "Groups           10008\n",
      "Direct            6354\n",
      "Corporate         2643\n",
      "Complementary      363\n",
      "Aviation           118\n",
      "Undefined            1\n",
      "Name: count, dtype: int64 \n",
      "------------------------------------------------------------------------------------------------\n",
      "Los valores únicos de distribution_channel son: ['Direct' 'Corporate' 'TA/TO' nan 'Undefined' 'GDS']\n",
      "\n",
      "Las frecuencias de los valores únicos de la columna: distribution_channel\n",
      "TA/TO        86822\n",
      "Direct       12997\n",
      "Corporate     5899\n",
      "GDS            176\n",
      "Undefined        5\n",
      "Name: count, dtype: int64 \n",
      "------------------------------------------------------------------------------------------------\n",
      "Los valores únicos de reserved_room_type son: ['C' nan 'A' 'D' 'E' 'G' 'F' 'H' 'L' 'P' 'B']\n",
      "\n",
      "Las frecuencias de los valores únicos de la columna: reserved_room_type\n",
      "A    57202\n",
      "D    12637\n",
      "E     4345\n",
      "F     1907\n",
      "G     1375\n",
      "B      746\n",
      "C      625\n",
      "H      428\n",
      "P        6\n",
      "L        4\n",
      "Name: count, dtype: int64 \n",
      "------------------------------------------------------------------------------------------------\n",
      "Los valores únicos de assigned_room_type son: ['C' 'A' 'D' 'E' 'G' 'F' 'I' 'B' 'H' 'P' 'L' 'K' nan]\n",
      "\n",
      "Las frecuencias de los valores únicos de la columna: assigned_room_type\n",
      "A    74053\n",
      "D    25322\n",
      "E     7806\n",
      "F     3751\n",
      "G     2553\n",
      "C     2375\n",
      "B     2163\n",
      "H      712\n",
      "I      363\n",
      "K      279\n",
      "P       12\n",
      "L        1\n",
      "Name: count, dtype: int64 \n",
      "------------------------------------------------------------------------------------------------\n",
      "Los valores únicos de customer_type son: ['Transient' nan 'Contract' 'Transient-Party' 'Group']\n",
      "\n",
      "Las frecuencias de los valores únicos de la columna: customer_type\n",
      "Transient          70610\n",
      "Transient-Party    19839\n",
      "Contract            3290\n",
      "Group                460\n",
      "Name: count, dtype: int64 \n",
      "------------------------------------------------------------------------------------------------\n",
      "Los valores únicos de reservation_status son: ['Check-Out' 'Canceled' 'No-Show' nan]\n",
      "\n",
      "Las frecuencias de los valores únicos de la columna: reservation_status\n",
      "Check-Out    75166\n",
      "Canceled     43017\n",
      "No-Show       1207\n",
      "Name: count, dtype: int64 \n",
      "------------------------------------------------------------------------------------------------\n",
      "Los valores únicos de reservation_status_date son: ['2015-07-01 00:00:00' '2015-07-02 00:00:00' '2015-07-03 00:00:00'\n",
      " '2015-05-06 00:00:00' '2015-04-22 00:00:00' '2015-06-23 00:00:00'\n",
      " '2015-07-05 00:00:00' nan '2015-07-07 00:00:00' '2015-07-08 00:00:00'\n",
      " '2015-05-11 00:00:00' '2015-07-15 00:00:00' '2015-07-16 00:00:00'\n",
      " '2015-05-29 00:00:00' '2015-05-19 00:00:00' '2015-06-19 00:00:00'\n",
      " '2015-07-06 00:00:00' '2015-05-23 00:00:00' '2015-05-18 00:00:00'\n",
      " '2015-07-09 00:00:00' '2015-06-02 00:00:00' '2015-07-04 00:00:00'\n",
      " '2015-06-29 00:00:00' '2015-06-16 00:00:00' '2015-06-18 00:00:00'\n",
      " '2015-06-12 00:00:00' '2015-06-09 00:00:00' '2015-05-26 00:00:00'\n",
      " '2015-07-11 00:00:00' '2015-07-12 00:00:00' '2015-07-13 00:00:00'\n",
      " '2015-07-17 00:00:00' '2015-04-15 00:00:00' '2015-05-13 00:00:00'\n",
      " '2015-07-10 00:00:00' '2015-05-20 00:00:00' '2015-05-12 00:00:00'\n",
      " '2015-07-14 00:00:00' '2015-06-17 00:00:00' '2015-05-01 00:00:00'\n",
      " '2015-07-19 00:00:00' '2015-06-03 00:00:00' '2015-06-26 00:00:00'\n",
      " '2015-05-14 00:00:00' '2015-07-20 00:00:00' '2015-05-07 00:00:00'\n",
      " '2015-05-28 00:00:00' '2015-04-13 00:00:00' '2015-03-25 00:00:00'\n",
      " '2015-07-21 00:00:00' '2015-06-27 00:00:00' '2015-07-18 00:00:00'\n",
      " '2015-07-23 00:00:00' '2015-06-08 00:00:00' '2030-02-30'\n",
      " '2015-03-05 00:00:00' '2015-06-22 00:00:00' '2015-04-24 00:00:00'\n",
      " '2015-07-22 00:00:00' '2015-05-27 00:00:00' '2015-04-06 00:00:00'\n",
      " '2015-04-11 00:00:00' '2015-07-25 00:00:00' '2015-07-28 00:00:00'\n",
      " '2015-07-29 00:00:00' '2015-07-24 00:00:00' '2015-06-30 00:00:00'\n",
      " '2015-06-24 00:00:00' '2015-07-27 00:00:00' '2015-04-29 00:00:00'\n",
      " '2015-06-04 00:00:00' '2015-06-11 00:00:00' '2015-06-01 00:00:00'\n",
      " '2015-07-26 00:00:00' '2015-08-01 00:00:00' '2015-08-02 00:00:00'\n",
      " '2015-06-15 00:00:00' '2015-04-23 00:00:00' '2015-07-30 00:00:00'\n",
      " '2015-07-31 00:00:00' '2015-06-05 00:00:00' '2015-05-25 00:00:00'\n",
      " '2015-08-03 00:00:00' '2015-04-17 00:00:00' '2015-08-04 00:00:00'\n",
      " '2015-08-06 00:00:00' '2015-05-15 00:00:00' '2015-06-25 00:00:00'\n",
      " '2015-05-09 00:00:00' '2015-03-17 00:00:00' '2015-05-22 00:00:00'\n",
      " '2015-08-07 00:00:00' '2015-04-04 00:00:00' '2015-08-05 00:00:00'\n",
      " '2015-08-08 00:00:00' '2015-08-10 00:00:00' '2015-05-04 00:00:00'\n",
      " '2015-06-06 00:00:00' '2015-08-09 00:00:00' '2015-08-15 00:00:00'\n",
      " '2015-08-11 00:00:00' '2015-03-28 00:00:00' '2015-08-14 00:00:00'\n",
      " '2015-08-12 00:00:00' '2015-08-16 00:00:00' '2015-08-21 00:00:00'\n",
      " '2015-08-13 00:00:00' '2015-08-17 00:00:00' '2015-04-20 00:00:00'\n",
      " '2015-08-18 00:00:00' '2015-08-23 00:00:00' '2015-08-22 00:00:00'\n",
      " '2015-08-19 00:00:00' '2015-08-20 00:00:00' '2015-08-29 00:00:00'\n",
      " '2015-03-31 00:00:00' '2015-05-30 00:00:00' '2015-08-25 00:00:00'\n",
      " '2015-08-24 00:00:00' '2015-03-24 00:00:00' '2015-05-21 00:00:00'\n",
      " '2015-08-28 00:00:00' '2015-08-26 00:00:00' '2015-08-27 00:00:00'\n",
      " '2015-08-30 00:00:00' '2015-08-31 00:00:00' '2015-09-06 00:00:00'\n",
      " '2015-09-03 00:00:00' '2015-09-04 00:00:00' '2015-09-02 00:00:00'\n",
      " '2015-09-01 00:00:00' '2015-09-05 00:00:00' '2015-06-20 00:00:00'\n",
      " '2015-09-07 00:00:00' '2015-09-10 00:00:00' '2015-09-11 00:00:00'\n",
      " '2015-09-08 00:00:00' '2015-09-09 00:00:00' '2015-09-13 00:00:00'\n",
      " '2015-09-15 00:00:00' '2015-04-10 00:00:00' '2015-01-02 00:00:00'\n",
      " '2014-11-18 00:00:00' '2015-09-12 00:00:00' '2015-09-17 00:00:00'\n",
      " '2015-09-14 00:00:00' '2015-04-07 00:00:00' '2015-09-19 00:00:00'\n",
      " '2015-09-16 00:00:00' '2015-09-20 00:00:00' '2015-01-18 00:00:00'\n",
      " '2015-10-23 00:00:00' '2015-01-22 00:00:00' '2015-01-01 00:00:00'\n",
      " '2015-09-22 00:00:00' '2015-09-24 00:00:00' '2015-09-18 00:00:00'\n",
      " '2015-09-21 00:00:00' '2015-09-25 00:00:00' '2015-09-27 00:00:00'\n",
      " '2015-09-28 00:00:00' '2015-10-12 00:00:00' '2015-06-13 00:00:00'\n",
      " '2015-09-29 00:00:00' '2015-09-23 00:00:00' '2015-10-01 00:00:00'\n",
      " '2015-09-26 00:00:00' '2015-04-18 00:00:00' '2015-09-30 00:00:00'\n",
      " '2015-10-02 00:00:00' '2015-10-04 00:00:00' '2015-10-08 00:00:00'\n",
      " '2015-10-03 00:00:00' '2015-10-09 00:00:00' '2015-10-11 00:00:00'\n",
      " '2015-10-05 00:00:00' '2015-10-10 00:00:00' '2015-10-06 00:00:00'\n",
      " '2015-10-07 00:00:00' '2015-10-14 00:00:00' '2015-10-15 00:00:00'\n",
      " '2015-10-18 00:00:00' '2015-10-13 00:00:00' '2015-10-20 00:00:00'\n",
      " '2015-10-19 00:00:00' '2015-10-31 00:00:00' '2015-10-16 00:00:00'\n",
      " '2015-10-21 00:00:00' '2015-10-22 00:00:00' '2015-10-17 00:00:00'\n",
      " '2015-10-24 00:00:00' '2015-10-25 00:00:00' '2015-10-28 00:00:00'\n",
      " '2015-10-27 00:00:00' '2015-10-26 00:00:00' '2015-10-30 00:00:00'\n",
      " '2015-11-05 00:00:00' '2015-10-29 00:00:00' '2015-11-03 00:00:00'\n",
      " '2015-11-07 00:00:00' '2015-11-04 00:00:00' '2015-11-01 00:00:00'\n",
      " '2015-11-17 00:00:00' '2015-11-02 00:00:00' '2015-11-06 00:00:00'\n",
      " '2015-11-08 00:00:00' '2015-11-09 00:00:00' '2015-11-10 00:00:00'\n",
      " '2015-11-15 00:00:00' '2015-11-16 00:00:00' '2015-11-11 00:00:00'\n",
      " '2015-11-12 00:00:00' '2015-11-14 00:00:00' '2015-11-13 00:00:00'\n",
      " '2015-11-18 00:00:00' '2015-11-22 00:00:00' '2015-11-21 00:00:00'\n",
      " '2015-11-20 00:00:00' '2015-11-24 00:00:00' '2015-11-25 00:00:00'\n",
      " '2015-11-23 00:00:00' '2015-11-28 00:00:00' '2015-11-26 00:00:00'\n",
      " '2015-11-19 00:00:00' '2015-11-27 00:00:00' '2015-11-29 00:00:00'\n",
      " '2015-12-04 00:00:00' '2015-12-01 00:00:00' '2015-12-06 00:00:00'\n",
      " '2015-12-08 00:00:00' '2015-12-02 00:00:00' '2015-12-03 00:00:00'\n",
      " '2015-12-31 00:00:00' '2015-12-05 00:00:00' '2015-12-10 00:00:00'\n",
      " '2015-12-17 00:00:00' '2015-11-30 00:00:00' '2015-12-12 00:00:00'\n",
      " '2015-12-07 00:00:00' '2015-12-13 00:00:00' '2015-12-15 00:00:00'\n",
      " '2015-12-16 00:00:00' '2015-12-19 00:00:00' '2015-12-18 00:00:00'\n",
      " '2015-12-26 00:00:00' '2015-12-27 00:00:00' '2016-01-05 00:00:00'\n",
      " '2015-12-22 00:00:00' '2015-12-24 00:00:00' '2015-12-29 00:00:00'\n",
      " '2015-12-20 00:00:00' '2015-12-23 00:00:00' '2015-12-30 00:00:00'\n",
      " '2016-01-02 00:00:00' '2016-01-01 00:00:00' '2015-12-28 00:00:00'\n",
      " '2015-12-25 00:00:00' '2016-01-03 00:00:00' '2016-01-04 00:00:00'\n",
      " '2016-01-11 00:00:00' '2016-01-07 00:00:00' '2015-12-21 00:00:00'\n",
      " '2016-01-09 00:00:00' '2016-01-10 00:00:00' '2016-01-08 00:00:00'\n",
      " '2016-01-06 00:00:00' '2016-01-12 00:00:00' '2016-01-13 00:00:00'\n",
      " '2016-01-23 00:00:00' '2016-01-15 00:00:00' '2016-01-16 00:00:00'\n",
      " '2016-01-17 00:00:00' '2016-01-19 00:00:00' '2016-01-18 00:00:00'\n",
      " '2016-01-21 00:00:00' '2016-01-24 00:00:00' '2016-01-22 00:00:00'\n",
      " '2016-01-29 00:00:00' '2016-01-27 00:00:00' '2016-01-25 00:00:00'\n",
      " '2016-03-08 00:00:00' '2016-01-26 00:00:00' '2016-01-20 00:00:00'\n",
      " '2016-01-30 00:00:00' '2016-02-01 00:00:00' '2016-02-08 00:00:00'\n",
      " '2016-02-07 00:00:00' '2016-01-28 00:00:00' '2016-02-05 00:00:00'\n",
      " '2016-02-03 00:00:00' '2016-02-09 00:00:00' '2016-02-13 00:00:00'\n",
      " '2016-02-10 00:00:00' '2016-02-02 00:00:00' '2016-02-04 00:00:00'\n",
      " '2016-02-12 00:00:00' '2016-02-11 00:00:00' '2016-02-16 00:00:00'\n",
      " '2016-02-14 00:00:00' '2015-12-11 00:00:00' '2016-02-20 00:00:00'\n",
      " '2016-02-15 00:00:00' '2016-02-06 00:00:00' '2016-01-14 00:00:00'\n",
      " '2016-02-17 00:00:00' '2016-02-21 00:00:00' '2016-02-24 00:00:00'\n",
      " '2016-02-25 00:00:00' '2016-02-19 00:00:00' '2016-02-18 00:00:00'\n",
      " '2016-02-26 00:00:00' '2016-02-23 00:00:00' '2016-03-05 00:00:00'\n",
      " '2016-02-22 00:00:00' '2016-02-27 00:00:00' '2016-03-03 00:00:00'\n",
      " '2016-03-24 00:00:00' '2016-02-29 00:00:00' '2016-03-01 00:00:00'\n",
      " '2016-03-02 00:00:00' '2016-03-30 00:00:00' '2016-03-04 00:00:00'\n",
      " '2016-03-07 00:00:00' '2016-03-14 00:00:00' '2016-03-21 00:00:00'\n",
      " '2016-03-09 00:00:00' '2016-03-12 00:00:00' '2016-03-22 00:00:00'\n",
      " '2016-03-10 00:00:00' '2016-03-11 00:00:00' '2016-03-20 00:00:00'\n",
      " '2016-03-15 00:00:00' '2016-03-17 00:00:00' '2016-03-16 00:00:00'\n",
      " '2016-03-19 00:00:00' '2016-03-27 00:00:00' '2016-03-18 00:00:00'\n",
      " '2016-03-26 00:00:00' '2016-03-31 00:00:00' '2016-03-28 00:00:00'\n",
      " '2016-03-29 00:00:00' '2016-04-01 00:00:00' '2016-03-23 00:00:00'\n",
      " '2016-04-02 00:00:00' '2016-03-25 00:00:00' '2016-03-13 00:00:00'\n",
      " '2016-04-04 00:00:00' '2016-04-03 00:00:00' '2016-04-05 00:00:00'\n",
      " '2016-04-08 00:00:00' '2016-04-06 00:00:00' '2016-04-09 00:00:00'\n",
      " '2016-04-12 00:00:00' '2016-04-16 00:00:00' '2016-04-17 00:00:00'\n",
      " '2016-04-14 00:00:00' '2016-04-18 00:00:00' '2016-04-21 00:00:00'\n",
      " '2016-04-19 00:00:00' '2016-04-20 00:00:00' '2016-04-10 00:00:00'\n",
      " '2016-04-13 00:00:00' '2016-04-11 00:00:00' '2016-04-07 00:00:00'\n",
      " '2016-04-15 00:00:00' '2016-04-22 00:00:00' '2016-04-23 00:00:00'\n",
      " '2016-04-26 00:00:00' '2016-04-28 00:00:00' '2016-04-24 00:00:00'\n",
      " '2016-04-25 00:00:00' '2016-04-29 00:00:00' '2016-04-30 00:00:00'\n",
      " '2016-05-10 00:00:00' '2016-04-27 00:00:00' '2016-05-02 00:00:00'\n",
      " '2016-05-07 00:00:00' '2016-05-08 00:00:00' '2016-05-12 00:00:00'\n",
      " '2016-05-01 00:00:00' '2016-05-04 00:00:00' '2016-05-06 00:00:00'\n",
      " '2016-05-03 00:00:00' '2016-05-09 00:00:00' '2016-05-05 00:00:00'\n",
      " '2016-05-13 00:00:00' '2016-05-14 00:00:00' '2016-05-18 00:00:00'\n",
      " '2016-05-19 00:00:00' '2016-05-15 00:00:00' '2016-05-16 00:00:00'\n",
      " '2016-05-11 00:00:00' '2016-05-21 00:00:00' '2016-05-22 00:00:00'\n",
      " '2016-05-20 00:00:00' '2016-05-24 00:00:00' '2016-05-26 00:00:00'\n",
      " '2016-05-23 00:00:00' '2016-05-27 00:00:00' '2016-05-17 00:00:00'\n",
      " '2016-05-25 00:00:00' '2016-05-29 00:00:00' '2016-05-28 00:00:00'\n",
      " '2016-05-30 00:00:00' '2016-05-31 00:00:00' '2016-06-01 00:00:00'\n",
      " '2016-06-03 00:00:00' '2016-06-08 00:00:00' '2016-06-02 00:00:00'\n",
      " '2016-06-05 00:00:00' '2016-06-06 00:00:00' '2016-06-13 00:00:00'\n",
      " '2016-06-07 00:00:00' '2016-06-10 00:00:00' '2016-06-11 00:00:00'\n",
      " '2016-06-12 00:00:00' '2016-06-14 00:00:00' '2016-06-17 00:00:00'\n",
      " '2016-06-04 00:00:00' '2016-06-16 00:00:00' '2016-06-18 00:00:00'\n",
      " '2016-06-21 00:00:00' '2016-06-09 00:00:00' '2016-06-24 00:00:00'\n",
      " '2016-06-20 00:00:00' '2016-06-25 00:00:00' '2016-06-22 00:00:00'\n",
      " '2016-06-26 00:00:00' '2016-06-23 00:00:00' '2016-07-01 00:00:00'\n",
      " '2016-06-15 00:00:00' '2016-06-28 00:00:00' '2016-07-02 00:00:00'\n",
      " '2016-06-19 00:00:00' '2016-06-27 00:00:00' '2016-07-04 00:00:00'\n",
      " '2016-06-30 00:00:00' '2016-07-05 00:00:00' '2016-07-08 00:00:00'\n",
      " '2016-07-09 00:00:00' '2016-07-07 00:00:00' '2016-07-12 00:00:00'\n",
      " '2016-06-29 00:00:00' '2016-07-10 00:00:00' '2016-07-15 00:00:00'\n",
      " '2016-07-03 00:00:00' '2016-07-16 00:00:00' '2016-07-14 00:00:00'\n",
      " '2016-07-18 00:00:00' '2016-07-13 00:00:00' '2016-07-06 00:00:00'\n",
      " '2016-07-21 00:00:00' '2016-07-19 00:00:00' '2016-07-11 00:00:00'\n",
      " '2016-07-20 00:00:00' '2016-07-28 00:00:00' '2016-07-17 00:00:00'\n",
      " '2016-07-25 00:00:00' '2016-07-22 00:00:00' '2016-07-23 00:00:00'\n",
      " '2016-07-29 00:00:00' '2016-08-03 00:00:00' '2016-08-02 00:00:00'\n",
      " '2016-08-04 00:00:00' '2016-08-08 00:00:00' '2016-08-10 00:00:00'\n",
      " '2016-08-01 00:00:00' '2016-08-06 00:00:00' '2016-03-06 00:00:00'\n",
      " '2016-08-05 00:00:00' '2016-07-26 00:00:00' '2016-08-07 00:00:00'\n",
      " '2016-07-24 00:00:00' '2016-08-12 00:00:00' '2016-07-27 00:00:00'\n",
      " '2016-08-13 00:00:00' '2016-08-18 00:00:00' '2016-08-16 00:00:00'\n",
      " '2016-08-15 00:00:00' '2016-08-17 00:00:00' '2016-08-11 00:00:00'\n",
      " '2016-07-31 00:00:00' '2016-07-30 00:00:00' '2030-11-31'\n",
      " '2016-09-01 00:00:00' '2016-08-23 00:00:00' '2016-08-20 00:00:00'\n",
      " '2016-08-21 00:00:00' '2016-09-04 00:00:00' '2016-08-22 00:00:00'\n",
      " '2016-08-27 00:00:00' '2016-08-25 00:00:00' '2016-08-09 00:00:00'\n",
      " '2016-08-26 00:00:00' '2016-09-05 00:00:00' '2016-08-24 00:00:00'\n",
      " '2016-09-10 00:00:00' '2016-08-29 00:00:00' '2016-09-09 00:00:00'\n",
      " '2016-08-30 00:00:00' '2016-08-19 00:00:00' '2016-09-13 00:00:00'\n",
      " '2016-08-31 00:00:00' '2016-09-12 00:00:00' '2016-09-15 00:00:00'\n",
      " '2016-08-14 00:00:00' '2016-09-02 00:00:00' '2016-09-14 00:00:00'\n",
      " '2016-09-08 00:00:00' '2016-09-19 00:00:00' '2016-09-16 00:00:00'\n",
      " '2016-09-07 00:00:00' '2016-09-21 00:00:00' '2016-09-06 00:00:00'\n",
      " '2016-09-22 00:00:00' '2016-09-17 00:00:00' '2016-09-20 00:00:00'\n",
      " '2016-09-03 00:00:00' '2016-09-26 00:00:00' '2016-09-23 00:00:00'\n",
      " '2016-09-18 00:00:00' '2016-10-02 00:00:00' '2016-10-01 00:00:00'\n",
      " '2016-09-27 00:00:00' '2016-09-25 00:00:00' '2016-10-05 00:00:00'\n",
      " '2016-09-11 00:00:00' '2016-09-30 00:00:00' '2016-10-09 00:00:00'\n",
      " '2016-10-03 00:00:00' '2016-10-06 00:00:00' '2016-10-11 00:00:00'\n",
      " '2016-09-24 00:00:00' '2016-09-29 00:00:00' '2016-10-13 00:00:00'\n",
      " '2016-09-28 00:00:00' '2016-10-08 00:00:00' '2016-10-07 00:00:00'\n",
      " '2016-08-28 00:00:00' '2016-10-17 00:00:00' '2016-10-18 00:00:00'\n",
      " '2016-10-10 00:00:00' '2016-10-16 00:00:00' '2016-10-04 00:00:00'\n",
      " '2016-10-15 00:00:00' '2016-10-19 00:00:00' '2016-10-21 00:00:00'\n",
      " '2016-10-12 00:00:00' '2016-10-24 00:00:00' '2016-10-26 00:00:00'\n",
      " '2016-10-23 00:00:00' '2016-10-20 00:00:00' '2016-10-25 00:00:00'\n",
      " '2016-10-27 00:00:00' '2016-10-28 00:00:00' '2016-10-30 00:00:00'\n",
      " '2016-10-29 00:00:00' '2029-04-31' '2016-11-01 00:00:00'\n",
      " '2016-11-04 00:00:00' '2016-10-14 00:00:00' '2016-11-07 00:00:00'\n",
      " '2016-11-03 00:00:00' '2016-11-10 00:00:00' '2016-11-14 00:00:00'\n",
      " '2016-11-02 00:00:00' '2016-10-31 00:00:00' '2016-11-11 00:00:00'\n",
      " '2016-11-08 00:00:00' '2016-11-05 00:00:00' '2016-11-25 00:00:00'\n",
      " '2016-11-09 00:00:00' '2016-11-20 00:00:00' '2016-11-21 00:00:00'\n",
      " '2016-10-22 00:00:00' '2016-11-22 00:00:00' '2016-11-16 00:00:00'\n",
      " '2016-11-23 00:00:00' '2016-11-17 00:00:00' '2016-11-06 00:00:00'\n",
      " '2016-11-15 00:00:00' '2016-11-13 00:00:00' '2016-11-12 00:00:00'\n",
      " '2016-11-27 00:00:00' '2016-11-19 00:00:00' '2016-11-30 00:00:00'\n",
      " '2016-12-02 00:00:00' '2030-06-31' '2016-12-04 00:00:00'\n",
      " '2016-11-29 00:00:00' '2016-12-07 00:00:00' '2016-11-28 00:00:00'\n",
      " '2016-12-03 00:00:00' '2016-12-06 00:00:00' '2016-11-24 00:00:00'\n",
      " '2016-12-08 00:00:00' '2016-12-05 00:00:00' '2016-12-10 00:00:00'\n",
      " '2016-11-18 00:00:00' '2016-12-13 00:00:00' '2016-12-14 00:00:00'\n",
      " '2016-12-16 00:00:00' '2016-12-15 00:00:00' '2016-12-17 00:00:00'\n",
      " '2016-12-19 00:00:00' '2016-12-21 00:00:00' '2016-12-20 00:00:00'\n",
      " '2016-12-22 00:00:00' '2016-12-23 00:00:00' '2016-12-24 00:00:00'\n",
      " '2016-12-01 00:00:00' '2016-12-27 00:00:00' '2016-12-29 00:00:00'\n",
      " '2016-12-30 00:00:00' '2016-12-12 00:00:00' '2017-01-02 00:00:00'\n",
      " '2016-12-11 00:00:00' '2017-01-04 00:00:00' '2017-01-01 00:00:00'\n",
      " '2016-12-26 00:00:00' '2017-01-06 00:00:00' '2016-12-28 00:00:00'\n",
      " '2016-12-18 00:00:00' '2017-01-10 00:00:00' '2017-01-11 00:00:00'\n",
      " '2017-01-07 00:00:00' '2017-01-12 00:00:00' '2017-01-16 00:00:00'\n",
      " '2017-01-14 00:00:00' '2017-01-13 00:00:00' '2017-01-05 00:00:00'\n",
      " '2017-01-03 00:00:00' '2017-01-17 00:00:00' '2016-12-09 00:00:00'\n",
      " '2017-01-20 00:00:00' '2017-01-26 00:00:00' '2016-12-31 00:00:00'\n",
      " '2017-01-23 00:00:00' '2017-01-28 00:00:00' '2017-01-19 00:00:00'\n",
      " '2017-01-27 00:00:00' '2017-01-25 00:00:00' '2017-01-24 00:00:00'\n",
      " '2017-01-29 00:00:00' '2017-01-18 00:00:00' '2016-12-25 00:00:00'\n",
      " '2017-01-15 00:00:00' '2017-01-21 00:00:00' '2017-02-01 00:00:00'\n",
      " '2017-02-02 00:00:00' '2017-01-31 00:00:00' '2017-02-03 00:00:00'\n",
      " '2017-02-04 00:00:00' '2017-02-06 00:00:00' '2017-02-07 00:00:00'\n",
      " '2017-02-08 00:00:00' '2017-01-30 00:00:00' '2017-02-09 00:00:00'\n",
      " '2017-01-09 00:00:00' '2017-02-11 00:00:00' '2017-02-10 00:00:00'\n",
      " '2017-02-12 00:00:00' '2017-02-13 00:00:00' '2017-02-14 00:00:00'\n",
      " '2017-02-16 00:00:00' '2017-02-17 00:00:00' '2017-02-18 00:00:00'\n",
      " '2017-02-19 00:00:00' '2017-02-20 00:00:00' '2017-02-15 00:00:00'\n",
      " '2017-02-21 00:00:00' '2017-02-22 00:00:00' '2017-02-26 00:00:00'\n",
      " '2017-02-23 00:00:00' '2017-02-24 00:00:00' '2017-02-25 00:00:00'\n",
      " '2017-02-28 00:00:00' '2017-03-05 00:00:00' '2017-02-27 00:00:00'\n",
      " '2017-03-03 00:00:00' '2017-03-06 00:00:00' '2017-03-02 00:00:00'\n",
      " '2017-03-08 00:00:00' '2017-03-09 00:00:00' '2017-03-10 00:00:00'\n",
      " '2017-03-07 00:00:00' '2017-03-12 00:00:00' '2017-03-13 00:00:00'\n",
      " '2017-03-14 00:00:00' '2017-03-01 00:00:00' '2017-03-18 00:00:00'\n",
      " '2017-03-17 00:00:00' '2017-03-24 00:00:00' '2017-03-22 00:00:00'\n",
      " '2017-03-26 00:00:00' '2017-03-27 00:00:00' '2017-03-11 00:00:00'\n",
      " '2017-03-28 00:00:00' '2017-03-29 00:00:00' '2017-03-30 00:00:00'\n",
      " '2017-03-31 00:00:00' '2017-03-19 00:00:00' '2017-01-22 00:00:00'\n",
      " '2017-04-02 00:00:00' '2017-03-20 00:00:00' '2017-04-03 00:00:00'\n",
      " '2017-01-08 00:00:00' '2017-03-23 00:00:00' '2017-04-05 00:00:00'\n",
      " '2017-03-15 00:00:00' '2017-04-07 00:00:00' '2017-03-25 00:00:00'\n",
      " '2017-04-08 00:00:00' '2017-04-06 00:00:00' '2017-03-21 00:00:00'\n",
      " '2017-04-04 00:00:00' '2017-04-10 00:00:00' '2017-02-05 00:00:00'\n",
      " '2017-04-01 00:00:00' '2017-04-11 00:00:00' '2017-04-13 00:00:00'\n",
      " '2017-04-15 00:00:00' '2017-04-12 00:00:00' '2017-03-04 00:00:00'\n",
      " '2017-04-19 00:00:00' '2017-04-22 00:00:00' '2017-04-20 00:00:00'\n",
      " '2017-05-02 00:00:00' '2017-04-09 00:00:00' '2017-04-23 00:00:00'\n",
      " '2017-04-24 00:00:00' '2017-04-16 00:00:00' '2017-04-28 00:00:00'\n",
      " '2017-04-18 00:00:00' '2017-04-26 00:00:00' '2017-04-25 00:00:00'\n",
      " '2017-04-17 00:00:00' '2017-04-21 00:00:00' '2017-05-03 00:00:00'\n",
      " '2017-05-04 00:00:00' '2017-03-16 00:00:00' '2017-05-05 00:00:00'\n",
      " '2017-04-29 00:00:00' '2017-04-14 00:00:00' '2017-05-08 00:00:00'\n",
      " '2017-04-27 00:00:00' '2017-05-01 00:00:00' '2017-05-10 00:00:00'\n",
      " '2017-05-13 00:00:00' '2017-05-06 00:00:00' '2017-05-14 00:00:00'\n",
      " '2017-05-16 00:00:00' '2017-04-30 00:00:00' '2017-05-15 00:00:00'\n",
      " '2017-05-07 00:00:00' '2017-05-09 00:00:00' '2017-05-17 00:00:00'\n",
      " '2017-05-21 00:00:00' '2017-05-12 00:00:00' '2017-05-22 00:00:00'\n",
      " '2017-05-24 00:00:00' '2017-05-23 00:00:00' '2017-05-25 00:00:00'\n",
      " '2017-05-11 00:00:00' '2017-05-26 00:00:00' '2017-05-28 00:00:00'\n",
      " '2017-05-27 00:00:00' '2017-05-29 00:00:00' '2017-05-31 00:00:00'\n",
      " '2017-05-20 00:00:00' '2017-06-01 00:00:00' '2017-05-30 00:00:00'\n",
      " '2017-06-02 00:00:00' '2016-11-26 00:00:00' '2017-06-04 00:00:00'\n",
      " '2017-06-06 00:00:00' '2017-06-07 00:00:00' '2017-05-18 00:00:00'\n",
      " '2017-06-09 00:00:00' '2017-06-10 00:00:00' '2017-06-11 00:00:00'\n",
      " '2017-05-19 00:00:00' '2017-06-12 00:00:00' '2017-06-14 00:00:00'\n",
      " '2017-06-16 00:00:00' '2017-06-13 00:00:00' '2017-06-08 00:00:00'\n",
      " '2017-06-03 00:00:00' '2017-06-05 00:00:00' '2017-06-24 00:00:00'\n",
      " '2017-06-20 00:00:00' '2017-06-19 00:00:00' '2017-06-21 00:00:00'\n",
      " '2017-06-26 00:00:00' '2017-06-27 00:00:00' '2017-06-22 00:00:00'\n",
      " '2017-06-28 00:00:00' '2017-06-29 00:00:00' '2017-06-30 00:00:00'\n",
      " '2017-06-18 00:00:00' '2017-07-04 00:00:00' '2017-07-08 00:00:00'\n",
      " '2017-07-03 00:00:00' '2017-07-07 00:00:00' '2017-07-01 00:00:00'\n",
      " '2017-07-06 00:00:00' '2017-07-11 00:00:00' '2017-07-12 00:00:00'\n",
      " '2017-06-23 00:00:00' '2017-07-13 00:00:00' '2017-06-15 00:00:00'\n",
      " '2017-07-02 00:00:00' '2017-07-10 00:00:00' '2017-07-14 00:00:00'\n",
      " '2017-07-15 00:00:00' '2017-07-16 00:00:00' '2017-07-18 00:00:00'\n",
      " '2017-07-17 00:00:00' '2017-07-19 00:00:00' '2017-07-20 00:00:00'\n",
      " '2017-07-05 00:00:00' '2017-06-25 00:00:00' '2017-06-17 00:00:00'\n",
      " '2017-07-24 00:00:00' '2017-07-26 00:00:00' '2017-07-09 00:00:00'\n",
      " '2017-07-28 00:00:00' '2017-07-31 00:00:00' '2017-07-29 00:00:00'\n",
      " '2017-07-22 00:00:00' '2017-08-02 00:00:00' '2017-08-01 00:00:00'\n",
      " '2017-08-03 00:00:00' '2017-08-04 00:00:00' '2017-07-21 00:00:00'\n",
      " '2017-07-27 00:00:00' '2017-07-25 00:00:00' '2017-07-23 00:00:00'\n",
      " '2017-08-09 00:00:00' '2017-08-10 00:00:00' '2017-07-30 00:00:00'\n",
      " '2017-08-07 00:00:00' '2017-08-13 00:00:00' '2017-08-14 00:00:00'\n",
      " '2017-08-08 00:00:00' '2017-08-16 00:00:00' '2017-08-05 00:00:00'\n",
      " '2017-08-17 00:00:00' '2017-08-15 00:00:00' '2017-08-18 00:00:00'\n",
      " '2017-08-20 00:00:00' '2017-08-22 00:00:00' '2017-08-06 00:00:00'\n",
      " '2017-08-26 00:00:00' '2017-08-23 00:00:00' '2017-08-11 00:00:00'\n",
      " '2017-08-27 00:00:00' '2017-08-21 00:00:00' '2017-08-29 00:00:00'\n",
      " '2017-08-31 00:00:00' '2017-08-12 00:00:00' '2017-08-19 00:00:00'\n",
      " '2017-08-25 00:00:00' '2016-01-31 00:00:00' '2017-09-01 00:00:00'\n",
      " '2017-08-28 00:00:00' '2015-04-03 00:00:00' '2015-01-21 00:00:00'\n",
      " '2015-01-28 00:00:00' '2015-01-29 00:00:00' '2015-01-30 00:00:00'\n",
      " '2015-02-02 00:00:00' '2015-02-05 00:00:00' '2015-02-09 00:00:00'\n",
      " '2015-02-10 00:00:00' '2015-02-11 00:00:00' '2015-02-12 00:00:00'\n",
      " '2015-02-19 00:00:00' '2015-02-20 00:00:00' '2015-02-23 00:00:00'\n",
      " '2015-02-24 00:00:00' '2015-02-25 00:00:00' '2015-02-26 00:00:00'\n",
      " '2015-02-27 00:00:00' '2015-03-03 00:00:00' '2015-03-04 00:00:00'\n",
      " '2015-03-06 00:00:00' '2015-03-09 00:00:00' '2015-03-12 00:00:00'\n",
      " '2015-03-18 00:00:00' '2015-04-02 00:00:00' '2015-06-14 00:00:00'\n",
      " '2015-04-08 00:00:00' '2015-04-16 00:00:00' '2015-04-25 00:00:00'\n",
      " '2015-04-28 00:00:00' '2015-05-08 00:00:00' '2015-05-16 00:00:00'\n",
      " '2017-09-06 00:00:00' '2030-09-31' '2016-02-28 00:00:00'\n",
      " '2015-12-09 00:00:00' '2015-12-14 00:00:00' '2025-02-30' '2029-11-31'\n",
      " '2023-06-31' '2029-06-31' '2017-09-09 00:00:00' '2017-09-02 00:00:00'\n",
      " '2017-08-24 00:00:00' '2029-02-30' '2022-09-31' '2017-08-30 00:00:00'\n",
      " '2017-09-03 00:00:00' '2017-09-04 00:00:00' '2017-09-05 00:00:00'\n",
      " '2017-09-07 00:00:00' '2017-09-08 00:00:00' '2017-09-10 00:00:00'\n",
      " '2017-09-14 00:00:00' '2015-04-30 00:00:00' '2015-04-21 00:00:00'\n",
      " '2015-04-05 00:00:00' '2015-03-13 00:00:00' '2015-05-05 00:00:00'\n",
      " '2024-09-31' '2015-03-29 00:00:00' '2015-06-10 00:00:00'\n",
      " '2015-04-27 00:00:00' '2028-04-31' '2024-06-31' '2025-11-31' '2026-09-31'\n",
      " '2027-09-31' '2023-11-31' '2028-09-31' '2028-02-30' '2026-06-31'\n",
      " '2024-04-31' '2023-04-31' '2014-10-17 00:00:00' '2025-04-31'\n",
      " '2015-01-20 00:00:00' '2015-02-17 00:00:00' '2015-03-10 00:00:00'\n",
      " '2015-03-23 00:00:00' '2015-04-14 00:00:00' '2027-04-31' '2022-06-31'\n",
      " '2017-12-06 00:00:00' '2017-10-02 00:00:00' '2017-10-05 00:00:00'\n",
      " '2017-11-01 00:00:00' '2017-12-01 00:00:00' '2017-12-05 00:00:00'\n",
      " '2017-11-07 00:00:00' '2017-10-06 00:00:00' '2017-10-08 00:00:00'\n",
      " '2017-11-05 00:00:00' '2024-02-30' '2025-09-31' '2017-12-02 00:00:00'\n",
      " '2017-10-01 00:00:00' '2017-11-02 00:00:00' '2017-11-03 00:00:00'\n",
      " '2017-10-03 00:00:00' '2017-12-03 00:00:00' '2017-11-04 00:00:00'\n",
      " '2017-10-04 00:00:00' '2017-12-04 00:00:00' '2027-02-30' '2030-04-31'\n",
      " '2017-11-06 00:00:00' '2017-10-07 00:00:00' '2017-12-07 00:00:00'\n",
      " '2017-11-08 00:00:00' '2017-12-08 00:00:00' '2023-09-31' '2027-06-31'\n",
      " '2026-11-31' '2028-11-31' '2028-06-31' '2026-04-31' '2022-11-31'\n",
      " '2025-06-31' '2029-09-31' '2023-02-30' '2026-02-30' '2022-04-31'\n",
      " '2022-02-30' '2027-11-31' '2024-11-31']\n",
      "\n",
      "Las frecuencias de los valores únicos de la columna: reservation_status_date\n",
      "2015-10-21 00:00:00    1298\n",
      "2015-07-06 00:00:00     732\n",
      "2016-11-25 00:00:00     692\n",
      "2015-01-01 00:00:00     678\n",
      "2016-01-18 00:00:00     562\n",
      "                       ... \n",
      "2029-04-31                1\n",
      "2022-09-31                1\n",
      "2029-02-30                1\n",
      "2029-06-31                1\n",
      "2024-11-31                1\n",
      "Name: count, Length: 991, dtype: int64 \n",
      "------------------------------------------------------------------------------------------------\n"
     ]
    }
   ],
   "source": [
    "# creamos una variable con los nombres de las columnas del DataFrame de las variables categóricas\n",
    "columnas_categoricas = [\"hotel\", \"is_canceled\", \"arrival_date_month\", \"meal\", \"country\", \"market_segment\", \"distribution_channel\", \"reserved_room_type\", \"assigned_room_type\", \"customer_type\", \"reservation_status\", \"reservation_status_date\"]\n",
    "\n",
    "print(f\"Las columnas del DataFrame de variables categóricas son {columnas_categoricas}\")\n",
    "print(\"--------------------------------------------------------------------------------\")\n",
    "# empezamos a iterar por cada una de las columnas para sacar sus valores únicos y sus frecuencias\n",
    "for columna in columnas_categoricas:\n",
    "    print(f\"Los valores únicos de {columna} son: {data[columna].unique()}\\n\")\n",
    "    print(f\"Las frecuencias de los valores únicos de la columna: {data[columna].value_counts()} \")\n",
    "    print(\"------------------------------------------------------------------------------------------------\")"
   ]
  },
  {
   "cell_type": "code",
   "execution_count": 72,
   "metadata": {},
   "outputs": [
    {
     "name": "stdout",
     "output_type": "stream",
     "text": [
      "Las columnas categóricas que tienen nulos son : \n",
      " \n",
      "Index(['hotel', 'is_canceled', 'arrival_date_month', 'meal', 'country',\n",
      "       'market_segment', 'distribution_channel', 'reserved_room_type',\n",
      "       'assigned_room_type', 'customer_type', 'reservation_status',\n",
      "       'reservation_status_date', '0'],\n",
      "      dtype='object')\n"
     ]
    }
   ],
   "source": [
    "# Obtenemos la lista de columnas categóricas que tienen nulos\n",
    "nulos_esta_cat = data[data.columns[data.isnull().any()]].select_dtypes(include = \"O\").columns\n",
    "print(\"Las columnas categóricas que tienen nulos son : \\n \")\n",
    "print(nulos_esta_cat)"
   ]
  },
  {
   "cell_type": "code",
   "execution_count": 73,
   "metadata": {},
   "outputs": [
    {
     "name": "stdout",
     "output_type": "stream",
     "text": [
      "La distribución de las categorías para la columna HOTEL\n"
     ]
    },
    {
     "data": {
      "text/plain": [
       "hotel\n",
       "City Hotel      0.433789\n",
       "Resort Hotel    0.219054\n",
       "Name: count, dtype: float64"
      ]
     },
     "metadata": {},
     "output_type": "display_data"
    },
    {
     "name": "stdout",
     "output_type": "stream",
     "text": [
      "........................\n",
      "La distribución de las categorías para la columna IS_CANCELED\n"
     ]
    },
    {
     "data": {
      "text/plain": [
       "is_canceled\n",
       "False    0.411019\n",
       "True     0.241824\n",
       "Name: count, dtype: float64"
      ]
     },
     "metadata": {},
     "output_type": "display_data"
    },
    {
     "name": "stdout",
     "output_type": "stream",
     "text": [
      "........................\n",
      "La distribución de las categorías para la columna ARRIVAL_DATE_MONTH\n"
     ]
    },
    {
     "data": {
      "text/plain": [
       "arrival_date_month\n",
       "August       0.075882\n",
       "July         0.069232\n",
       "May          0.064475\n",
       "October      0.061025\n",
       "April        0.060636\n",
       "June         0.059816\n",
       "September    0.057459\n",
       "November     0.037151\n",
       "December     0.037074\n",
       "March        0.032382\n",
       "February     0.026783\n",
       "3            0.021173\n",
       "January      0.019581\n",
       "2            0.017334\n",
       "1            0.012839\n",
       "Name: count, dtype: float64"
      ]
     },
     "metadata": {},
     "output_type": "display_data"
    },
    {
     "name": "stdout",
     "output_type": "stream",
     "text": [
      "........................\n",
      "La distribución de las categorías para la columna MEAL\n"
     ]
    },
    {
     "data": {
      "text/plain": [
       "meal\n",
       "BB           0.504765\n",
       "HB           0.079086\n",
       "SC           0.058236\n",
       "Undefined    0.006392\n",
       "FB           0.004364\n",
       "Name: count, dtype: float64"
      ]
     },
     "metadata": {},
     "output_type": "display_data"
    },
    {
     "name": "stdout",
     "output_type": "stream",
     "text": [
      "........................\n",
      "La distribución de las categorías para la columna COUNTRY\n"
     ]
    },
    {
     "data": {
      "text/plain": [
       "country\n",
       "PRT    0.145327\n",
       "GBR    0.036008\n",
       "FRA    0.031475\n",
       "ESP    0.025766\n",
       "DEU    0.021720\n",
       "         ...   \n",
       "LIE    0.000005\n",
       "NIC    0.000005\n",
       "GGY    0.000005\n",
       "FJI    0.000005\n",
       "UMI    0.000005\n",
       "Name: count, Length: 163, dtype: float64"
      ]
     },
     "metadata": {},
     "output_type": "display_data"
    },
    {
     "name": "stdout",
     "output_type": "stream",
     "text": [
      "........................\n",
      "La distribución de las categorías para la columna MARKET_SEGMENT\n"
     ]
    },
    {
     "data": {
      "text/plain": [
       "market_segment\n",
       "Online TA        0.154918\n",
       "Offline TA/TO    0.066252\n",
       "Groups           0.054725\n",
       "Direct           0.034745\n",
       "Corporate        0.014452\n",
       "Complementary    0.001985\n",
       "Aviation         0.000645\n",
       "Undefined        0.000005\n",
       "Name: count, dtype: float64"
      ]
     },
     "metadata": {},
     "output_type": "display_data"
    },
    {
     "name": "stdout",
     "output_type": "stream",
     "text": [
      "........................\n",
      "La distribución de las categorías para la columna DISTRIBUTION_CHANNEL\n"
     ]
    },
    {
     "data": {
      "text/plain": [
       "distribution_channel\n",
       "TA/TO        0.474756\n",
       "Direct       0.071070\n",
       "Corporate    0.032257\n",
       "GDS          0.000962\n",
       "Undefined    0.000027\n",
       "Name: count, dtype: float64"
      ]
     },
     "metadata": {},
     "output_type": "display_data"
    },
    {
     "name": "stdout",
     "output_type": "stream",
     "text": [
      "........................\n",
      "La distribución de las categorías para la columna RESERVED_ROOM_TYPE\n"
     ]
    },
    {
     "data": {
      "text/plain": [
       "reserved_room_type\n",
       "A    0.312789\n",
       "D    0.069101\n",
       "E    0.023759\n",
       "F    0.010428\n",
       "G    0.007519\n",
       "B    0.004079\n",
       "C    0.003418\n",
       "H    0.002340\n",
       "P    0.000033\n",
       "L    0.000022\n",
       "Name: count, dtype: float64"
      ]
     },
     "metadata": {},
     "output_type": "display_data"
    },
    {
     "name": "stdout",
     "output_type": "stream",
     "text": [
      "........................\n",
      "La distribución de las categorías para la columna ASSIGNED_ROOM_TYPE\n"
     ]
    },
    {
     "data": {
      "text/plain": [
       "assigned_room_type\n",
       "A    0.404933\n",
       "D    0.138465\n",
       "E    0.042684\n",
       "F    0.020511\n",
       "G    0.013960\n",
       "C    0.012987\n",
       "B    0.011828\n",
       "H    0.003893\n",
       "I    0.001985\n",
       "K    0.001526\n",
       "P    0.000066\n",
       "L    0.000005\n",
       "Name: count, dtype: float64"
      ]
     },
     "metadata": {},
     "output_type": "display_data"
    },
    {
     "name": "stdout",
     "output_type": "stream",
     "text": [
      "........................\n",
      "La distribución de las categorías para la columna CUSTOMER_TYPE\n"
     ]
    },
    {
     "data": {
      "text/plain": [
       "customer_type\n",
       "Transient          0.386107\n",
       "Transient-Party    0.108483\n",
       "Contract           0.017990\n",
       "Group              0.002515\n",
       "Name: count, dtype: float64"
      ]
     },
     "metadata": {},
     "output_type": "display_data"
    },
    {
     "name": "stdout",
     "output_type": "stream",
     "text": [
      "........................\n",
      "La distribución de las categorías para la columna RESERVATION_STATUS\n"
     ]
    },
    {
     "data": {
      "text/plain": [
       "reservation_status\n",
       "Check-Out    0.411019\n",
       "Canceled     0.235224\n",
       "No-Show      0.006600\n",
       "Name: count, dtype: float64"
      ]
     },
     "metadata": {},
     "output_type": "display_data"
    },
    {
     "name": "stdout",
     "output_type": "stream",
     "text": [
      "........................\n",
      "La distribución de las categorías para la columna RESERVATION_STATUS_DATE\n"
     ]
    },
    {
     "data": {
      "text/plain": [
       "reservation_status_date\n",
       "2015-10-21 00:00:00    0.007098\n",
       "2015-07-06 00:00:00    0.004003\n",
       "2016-11-25 00:00:00    0.003784\n",
       "2015-01-01 00:00:00    0.003707\n",
       "2016-01-18 00:00:00    0.003073\n",
       "                         ...   \n",
       "2029-04-31             0.000005\n",
       "2022-09-31             0.000005\n",
       "2029-02-30             0.000005\n",
       "2029-06-31             0.000005\n",
       "2024-11-31             0.000005\n",
       "Name: count, Length: 991, dtype: float64"
      ]
     },
     "metadata": {},
     "output_type": "display_data"
    },
    {
     "name": "stdout",
     "output_type": "stream",
     "text": [
      "........................\n",
      "La distribución de las categorías para la columna 0\n"
     ]
    },
    {
     "data": {
      "text/plain": [
       "0\n",
       "0.0        0.069883\n",
       "2.0        0.012921\n",
       "1.0        0.011598\n",
       "A          0.009684\n",
       "BB         0.006873\n",
       "             ...   \n",
       "48.2       0.000005\n",
       "149.5      0.000005\n",
       "68.07      0.000005\n",
       "153.07     0.000005\n",
       "4/02/17    0.000005\n",
       "Name: count, Length: 1588, dtype: float64"
      ]
     },
     "metadata": {},
     "output_type": "display_data"
    },
    {
     "name": "stdout",
     "output_type": "stream",
     "text": [
      "........................\n"
     ]
    }
   ],
   "source": [
    "# sacamos el 'value_counts()' de cada una de las columnas categóricas que tienen nulos para saber como es la distribución de sus categorías\n",
    "for col in nulos_esta_cat:\n",
    "    print(f\"La distribución de las categorías para la columna {col.upper()}\")\n",
    "    display(data[col].value_counts() / data.shape[0])  # display es una función utilizada para mostrar objetos de manera más legible en Jupyter Notebooks o entornos similares. \n",
    "    print(\"........................\")"
   ]
  }
 ],
 "metadata": {
  "kernelspec": {
   "display_name": "base",
   "language": "python",
   "name": "python3"
  },
  "language_info": {
   "codemirror_mode": {
    "name": "ipython",
    "version": 3
   },
   "file_extension": ".py",
   "mimetype": "text/x-python",
   "name": "python",
   "nbconvert_exporter": "python",
   "pygments_lexer": "ipython3",
   "version": "3.11.9"
  }
 },
 "nbformat": 4,
 "nbformat_minor": 2
}
