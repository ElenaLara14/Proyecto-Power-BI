{
 "cells": [
  {
   "cell_type": "code",
   "execution_count": 5,
   "metadata": {},
   "outputs": [],
   "source": [
    "import pandas as pd\n",
    "import numpy as np\n",
    "\n",
    "from sklearn.impute import SimpleImputer\n",
    "from sklearn.experimental import enable_iterative_imputer\n",
    "from sklearn.impute import IterativeImputer\n",
    "from sklearn.impute import KNNImputer\n",
    "\n",
    "# >> Visualization\n",
    "import seaborn as sns\n",
    "import matplotlib.pyplot as plt\n",
    "\n",
    "import warnings\n",
    "from scipy.stats import chi2_contingency\n",
    "from IPython.display import display\n",
    "from itertools import combinations\n",
    "from scipy.stats import kstest, spearmanr, pearsonr\n",
    "warnings.filterwarnings(\"ignore\")\n",
    "pd.set_option('display.max_columns', None) # para poder visualizar todas las columnas de los DataFrames"
   ]
  },
  {
   "cell_type": "code",
   "execution_count": 6,
   "metadata": {},
   "outputs": [],
   "source": [
    "data = pd.read_csv(\"finanzas-hotel-bookings.csv\", index_col=0)"
   ]
  },
  {
   "cell_type": "code",
   "execution_count": 7,
   "metadata": {},
   "outputs": [
    {
     "data": {
      "text/plain": [
       "arrival_date_month\n",
       "August       13877\n",
       "July         12661\n",
       "May          11791\n",
       "October      11160\n",
       "April        11089\n",
       "June         10939\n",
       "September    10508\n",
       "November      6794\n",
       "December      6780\n",
       "March         5922\n",
       "February      4898\n",
       "3             3872\n",
       "January       3581\n",
       "2             3170\n",
       "1             2348\n",
       "Name: count, dtype: int64"
      ]
     },
     "execution_count": 7,
     "metadata": {},
     "output_type": "execute_result"
    }
   ],
   "source": [
    "data['arrival_date_month'].value_counts()"
   ]
  },
  {
   "cell_type": "markdown",
   "metadata": {},
   "source": [
    "### Eliminar columnas "
   ]
  },
  {
   "cell_type": "code",
   "execution_count": 8,
   "metadata": {},
   "outputs": [],
   "source": [
    "# Eliminar múltiples columnas\n",
    "data = data.drop(['arrival_date_week_number', '0', 'company'], axis=1)"
   ]
  },
  {
   "cell_type": "code",
   "execution_count": 9,
   "metadata": {},
   "outputs": [
    {
     "data": {
      "text/plain": [
       "(182877, 29)"
      ]
     },
     "execution_count": 9,
     "metadata": {},
     "output_type": "execute_result"
    }
   ],
   "source": [
    "data.shape"
   ]
  },
  {
   "cell_type": "markdown",
   "metadata": {},
   "source": [
    "### Nulos"
   ]
  },
  {
   "cell_type": "code",
   "execution_count": 10,
   "metadata": {},
   "outputs": [
    {
     "data": {
      "text/html": [
       "<div>\n",
       "<style scoped>\n",
       "    .dataframe tbody tr th:only-of-type {\n",
       "        vertical-align: middle;\n",
       "    }\n",
       "\n",
       "    .dataframe tbody tr th {\n",
       "        vertical-align: top;\n",
       "    }\n",
       "\n",
       "    .dataframe thead th {\n",
       "        text-align: right;\n",
       "    }\n",
       "</style>\n",
       "<table border=\"1\" class=\"dataframe\">\n",
       "  <thead>\n",
       "    <tr style=\"text-align: right;\">\n",
       "      <th></th>\n",
       "      <th>hotel</th>\n",
       "      <th>is_canceled</th>\n",
       "      <th>lead_time</th>\n",
       "      <th>arrival_date_year</th>\n",
       "      <th>arrival_date_month</th>\n",
       "      <th>arrival_date_day_of_month</th>\n",
       "      <th>stays_in_weekend_nights</th>\n",
       "      <th>stays_in_week_nights</th>\n",
       "      <th>adults</th>\n",
       "      <th>children</th>\n",
       "      <th>babies</th>\n",
       "      <th>meal</th>\n",
       "      <th>country</th>\n",
       "      <th>market_segment</th>\n",
       "      <th>distribution_channel</th>\n",
       "      <th>is_repeated_guest</th>\n",
       "      <th>previous_cancellations</th>\n",
       "      <th>previous_bookings_not_canceled</th>\n",
       "      <th>reserved_room_type</th>\n",
       "      <th>assigned_room_type</th>\n",
       "      <th>booking_changes</th>\n",
       "      <th>agent</th>\n",
       "      <th>days_in_waiting_list</th>\n",
       "      <th>customer_type</th>\n",
       "      <th>adr</th>\n",
       "      <th>required_car_parking_spaces</th>\n",
       "      <th>total_of_special_requests</th>\n",
       "      <th>reservation_status</th>\n",
       "      <th>reservation_status_date</th>\n",
       "    </tr>\n",
       "  </thead>\n",
       "  <tbody>\n",
       "    <tr>\n",
       "      <th>0</th>\n",
       "      <td>Resort Hotel</td>\n",
       "      <td>False</td>\n",
       "      <td>342.0</td>\n",
       "      <td>2015.0</td>\n",
       "      <td>July</td>\n",
       "      <td>1.0</td>\n",
       "      <td>0.0</td>\n",
       "      <td>0.0</td>\n",
       "      <td>2.0</td>\n",
       "      <td>NaN</td>\n",
       "      <td>0.0</td>\n",
       "      <td>BB</td>\n",
       "      <td>PRT</td>\n",
       "      <td>NaN</td>\n",
       "      <td>Direct</td>\n",
       "      <td>0.0</td>\n",
       "      <td>NaN</td>\n",
       "      <td>0.0</td>\n",
       "      <td>C</td>\n",
       "      <td>C</td>\n",
       "      <td>3.0</td>\n",
       "      <td>NaN</td>\n",
       "      <td>0.0</td>\n",
       "      <td>Transient</td>\n",
       "      <td>0.0</td>\n",
       "      <td>0.0</td>\n",
       "      <td>0.0</td>\n",
       "      <td>Check-Out</td>\n",
       "      <td>2015-07-01 00:00:00</td>\n",
       "    </tr>\n",
       "  </tbody>\n",
       "</table>\n",
       "</div>"
      ],
      "text/plain": [
       "          hotel is_canceled  lead_time  arrival_date_year arrival_date_month  \\\n",
       "0  Resort Hotel       False      342.0             2015.0               July   \n",
       "\n",
       "   arrival_date_day_of_month  stays_in_weekend_nights  stays_in_week_nights  \\\n",
       "0                        1.0                      0.0                   0.0   \n",
       "\n",
       "   adults  children  babies meal country market_segment distribution_channel  \\\n",
       "0     2.0       NaN     0.0   BB     PRT            NaN               Direct   \n",
       "\n",
       "   is_repeated_guest  previous_cancellations  previous_bookings_not_canceled  \\\n",
       "0                0.0                     NaN                             0.0   \n",
       "\n",
       "  reserved_room_type assigned_room_type  booking_changes  agent  \\\n",
       "0                  C                  C              3.0    NaN   \n",
       "\n",
       "   days_in_waiting_list customer_type  adr  required_car_parking_spaces  \\\n",
       "0                   0.0     Transient  0.0                          0.0   \n",
       "\n",
       "   total_of_special_requests reservation_status reservation_status_date  \n",
       "0                        0.0          Check-Out     2015-07-01 00:00:00  "
      ]
     },
     "execution_count": 10,
     "metadata": {},
     "output_type": "execute_result"
    }
   ],
   "source": [
    "data.head(1)"
   ]
  },
  {
   "cell_type": "code",
   "execution_count": 11,
   "metadata": {},
   "outputs": [
    {
     "name": "stdout",
     "output_type": "stream",
     "text": [
      "Las columnas categóricas que tienen nulos son : \n",
      "\n",
      "Index(['hotel', 'is_canceled', 'arrival_date_month', 'meal', 'country',\n",
      "       'market_segment', 'distribution_channel', 'reserved_room_type',\n",
      "       'assigned_room_type', 'customer_type', 'reservation_status',\n",
      "       'reservation_status_date'],\n",
      "      dtype='object')\n",
      "\n",
      "Después del reemplazo usando 'fillna' quedan los siguientes nulos en columnas de moda:\n",
      "reserved_room_type    0\n",
      "assigned_room_type    0\n",
      "dtype: int64\n",
      "Después del reemplazo usando 'fillna' quedan los siguientes nulos en columnas de 'Unknown':\n",
      "arrival_date_month    0\n",
      "is_repeated_guest     0\n",
      "hotel                 0\n",
      "is_canceled           0\n",
      "country               0\n",
      "customer_type         0\n",
      "reservation_status    0\n",
      "arrival_date_month    0\n",
      "dtype: int64\n",
      "\n",
      "Después del reemplazo usando 'fillna' quedan los siguientes nulos en columnas de 'Undefined':\n",
      "meal                    0\n",
      "market_segment          0\n",
      "distribution_channel    0\n",
      "dtype: int64\n"
     ]
    }
   ],
   "source": [
    "def variables_categoricas(data):\n",
    "   \n",
    "    # Identificar columnas categóricas con valores nulos\n",
    "    nulos_categoricas = data[data.columns[data.isnull().any()]].select_dtypes(include=\"O\").columns\n",
    "    print(\"Las columnas categóricas que tienen nulos son : \\n\")\n",
    "    print(nulos_categoricas)\n",
    "\n",
    "    # Listas de columnas para reemplazar por la moda y por \"Unknown\", \n",
    "    columnas_moda = ['reserved_room_type', 'assigned_room_type']\n",
    "    columnas_desconocido = ['arrival_date_month','is_repeated_guest','hotel','is_canceled','country','customer_type','reservation_status','arrival_date_month']\n",
    "    columnas_no_definido = ['meal', 'market_segment','distribution_channel']\n",
    "\n",
    "    # Reemplazar nulos con la moda \n",
    "    for columna in columnas_moda:\n",
    "        moda = data[columna].mode()[0]  \n",
    "        data[columna] = data[columna].fillna(moda)  \n",
    "\n",
    "    # Reemplazar nulos con \"Unknown\" \n",
    "    for columna in columnas_desconocido:\n",
    "        data[columna] = data[columna].fillna(\"Unknown\")\n",
    "\n",
    "    # Reemplazar nulos con \"Undefined\" \n",
    "    for columna in columnas_no_definido:\n",
    "        data[columna] = data[columna].fillna(\"Undefined\")\n",
    "    \n",
    "    # Verificar si se han eliminado los nulos en las columnas imputadas con moda\n",
    "    print(\"\\nDespués del reemplazo usando 'fillna' quedan los siguientes nulos en columnas de moda:\")\n",
    "    print(data[columnas_moda].isnull().sum())\n",
    "    \n",
    "    # Verificar si se han eliminado los nulos en las columnas de \"Unknown\"\n",
    "    print(\"Después del reemplazo usando 'fillna' quedan los siguientes nulos en columnas de 'Unknown':\")\n",
    "    print(data[columnas_desconocido].isnull().sum())\n",
    "\n",
    "    # Verificar si se han eliminado los nulos en las columnas de \"Undefined\"\n",
    "    print(\"\\nDespués del reemplazo usando 'fillna' quedan los siguientes nulos en columnas de 'Undefined':\")\n",
    "    print(data[columnas_no_definido].isnull().sum())\n",
    "    \n",
    "    return data\n",
    "\n",
    "# Imputar valores nulos en variables categóricas\n",
    "df_categoricas = variables_categoricas(data)"
   ]
  },
  {
   "cell_type": "code",
   "execution_count": 12,
   "metadata": {},
   "outputs": [
    {
     "name": "stdout",
     "output_type": "stream",
     "text": [
      "Las columnas numéricas que tienen nulos son : \n",
      "\n",
      "Index(['lead_time', 'arrival_date_year', 'arrival_date_day_of_month',\n",
      "       'stays_in_weekend_nights', 'stays_in_week_nights', 'adults', 'children',\n",
      "       'babies', 'previous_cancellations', 'previous_bookings_not_canceled',\n",
      "       'booking_changes', 'agent', 'days_in_waiting_list', 'adr',\n",
      "       'required_car_parking_spaces', 'total_of_special_requests'],\n",
      "      dtype='object')\n",
      "lead_time                         34.661002\n",
      "arrival_date_year                 64.550490\n",
      "arrival_date_day_of_month         34.780754\n",
      "stays_in_weekend_nights           34.661002\n",
      "stays_in_week_nights              34.661002\n",
      "adults                            34.694904\n",
      "children                          62.104584\n",
      "babies                            34.693264\n",
      "previous_cancellations            58.317339\n",
      "previous_bookings_not_canceled    34.715683\n",
      "booking_changes                   34.700372\n",
      "agent                             43.650650\n",
      "days_in_waiting_list              34.715683\n",
      "adr                               34.715683\n",
      "required_car_parking_spaces       34.715683\n",
      "total_of_special_requests         34.715683\n",
      "dtype: float64\n",
      "Después de reemplazar nulos con la media:\n",
      "0\n",
      "\n",
      "Después de reemplazar nulos con la mediana:\n",
      "stays_in_weekend_nights    0\n",
      "stays_in_week_nights       0\n",
      "dtype: int64\n",
      "\n",
      "Después de reemplazar nulos con 0:\n",
      "arrival_date_year                 0\n",
      "arrival_date_day_of_month         0\n",
      "adults                            0\n",
      "children                          0\n",
      "babies                            0\n",
      "previous_cancellations            0\n",
      "previous_bookings_not_canceled    0\n",
      "booking_changes                   0\n",
      "agent                             0\n",
      "days_in_waiting_list              0\n",
      "required_car_parking_spaces       0\n",
      "total_of_special_requests         0\n",
      "dtype: int64\n",
      "Después del 'Iterative' tenemos: \n",
      "0 nulos\n"
     ]
    }
   ],
   "source": [
    "def variables_numericas(data):\n",
    "   \n",
    "    # Identificar columnas numéricas con valores nulos\n",
    "    nulos_numericas = data[data.columns[data.isnull().any()]].select_dtypes(include=np.number).columns\n",
    "    print(\"Las columnas numéricas que tienen nulos son : \\n\")\n",
    "    print(nulos_numericas)\n",
    "\n",
    "    # Mostrar el porcentaje de valores nulos \n",
    "    print(data[nulos_numericas].isnull().sum() / data.shape[0] * 100)\n",
    "   \n",
    "    # Reemplazar nulos con la media \n",
    "    media = data[['adr']].mean()\n",
    "    data[['adr']] = data[['adr']].fillna(media)\n",
    "\n",
    "    # Verificar que los nulos en 'adr' fueron reemplazados\n",
    "    print(\"Después de reemplazar nulos con la media:\")\n",
    "    print(data['adr'].isnull().sum())\n",
    "    \n",
    "    # Reemplazar nulos con la mediana\n",
    "    columnas_mediana =['stays_in_weekend_nights','stays_in_week_nights']\n",
    "    mediana = data[columnas_mediana].median()\n",
    "    data[columnas_mediana] = data[columnas_mediana].fillna(mediana)\n",
    "    # Verificar que los nulos en las columnas de mediana fueron reemplazados\n",
    "    print(\"\\nDespués de reemplazar nulos con la mediana:\")\n",
    "    print(data[columnas_mediana].isnull().sum())\n",
    "\n",
    "    # Reemplazar nulos con fillna 0\n",
    "    columnas_fillna_0=[\n",
    "                        'arrival_date_year',\n",
    "                        'arrival_date_day_of_month',\n",
    "                        'adults',\n",
    "                        'children',\n",
    "                        'babies',\n",
    "                        'previous_cancellations',\n",
    "                        'previous_bookings_not_canceled',\n",
    "                        'booking_changes',\n",
    "                        'agent',\n",
    "                        'days_in_waiting_list',\n",
    "                        'required_car_parking_spaces',\n",
    "                        'total_of_special_requests']\n",
    "    \n",
    "    data[columnas_fillna_0] = data[columnas_fillna_0].fillna(0)\n",
    "\n",
    "   # Verificar que los nulos en las columnas de fillna(0) fueron reemplazados\n",
    "    print(\"\\nDespués de reemplazar nulos con 0:\")\n",
    "    print(data[columnas_fillna_0].isnull().sum())\n",
    "\n",
    "    # Copiar el DataFrame \n",
    "    data_copia = data.copy()\n",
    "\n",
    "    # Configurar y aplicar IterativeImputer directamente\n",
    "    imputer_iterative = IterativeImputer(max_iter=20, random_state=42)\n",
    "    data_copia['lead_time'] = imputer_iterative.fit_transform(data_copia[['lead_time']])\n",
    "\n",
    "    # Verificar si se han eliminado los nulos\n",
    "    print(f\"Después del 'Iterative' tenemos: \\n{data_copia['lead_time'].isnull().sum()} nulos\")\n",
    "\n",
    "    \n",
    "    # Guardar el DataFrame en un archivo CSV\n",
    "    data_copia.to_csv(\"finanzas-hotel-bookings_nonulls.csv\", index=False)\n",
    "\n",
    "    return data_copia\n",
    "\n",
    "# Imputar valores nulos en variables numéricas\n",
    "data_final = variables_numericas(df_categoricas)"
   ]
  },
  {
   "cell_type": "code",
   "execution_count": 13,
   "metadata": {},
   "outputs": [
    {
     "data": {
      "text/plain": [
       "hotel                                 0\n",
       "is_canceled                           0\n",
       "lead_time                             0\n",
       "arrival_date_year                     0\n",
       "arrival_date_month                    0\n",
       "arrival_date_day_of_month             0\n",
       "stays_in_weekend_nights               0\n",
       "stays_in_week_nights                  0\n",
       "adults                                0\n",
       "children                              0\n",
       "babies                                0\n",
       "meal                                  0\n",
       "country                               0\n",
       "market_segment                        0\n",
       "distribution_channel                  0\n",
       "is_repeated_guest                     0\n",
       "previous_cancellations                0\n",
       "previous_bookings_not_canceled        0\n",
       "reserved_room_type                    0\n",
       "assigned_room_type                    0\n",
       "booking_changes                       0\n",
       "agent                                 0\n",
       "days_in_waiting_list                  0\n",
       "customer_type                         0\n",
       "adr                                   0\n",
       "required_car_parking_spaces           0\n",
       "total_of_special_requests             0\n",
       "reservation_status                    0\n",
       "reservation_status_date           76363\n",
       "dtype: int64"
      ]
     },
     "execution_count": 13,
     "metadata": {},
     "output_type": "execute_result"
    }
   ],
   "source": [
    "data_final.isnull().sum()"
   ]
  },
  {
   "cell_type": "code",
   "execution_count": 14,
   "metadata": {},
   "outputs": [
    {
     "data": {
      "text/plain": [
       "np.int64(70373)"
      ]
     },
     "execution_count": 14,
     "metadata": {},
     "output_type": "execute_result"
    }
   ],
   "source": [
    "#duplicados del csv\n",
    "data_final.duplicated().sum()"
   ]
  },
  {
   "cell_type": "code",
   "execution_count": 15,
   "metadata": {},
   "outputs": [],
   "source": [
    "# Lista de columnas a transformar de float64 a int64\n",
    "columnas_a_convertir = [\n",
    "    'lead_time',\n",
    "    'arrival_date_year',\n",
    "    'arrival_date_day_of_month',\n",
    "    'stays_in_weekend_nights',\n",
    "    'stays_in_week_nights',\n",
    "    'adults',\n",
    "    'children',\n",
    "    'babies',\n",
    "    'previous_cancellations',\n",
    "    'previous_bookings_not_canceled',\n",
    "    'booking_changes',\n",
    "    'agent',\n",
    "    'days_in_waiting_list',\n",
    "    'required_car_parking_spaces',\n",
    "    'total_of_special_requests'\n",
    "]\n",
    "\n",
    "# Convertir las columnas de float64 a int64\n",
    "data_final[columnas_a_convertir] = data_final[columnas_a_convertir].astype('int64')\n"
   ]
  },
  {
   "cell_type": "code",
   "execution_count": 16,
   "metadata": {},
   "outputs": [],
   "source": [
    "# Convertir valores de 1.0 a 'Yes' y 0.0 a 'No'\n",
    "data_final['is_repeated_guest'] = data_final['is_repeated_guest'].apply(lambda x: 'Yes' if x == 1.0 else 'No')\n"
   ]
  },
  {
   "cell_type": "code",
   "execution_count": 17,
   "metadata": {},
   "outputs": [],
   "source": [
    "# Convertir la columna de \"Yes\"/\"No\" a tipo categórico\n",
    "data_final['is_repeated_guest'] = data_final['is_repeated_guest'].astype('category')\n"
   ]
  },
  {
   "cell_type": "code",
   "execution_count": 18,
   "metadata": {},
   "outputs": [
    {
     "data": {
      "text/plain": [
       "array(['July', 'August', 'September', 'October', 'November', 'December',\n",
       "       '1', 'January', 'February', '2', '3', 'March', 'April', 'May',\n",
       "       'June', 'Unknown'], dtype=object)"
      ]
     },
     "execution_count": 18,
     "metadata": {},
     "output_type": "execute_result"
    }
   ],
   "source": [
    "data_final['arrival_date_month'].unique()"
   ]
  },
  {
   "cell_type": "code",
   "execution_count": 19,
   "metadata": {},
   "outputs": [],
   "source": [
    "#Cambiar numeros por meses\n",
    "# Diccionario de mapeo de números a nombres de meses\n",
    "meses = {\n",
    "    '1': 'January',\n",
    "    '2': 'February',\n",
    "    '3': 'March',\n",
    "    'January': 'January', \n",
    "    'February': 'February', \n",
    "    'March': 'March', \n",
    "    'April': 'April', \n",
    "    'May': 'May', \n",
    "    'June': 'June', \n",
    "    'July': 'July', \n",
    "    'August': 'August', \n",
    "    'September': 'September', \n",
    "    'October': 'October', \n",
    "    'November': 'November', \n",
    "    'December': 'December', \n",
    "    'Unknown': 'Unknown'\n",
    "}\n",
    "\n",
    "data_final['arrival_date_month'] = data_final['arrival_date_month'].map(meses)\n"
   ]
  },
  {
   "cell_type": "code",
   "execution_count": 20,
   "metadata": {},
   "outputs": [
    {
     "data": {
      "text/plain": [
       "array(['July', 'August', 'September', 'October', 'November', 'December',\n",
       "       'January', 'February', 'March', 'April', 'May', 'June', 'Unknown'],\n",
       "      dtype=object)"
      ]
     },
     "execution_count": 20,
     "metadata": {},
     "output_type": "execute_result"
    }
   ],
   "source": [
    "data_final['arrival_date_month'].unique()"
   ]
  }
 ],
 "metadata": {
  "kernelspec": {
   "display_name": "promoI",
   "language": "python",
   "name": "python3"
  },
  "language_info": {
   "codemirror_mode": {
    "name": "ipython",
    "version": 3
   },
   "file_extension": ".py",
   "mimetype": "text/x-python",
   "name": "python",
   "nbconvert_exporter": "python",
   "pygments_lexer": "ipython3",
   "version": "3.9.19"
  }
 },
 "nbformat": 4,
 "nbformat_minor": 2
}
